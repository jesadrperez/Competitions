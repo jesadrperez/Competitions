{
 "cells": [
  {
   "cell_type": "markdown",
   "metadata": {},
   "source": [
    "# Predicting Blight Violations\n",
    "\n",
    "_This project was completed as a part of the Applied Data Science with Python Specialization from Coursera._\n",
    "\n",
    "In this project, we will evaluate the performance and predictive power of a model that has been trained and tested on data collected from Blight Violation Notices (BVN), or Blight Tickets, that have been issued to property owners who have violated City of Detroit ordinances that govern how property owners must maintain the exterior of their property. Blight Tickets are issued by city inspectors, police officers, neighborhood city hall managers and other city officials who investigate complaints of blight and are managed by the Department of Administrative Hearings.\n",
    "\n",
    "The target variable is compliance, which is __True__ if the ticket was paid early, on time, or within one month of the hearing data, __False__ if the ticket was paid after the hearing date or not at all, and __Null__ if the violator was found not responsible. Compliance is not avaliable in the dataset so it must be calculated.\n",
    "\n",
    "The dataset for this project originates from the City of Detroit's Open Data Portal initiative and is updated daily. For this project the dataset spans tickets issued from March 2004 to March 2018. The dataset is avaliable at: https://data.detroitmi.gov/Property-Parcels/Blight-Violations/ti6p-wcg4"
   ]
  },
  {
   "cell_type": "markdown",
   "metadata": {},
   "source": [
    "## Pre-Processing\n",
    "\n",
    "Imports the raw data, calculates compliance for each ticket, removes features that cause data leakage, and seperates the data into two dataset based on when the violation occured. Violations issused before 2017 will be used to train and test the model, and tickets issued on and after 2017 will be used to validate the model."
   ]
  },
  {
   "cell_type": "code",
   "execution_count": 1,
   "metadata": {},
   "outputs": [],
   "source": [
    "# Common imports\n",
    "import os\n",
    "import numpy as np\n",
    "import pandas as pd\n",
    "import datetime\n",
    "import matplotlib\n",
    "import matplotlib.pyplot as plt\n",
    "import seaborn as sns\n",
    "from sklearn.model_selection import train_test_split\n",
    "from sklearn.neural_network import MLPClassifier\n",
    "from sklearn import metrics\n",
    "from sklearn.metrics import roc_curve, auc\n",
    "from sklearn.preprocessing import normalize\n",
    "from scipy.sparse import coo_matrix, hstack\n",
    "\n",
    "# To make the notebook's output stable across runs\n",
    "random_seed = 12062017\n",
    "np.random.seed(random_seed)\n",
    "\n",
    "matplotlib.style.use('ggplot') \n",
    "%matplotlib inline"
   ]
  },
  {
   "cell_type": "code",
   "execution_count": 2,
   "metadata": {},
   "outputs": [],
   "source": [
    "from sklearn.base import BaseEstimator, TransformerMixin\n",
    "from sklearn.utils import check_array\n",
    "from sklearn.preprocessing import LabelEncoder\n",
    "from scipy import sparse\n",
    "\n",
    "class CategoricalEncoder(BaseEstimator, TransformerMixin):\n",
    "    \"\"\"Encode categorical features as a numeric array.\n",
    "    The input to this transformer should be a matrix of integers or strings,\n",
    "    denoting the values taken on by categorical (discrete) features.\n",
    "    The features can be encoded using a one-hot aka one-of-K scheme\n",
    "    (``encoding='onehot'``, the default) or converted to ordinal integers\n",
    "    (``encoding='ordinal'``).\n",
    "    This encoding is needed for feeding categorical data to many scikit-learn\n",
    "    estimators, notably linear models and SVMs with the standard kernels.\n",
    "    Read more in the :ref:`User Guide <preprocessing_categorical_features>`.\n",
    "    Parameters\n",
    "    ----------\n",
    "    encoding : str, 'onehot', 'onehot-dense' or 'ordinal'\n",
    "        The type of encoding to use (default is 'onehot'):\n",
    "        - 'onehot': encode the features using a one-hot aka one-of-K scheme\n",
    "          (or also called 'dummy' encoding). This creates a binary column for\n",
    "          each category and returns a sparse matrix.\n",
    "        - 'onehot-dense': the same as 'onehot' but returns a dense array\n",
    "          instead of a sparse matrix.\n",
    "        - 'ordinal': encode the features as ordinal integers. This results in\n",
    "          a single column of integers (0 to n_categories - 1) per feature.\n",
    "    categories : 'auto' or a list of lists/arrays of values.\n",
    "        Categories (unique values) per feature:\n",
    "        - 'auto' : Determine categories automatically from the training data.\n",
    "        - list : ``categories[i]`` holds the categories expected in the ith\n",
    "          column. The passed categories are sorted before encoding the data\n",
    "          (used categories can be found in the ``categories_`` attribute).\n",
    "    dtype : number type, default np.float64\n",
    "        Desired dtype of output.\n",
    "    handle_unknown : 'error' (default) or 'ignore'\n",
    "        Whether to raise an error or ignore if a unknown categorical feature is\n",
    "        present during transform (default is to raise). When this is parameter\n",
    "        is set to 'ignore' and an unknown category is encountered during\n",
    "        transform, the resulting one-hot encoded columns for this feature\n",
    "        will be all zeros.\n",
    "        Ignoring unknown categories is not supported for\n",
    "        ``encoding='ordinal'``.\n",
    "    Attributes\n",
    "    ----------\n",
    "    categories_ : list of arrays\n",
    "        The categories of each feature determined during fitting. When\n",
    "        categories were specified manually, this holds the sorted categories\n",
    "        (in order corresponding with output of `transform`).\n",
    "    Examples\n",
    "    --------\n",
    "    Given a dataset with three features and two samples, we let the encoder\n",
    "    find the maximum value per feature and transform the data to a binary\n",
    "    one-hot encoding.\n",
    "    >>> from sklearn.preprocessing import CategoricalEncoder\n",
    "    >>> enc = CategoricalEncoder(handle_unknown='ignore')\n",
    "    >>> enc.fit([[0, 0, 3], [1, 1, 0], [0, 2, 1], [1, 0, 2]])\n",
    "    ... # doctest: +ELLIPSIS\n",
    "    CategoricalEncoder(categories='auto', dtype=<... 'numpy.float64'>,\n",
    "              encoding='onehot', handle_unknown='ignore')\n",
    "    >>> enc.transform([[0, 1, 1], [1, 0, 4]]).toarray()\n",
    "    array([[ 1.,  0.,  0.,  1.,  0.,  0.,  1.,  0.,  0.],\n",
    "           [ 0.,  1.,  1.,  0.,  0.,  0.,  0.,  0.,  0.]])\n",
    "    See also\n",
    "    --------\n",
    "    sklearn.preprocessing.OneHotEncoder : performs a one-hot encoding of\n",
    "      integer ordinal features. The ``OneHotEncoder assumes`` that input\n",
    "      features take on values in the range ``[0, max(feature)]`` instead of\n",
    "      using the unique values.\n",
    "    sklearn.feature_extraction.DictVectorizer : performs a one-hot encoding of\n",
    "      dictionary items (also handles string-valued features).\n",
    "    sklearn.feature_extraction.FeatureHasher : performs an approximate one-hot\n",
    "      encoding of dictionary items or strings.\n",
    "    \"\"\"\n",
    "\n",
    "    def __init__(self, encoding='onehot', categories='auto', dtype=np.float64,\n",
    "                 handle_unknown='error'):\n",
    "        self.encoding = encoding\n",
    "        self.categories = categories\n",
    "        self.dtype = dtype\n",
    "        self.handle_unknown = handle_unknown\n",
    "\n",
    "    def fit(self, X, y=None):\n",
    "        \"\"\"Fit the CategoricalEncoder to X.\n",
    "        Parameters\n",
    "        ----------\n",
    "        X : array-like, shape [n_samples, n_feature]\n",
    "            The data to determine the categories of each feature.\n",
    "        Returns\n",
    "        -------\n",
    "        self\n",
    "        \"\"\"\n",
    "\n",
    "        if self.encoding not in ['onehot', 'onehot-dense', 'ordinal']:\n",
    "            template = (\"encoding should be either 'onehot', 'onehot-dense' \"\n",
    "                        \"or 'ordinal', got %s\")\n",
    "            raise ValueError(template % self.handle_unknown)\n",
    "\n",
    "        if self.handle_unknown not in ['error', 'ignore']:\n",
    "            template = (\"handle_unknown should be either 'error' or \"\n",
    "                        \"'ignore', got %s\")\n",
    "            raise ValueError(template % self.handle_unknown)\n",
    "\n",
    "        if self.encoding == 'ordinal' and self.handle_unknown == 'ignore':\n",
    "            raise ValueError(\"handle_unknown='ignore' is not supported for\"\n",
    "                             \" encoding='ordinal'\")\n",
    "\n",
    "        X = check_array(X, dtype=np.object, accept_sparse='csc', copy=True)\n",
    "        n_samples, n_features = X.shape\n",
    "\n",
    "        self._label_encoders_ = [LabelEncoder() for _ in range(n_features)]\n",
    "\n",
    "        for i in range(n_features):\n",
    "            le = self._label_encoders_[i]\n",
    "            Xi = X[:, i]\n",
    "            if self.categories == 'auto':\n",
    "                le.fit(Xi)\n",
    "            else:\n",
    "                valid_mask = np.in1d(Xi, self.categories[i])\n",
    "                if not np.all(valid_mask):\n",
    "                    if self.handle_unknown == 'error':\n",
    "                        diff = np.unique(Xi[~valid_mask])\n",
    "                        msg = (\"Found unknown categories {0} in column {1}\"\n",
    "                               \" during fit\".format(diff, i))\n",
    "                        raise ValueError(msg)\n",
    "                le.classes_ = np.array(np.sort(self.categories[i]))\n",
    "\n",
    "        self.categories_ = [le.classes_ for le in self._label_encoders_]\n",
    "\n",
    "        return self\n",
    "\n",
    "    def transform(self, X):\n",
    "        \"\"\"Transform X using one-hot encoding.\n",
    "        Parameters\n",
    "        ----------\n",
    "        X : array-like, shape [n_samples, n_features]\n",
    "            The data to encode.\n",
    "        Returns\n",
    "        -------\n",
    "        X_out : sparse matrix or a 2-d array\n",
    "            Transformed input.\n",
    "        \"\"\"\n",
    "        X = check_array(X, accept_sparse='csc', dtype=np.object, copy=True)\n",
    "        n_samples, n_features = X.shape\n",
    "        X_int = np.zeros_like(X, dtype=np.int)\n",
    "        X_mask = np.ones_like(X, dtype=np.bool)\n",
    "\n",
    "        for i in range(n_features):\n",
    "            valid_mask = np.in1d(X[:, i], self.categories_[i])\n",
    "\n",
    "            if not np.all(valid_mask):\n",
    "                if self.handle_unknown == 'error':\n",
    "                    diff = np.unique(X[~valid_mask, i])\n",
    "                    msg = (\"Found unknown categories {0} in column {1}\"\n",
    "                           \" during transform\".format(diff, i))\n",
    "                    raise ValueError(msg)\n",
    "                else:\n",
    "                    # Set the problematic rows to an acceptable value and\n",
    "                    # continue `The rows are marked `X_mask` and will be\n",
    "                    # removed later.\n",
    "                    X_mask[:, i] = valid_mask\n",
    "                    X[:, i][~valid_mask] = self.categories_[i][0]\n",
    "            X_int[:, i] = self._label_encoders_[i].transform(X[:, i])\n",
    "\n",
    "        if self.encoding == 'ordinal':\n",
    "            return X_int.astype(self.dtype, copy=False)\n",
    "\n",
    "        mask = X_mask.ravel()\n",
    "        n_values = [cats.shape[0] for cats in self.categories_]\n",
    "        n_values = np.array([0] + n_values)\n",
    "        indices = np.cumsum(n_values)\n",
    "\n",
    "        column_indices = (X_int + indices[:-1]).ravel()[mask]\n",
    "        row_indices = np.repeat(np.arange(n_samples, dtype=np.int32),\n",
    "                                n_features)[mask]\n",
    "        data = np.ones(n_samples * n_features)[mask]\n",
    "\n",
    "        out = sparse.csc_matrix((data, (row_indices, column_indices)),\n",
    "                                shape=(n_samples, indices[-1]),\n",
    "                                dtype=self.dtype).tocsr()\n",
    "        if self.encoding == 'onehot-dense':\n",
    "            return out.toarray()\n",
    "        else:\n",
    "            return out"
   ]
  },
  {
   "cell_type": "code",
   "execution_count": 3,
   "metadata": {},
   "outputs": [],
   "source": [
    "def load_blight_raw(blight_path):\n",
    "    '''\n",
    "    Loads the raw blight_violations.csv\n",
    "    Returns a pandas dataframe.\n",
    "    '''\n",
    "    csv_path = os.path.join(blight_path, \"Blight_Violations.csv\")\n",
    "    blight_raw = pd.read_csv(csv_path, encoding='ISO-8859-1')\n",
    "    print(\"RAW Blight Violations dataset has {} observations with {} features each.\".format(*blight_raw.shape))\n",
    "    return blight_raw\n",
    "\n",
    "def pre_processing(blight_df):\n",
    "    ''' \n",
    "    Takes blight panda dataframe and makes column names more reabable, sets ticket_id as index, creates compliance (the \n",
    "    prediction variable), and creates compliance_details (explains why a tickets was labeled as complantent or non-complantent).\n",
    "    Returns a panda dataframe.\n",
    "    '''\n",
    "    # Makes column names more reabable\n",
    "    # Gets columns from dataframe\n",
    "    columns_names = pd.Series(blight_df.columns)\n",
    "    # Removes parentheses, removes right spaces\n",
    "    columns_names = columns_names.str.split('(').str[0].str.strip()\n",
    "    # Coverts column names to lowercase and replaces spaces with underscores\n",
    "    columns_names = columns_names.str.lower().str.replace(' ', '_')\n",
    "    blight_df.columns = columns_names\n",
    "    # Sets ticket_id as index\n",
    "    blight_df.set_index('ticket_id', inplace=True)\n",
    "    # Defines prediction variable compliance and helper variable compliance_detail\n",
    "    # The values of these variables are NOT correct\n",
    "    blight_df['compliance'] = 0\n",
    "    blight_df['compliance_detail'] = np.NaN    \n",
    "    return blight_df\n",
    "\n",
    "def clean_up(blight_df):\n",
    "    # Removes instances where 'ticket_issued_date' is not in (2000, 2017) \n",
    "    blight_df = blight_df[blight_df['violation_date'].str.contains('[0-9]{2}/[0-9]{2}/[20]{2}[0-9]{2}') == True]\n",
    "    # Converts 'ticket_issued_date' to datetime\n",
    "    blight_df.loc[:, 'violation_date'] = pd.to_datetime(blight_df['violation_date'])\n",
    "    # Converts 'payment_date' to datetime\n",
    "    blight_df.loc[:, 'payment_date'] = pd.to_datetime(blight_df['payment_date'].str.extract('([0-9]{2}/[0-9]{2}/20{1}[0-9]{2})')) \n",
    "    # Converts bad values in 'ticket_issued_time' to NaNs (Dataset error removed by publisher)\n",
    "    #blight_df.loc[blight_df['violation_date'] == '00000000000000.000', 'violation_date'] = np.nan\n",
    "    # Converts 'ticket_issued_time' to datetime.time\n",
    "    blight_df.loc[:, 'ticket_issued_time'] = pd.DatetimeIndex(blight_df['ticket_issued_time']).time\n",
    "    # Converts 'hearing_time' to datetime.time\n",
    "    blight_df.loc[:, 'hearing_time'] = pd.DatetimeIndex(blight_df['hearing_time']).time\n",
    "    # Remove \"$\" from 'judgement_amount'\n",
    "    blight_df.loc[:, 'judgment_amount'] = blight_df['judgment_amount'].str.strip('$')    \n",
    "    # Converts 'judgment_amount' to float    \n",
    "    blight_df.loc[:, 'judgment_amount'] = blight_df['judgment_amount'].astype(float)\n",
    "    # Removes \"$\" from 'payment_amount' and converts it to float\n",
    "    blight_df.loc[:, 'payment_amount'] = blight_df['payment_amount'].str.strip('$').astype(float)\n",
    "    # Removes \"$\" from 'fine_amount' and converts it to float\n",
    "    blight_df.loc[:, 'fine_amount'] = blight_df['fine_amount'].str.strip('$').astype(float)\n",
    "    # Removes \"$\" from 'admin_fee' and converts it to float\n",
    "    blight_df.loc[:, 'admin_fee'] = blight_df['admin_fee'].str.strip('$').astype(float)\n",
    "    # Removes \"$\" from 'state_fee' and converts it to float\n",
    "    blight_df.loc[:, 'state_fee'] = blight_df['state_fee'].str.strip('$').astype(float)\n",
    "    # Removes \"$\" from 'late_fee' and converts it to float\n",
    "    blight_df.loc[:, 'late_fee']   = blight_df['late_fee'].str.strip('$').astype(float)\n",
    "    # Removes \"$\" from 'discount_amount' and converts it to float\n",
    "    blight_df.loc[:, 'discount_amount'] = blight_df['discount_amount'].str.strip('$').astype(float)    \n",
    "    return blight_df\n",
    "\n",
    "def null_compliance(blight_df):\n",
    "    '''\n",
    "    Compliance = np.NaN\n",
    "    Tickets that cannot be classified as compliant or non-compliant because they were ruled as not responsible in disposition\n",
    "    or they are awaiting judgement.\n",
    "    Returns a pandas dataframe\n",
    "    '''\n",
    "    # Dispositions that are ruled as not responsible or are still pending\n",
    "    null_dispositions = ['Not responsible by Dismissal', 'Not responsible by City Dismissal', 'PENDING JUDGMENT', \n",
    "                 'Not responsible by Determination','SET-ASIDE (PENDING JUDGMENT)', 'PENDING', 'Responsible by Dismissal']\n",
    "    # Loops over dispositions and sets 'compliance' values to np.NaN\n",
    "    # Loops over dispositions and sets 'compliance_detail' values to 'Not Responsible/Pending Judgement'\n",
    "    for dispositions in null_dispositions:\n",
    "        blight_df.loc[blight_df['disposition'] == dispositions, 'compliance'] = np.NaN\n",
    "        blight_df.loc[blight_df['disposition'] == dispositions, 'compliance_detail'] = 'Not Responsible/Pending Judgement'\n",
    "    return blight_df\n",
    "\n",
    "def compliant(blight_df):\n",
    "    '''\n",
    "    Compliance = 1\n",
    "    Tickets that are classified as compliant because they had no fine, fine was waved, made a payment with hearing pending,\n",
    "    early payment (hearing not pending), payment on time, or payment within one month after hearing date.\n",
    "    Returns a pandas dataframe\n",
    "    '''\n",
    "    ## Compliant by no fine\n",
    "    # Fine Waived by Determintation\n",
    "    blight_df.loc[blight_df['disposition'] == 'Responsible (Fine Waived) by Determination', 'compliance'] = 1\n",
    "    blight_df.loc[blight_df['disposition'] == 'Responsible (Fine Waived) by Determination', 'compliance_detail'] = 'Compliant by no fine'\n",
    "    # Fine Waived by Admission\n",
    "    blight_df.loc[blight_df['disposition'] == 'Responsible (Fine Waived) by Admission', 'compliance'] = 1\n",
    "    blight_df.loc[blight_df['disposition'] == 'Responsible (Fine Waived) by Admission', 'compliance_detail'] = 'Compliant by no fine'\n",
    "    ## Compliant by Payment\n",
    "    # Payment with PENDING hearing\n",
    "    blight_df.loc[(\n",
    "        (blight_df['hearing_date'] == 'PENDING') &\n",
    "        (blight_df['payment_amount'] > 0) &\n",
    "        (blight_df['compliance_detail'].isnull())), 'compliance'] = 1\n",
    "    blight_df.loc[(\n",
    "        (blight_df['hearing_date'] == 'PENDING') &\n",
    "        (blight_df['payment_amount'] > 0) &\n",
    "        (blight_df['compliance_detail'].isnull())), 'compliance_detail'] = 'Compliant by payment with PENDING hearing'\n",
    "    # Transforms values in 'hearing_date' and 'payment_date' to panda date types\n",
    "    dummy_hearing_date = blight_df['hearing_date'].copy()\n",
    "    blight_df.loc[blight_df['hearing_date'] == 'PENDING', 'hearing_date'] = np.nan\n",
    "    blight_df.loc[:, 'hearing_date'] = pd.to_datetime(blight_df['hearing_date'].str.extract('([0-9]{2}/[0-9]{2}/20{1}[0-9]{2})'))\n",
    "    # Early Payment, payment before hearing date\n",
    "    blight_df.loc[(\n",
    "        (blight_df['payment_date'] < blight_df['hearing_date']) &\n",
    "        (blight_df['payment_amount'] > 0) &\n",
    "        (blight_df['compliance_detail'].isnull())), 'compliance'] = 1\n",
    "    blight_df.loc[(\n",
    "        (blight_df['payment_date'] < blight_df['hearing_date']) &\n",
    "        (blight_df['payment_amount'] > 0) &\n",
    "        (blight_df['compliance_detail'].isnull())), 'compliance_detail'] = 'Compliant by early payment'\n",
    "    # Payment on time, payment on hearing date\n",
    "    blight_df.loc[(\n",
    "        (blight_df['payment_date'] == blight_df['hearing_date']) &\n",
    "        (blight_df['payment_amount'] > 0) &\n",
    "        (blight_df['compliance_detail'].isnull())), 'compliance'] = 1\n",
    "    blight_df.loc[(\n",
    "        (blight_df['payment_date'] == blight_df['hearing_date']) &\n",
    "        (blight_df['payment_amount'] > 0) &\n",
    "        (blight_df['compliance_detail'].isnull())), 'compliance_detail'] = 'Compliant by payment on time'\n",
    "    # Payment within one month after hearing date\n",
    "    blight_df.loc[(\n",
    "        ((blight_df['payment_date'] - blight_df['hearing_date'])/np.timedelta64(1, 'M') <= 1.0) &\n",
    "        (blight_df['payment_amount'] > 0) &\n",
    "        (blight_df['compliance_detail'].isnull())), 'compliance'] = 1\n",
    "    blight_df.loc[(\n",
    "        ((blight_df['payment_date'] - blight_df['hearing_date'])/np.timedelta64(1, 'M') <= 1.0) &\n",
    "        (blight_df['payment_amount'] > 0) &\n",
    "        (blight_df['compliance_detail'].isnull())), 'compliance_detail'] = 'Compliant by payment within 1 Month'\n",
    "    # Sets 'hearing_date' to orginal state\n",
    "    blight_df.loc[:, 'hearing_date'] = dummy_hearing_date\n",
    "    return blight_df\n",
    "\n",
    "def non_compliant(blight_df):\n",
    "    '''\n",
    "    Compliance = 0\n",
    "    Tickets that are classified as non-compliant because they made no payment or a payment after one month (late payment).\n",
    "    Returns a pandas dataframe\n",
    "    '''\n",
    "    # Transforms values in 'hearing_date' to panda date types\n",
    "    dummy_hearing_date = blight_df['hearing_date'].copy()\n",
    "    blight_df.loc[blight_df['hearing_date'] == 'PENDING', 'hearing_date'] = np.nan\n",
    "    blight_df.loc[:, 'hearing_date'] = pd.to_datetime(blight_df['hearing_date'].str.extract('([0-9]{2}/[0-9]{2}/20{1}[0-9]{2})'))\n",
    "    # Non-compliant by late payment\n",
    "    blight_df.loc[(\n",
    "        ((blight_df['payment_date'] - blight_df['hearing_date'])/np.timedelta64(1, 'M') > 1.0) &\n",
    "        (blight_df['payment_amount'] > 0) &\n",
    "        (blight_df['compliance_detail'].isnull())), 'compliance_detail'] = 'Non-compliant by late payment more than 1 month'\n",
    "    # Non-compliant by no payment\n",
    "    blight_df.loc[blight_df['compliance_detail'].isnull(), 'compliance_detail'] = 'Non-compliant by no payment'\n",
    "    # Sets 'hearing_date' to orginal state\n",
    "    blight_df.loc[:, 'hearing_date'] = dummy_hearing_date\n",
    "    return blight_df\n",
    "\n",
    "def populate_compliance(blight_df):\n",
    "    '''\n",
    "    Populates compliance and compliance_details in blight_df with the correct values. \n",
    "    Returns a panda dataframe.\n",
    "    '''\n",
    "    blight_df = null_compliance(blight_df)\n",
    "    blight_df = compliant(blight_df)\n",
    "    blight_df = non_compliant(blight_df)  \n",
    "    return blight_df\n",
    "\n",
    "def remove_leakage(blight_df):\n",
    "    ''' \n",
    "    In blight_df removes variables to prevent data leakage and variables with mostly NaNs,\n",
    "    Returns a panda dataframe\n",
    "    '''\n",
    "    blight_df = blight_df[['agency_name', 'inspector_name', 'violator_name','violation_street_number', 'violation_street_name', \n",
    "                       'mailing_address_street_name', 'mailing_address_street_name', 'mailing_address_city', \n",
    "                       'mailing_address_state', 'mailing_address_zip_code', 'mailing_address_non-usa_code', \n",
    "                       'mailing_address_country', 'violation_date', 'hearing_date', 'hearing_time', 'violation_code', 'violation_description',\n",
    "                       'disposition', 'fine_amount', 'admin_fee', 'state_fee', 'late_fee', 'discount_amount', \n",
    "                       'judgment_amount', 'violation_latitude', 'violation_longitude', 'compliance']]  \n",
    "    return blight_df \n",
    "\n",
    "def process_blight(blight_path, pre_process):\n",
    "    '''\n",
    "    If pre_process is true - Loads the raw blight_violations.csv, cleans the data, computes compliance, removes features with \n",
    "    data leakage and saves this dataframe. If pre_process is False, then it loads the pre-processed data.\n",
    "    Returns a pandas dataframe.\n",
    "    '''\n",
    "    if pre_process == False:\n",
    "        blight_df = load_blight_raw(blight_path)\n",
    "        blight_df = pre_processing(blight_df)\n",
    "        blight_df = clean_up(blight_df)\n",
    "        blight_df = populate_compliance(blight_df)\n",
    "        blight_df = remove_leakage(blight_df)\n",
    "        save_blight_data(blight_path, blight_df)\n",
    "    else:\n",
    "        blight_df = load_blight(blight_path)\n",
    "    print(\"PROCESSED Blight Violations dataset has {} observations with {} features each.\".format(*blight_df.shape))        \n",
    "    return blight_df\n",
    "\n",
    "def save_blight_data(blight_path, blight_df):\n",
    "    '''\n",
    "    Saves the processed blight_df\n",
    "    Returns nothing.\n",
    "    '''\n",
    "    csv_path = os.path.join(blight_path, \"Blight_Violations_Processed.csv\")\n",
    "    blight_df.to_csv(csv_path)\n",
    "    \n",
    "def load_blight(blight_path):\n",
    "    '''\n",
    "    Loads the preprocessed blight_violations.csv\n",
    "    Returns a pandas dataframe.\n",
    "    '''\n",
    "    csv_path = os.path.join(blight_path, \"Blight_Violations_Processed.csv\")\n",
    "    blight_df = pd.read_csv(csv_path)\n",
    "    blight_df.set_index('ticket_id', inplace=True)\n",
    "    return blight_df"
   ]
  },
  {
   "cell_type": "code",
   "execution_count": 4,
   "metadata": {
    "scrolled": false
   },
   "outputs": [
    {
     "name": "stderr",
     "output_type": "stream",
     "text": [
      "C:\\ProgramData\\Anaconda3\\lib\\site-packages\\IPython\\core\\interactiveshell.py:2910: DtypeWarning: Columns (8,34) have mixed types. Specify dtype option on import or set low_memory=False.\n",
      "  exec(code_obj, self.user_global_ns, self.user_ns)\n"
     ]
    },
    {
     "name": "stdout",
     "output_type": "stream",
     "text": [
      "RAW Blight Violations dataset has 373848 observations with 40 features each.\n"
     ]
    },
    {
     "name": "stderr",
     "output_type": "stream",
     "text": [
      "C:\\ProgramData\\Anaconda3\\lib\\site-packages\\pandas\\core\\indexing.py:537: SettingWithCopyWarning: \n",
      "A value is trying to be set on a copy of a slice from a DataFrame.\n",
      "Try using .loc[row_indexer,col_indexer] = value instead\n",
      "\n",
      "See the caveats in the documentation: http://pandas.pydata.org/pandas-docs/stable/indexing.html#indexing-view-versus-copy\n",
      "  self.obj[item] = s\n",
      "C:\\ProgramData\\Anaconda3\\lib\\site-packages\\ipykernel_launcher.py:39: FutureWarning: currently extract(expand=None) means expand=False (return Index/Series/DataFrame) but in a future version of pandas this will be changed to expand=True (return DataFrame)\n",
      "C:\\ProgramData\\Anaconda3\\lib\\site-packages\\ipykernel_launcher.py:108: FutureWarning: currently extract(expand=None) means expand=False (return Index/Series/DataFrame) but in a future version of pandas this will be changed to expand=True (return DataFrame)\n",
      "C:\\ProgramData\\Anaconda3\\lib\\site-packages\\ipykernel_launcher.py:149: FutureWarning: currently extract(expand=None) means expand=False (return Index/Series/DataFrame) but in a future version of pandas this will be changed to expand=True (return DataFrame)\n"
     ]
    },
    {
     "name": "stdout",
     "output_type": "stream",
     "text": [
      "PROCESSED Blight Violations dataset has 373844 observations with 27 features each.\n",
      "<class 'pandas.core.frame.DataFrame'>\n",
      "Int64Index: 373844 entries, 47056 to 247933\n",
      "Data columns (total 27 columns):\n",
      "agency_name                     373844 non-null object\n",
      "inspector_name                  373844 non-null object\n",
      "violator_name                   373842 non-null object\n",
      "violation_street_number         373844 non-null int64\n",
      "violation_street_name           373779 non-null object\n",
      "mailing_address_street_name     373841 non-null object\n",
      "mailing_address_street_name     373841 non-null object\n",
      "mailing_address_city            372028 non-null object\n",
      "mailing_address_state           371565 non-null object\n",
      "mailing_address_zip_code        372025 non-null object\n",
      "mailing_address_non-usa_code    1819 non-null object\n",
      "mailing_address_country         1830 non-null object\n",
      "violation_date                  373844 non-null datetime64[ns]\n",
      "hearing_date                    373234 non-null object\n",
      "hearing_time                    373233 non-null object\n",
      "violation_code                  373843 non-null object\n",
      "violation_description           373843 non-null object\n",
      "disposition                     365161 non-null object\n",
      "fine_amount                     373842 non-null float64\n",
      "admin_fee                       373844 non-null float64\n",
      "state_fee                       373844 non-null float64\n",
      "late_fee                        373844 non-null float64\n",
      "discount_amount                 373844 non-null float64\n",
      "judgment_amount                 373844 non-null float64\n",
      "violation_latitude              373719 non-null float64\n",
      "violation_longitude             373719 non-null float64\n",
      "compliance                      251359 non-null float64\n",
      "dtypes: datetime64[ns](1), float64(9), int64(1), object(16)\n",
      "memory usage: 89.9+ MB\n"
     ]
    }
   ],
   "source": [
    "# Loads the raw blight data and pre-processes\n",
    "blight_df = process_blight(r\"C:\\Users\\Adrian\\Google Drive\\Datasets\\Blight-Violations\", False)\n",
    "#blight_df = process_blight(r\"C:\\Users\\aperez\\Google Drive\\Datasets\\Blight-Violations\", True)\n",
    "# Checks to make sure the data loaded properly\n",
    "blight_df.info()"
   ]
  },
  {
   "cell_type": "markdown",
   "metadata": {},
   "source": [
    "Now lets remove unrelevant fields and useless observations -\n",
    "* Observations where compliance is _NaNs_, these observations provide no use to me\n",
    "* Features that are too noisey or contain many _NaNs_: 'inspector_name', 'violator_name', 'violation_street_number', 'violation_street_name', 'mailing_address_street_name', 'mailing_address_street_name.1', and 'violation_code'."
   ]
  },
  {
   "cell_type": "code",
   "execution_count": 6,
   "metadata": {
    "scrolled": true
   },
   "outputs": [
    {
     "name": "stdout",
     "output_type": "stream",
     "text": [
      "<class 'pandas.core.frame.DataFrame'>\n",
      "Int64Index: 242676 entries, 47056 to 359077\n",
      "Data columns (total 18 columns):\n",
      "agency_name                242676 non-null object\n",
      "mailing_address_city       241130 non-null object\n",
      "mailing_address_state      240715 non-null object\n",
      "mailing_address_country    1557 non-null object\n",
      "violation_date             242676 non-null datetime64[ns]\n",
      "hearing_date               242676 non-null object\n",
      "hearing_time               242676 non-null object\n",
      "violation_description      242675 non-null object\n",
      "disposition                242676 non-null object\n",
      "fine_amount                242675 non-null float64\n",
      "admin_fee                  242676 non-null float64\n",
      "state_fee                  242676 non-null float64\n",
      "late_fee                   242676 non-null float64\n",
      "discount_amount            242676 non-null float64\n",
      "judgment_amount            242676 non-null float64\n",
      "violation_latitude         242643 non-null float64\n",
      "violation_longitude        242643 non-null float64\n",
      "compliance                 242676 non-null float64\n",
      "dtypes: datetime64[ns](1), float64(9), object(8)\n",
      "memory usage: 35.2+ MB\n"
     ]
    }
   ],
   "source": [
    "# Drop observations where compliance is NaNs\n",
    "blight_df.dropna(axis=0, subset=['compliance'], inplace=True)\n",
    "# Remove obs with NaN in disposition\n",
    "blight_df.dropna(axis=0, subset=['disposition'], inplace=True)\n",
    "# Drop useless features\n",
    "blight_df.drop(axis=1, columns=['inspector_name', 'violator_name', 'violation_street_number', 'violation_street_name',\n",
    "       'mailing_address_street_name', 'mailing_address_zip_code', 'mailing_address_non-usa_code',\n",
    "        'violation_code'], inplace=True)\n",
    "blight_df.info()"
   ]
  },
  {
   "cell_type": "markdown",
   "metadata": {},
   "source": [
    "## Feature Engineering \n",
    "\n",
    "Now, we will construct new features. These are:\n",
    "* detriot_resident - _True_ if 'mailing_address_city' is Detriot, _False_ otherwise.\n",
    "* michigan_resident - _True_ if 'mailing_address_state' is Michigan, _False_ otherwise.\n",
    "* us_resident - _True_ if 'mailing_address_state' is not null but _False_ if 'mailing_address_country' is not null, _False_ otherwise.\n",
    "* violation_month - the numeric month (1-12) that violation occured on.\n",
    "* days_difference - the number of days between when the violation occured and when the hearing date is\n",
    "* hearing_weekday - name of the day of the week the hearing date is on. This features will later be categorically encoded into five features based on it values.\n",
    "* disposition_clean - a cleaned version  of \"disposition\" that can either be: 'Fine Waived', 'Default', 'Admission', or 'Determination'. This features will later be categorically encoded into four features.\n",
    "* agency_name - This features will later be categorically encoded into five features based on it values.\n",
    "\n",
    "At the construction of each feature I will explain the reason I feel it may be useful in prediction."
   ]
  },
  {
   "cell_type": "markdown",
   "metadata": {},
   "source": [
    "### detriot_resident\n",
    "_Goal_: Individuals who live in the city might be more invested in their property and care about paying their violations.\n",
    "\n",
    "First fill \"NaN\" values with \"unknown\", then convert all the characters to lower case, and removes all punctuation. Finally use regular expressions to find all strings that start with \"det\"."
   ]
  },
  {
   "cell_type": "code",
   "execution_count": 7,
   "metadata": {},
   "outputs": [
    {
     "name": "stderr",
     "output_type": "stream",
     "text": [
      "C:\\ProgramData\\Anaconda3\\lib\\site-packages\\ipykernel_launcher.py:8: FutureWarning: currently extract(expand=None) means expand=False (return Index/Series/DataFrame) but in a future version of pandas this will be changed to expand=True (return DataFrame)\n",
      "  \n",
      "C:\\ProgramData\\Anaconda3\\lib\\site-packages\\ipykernel_launcher.py:12: UserWarning: This pattern has match groups. To actually get the groups, use str.extract.\n",
      "  if sys.path[0] == '':\n"
     ]
    }
   ],
   "source": [
    "# Creates 'detriot_resident' feature, setting all values to False\n",
    "blight_df['detriot_resident'] = 0\n",
    "# Fill all \"NaN\" with \"unknown\"\n",
    "blight_df['mailing_address_city'].fillna(value=\"unknown\", inplace=True)\n",
    "# Convert all characters to lower case\n",
    "blight_df.loc[:, 'mailing_address_city'] = blight_df['mailing_address_city'].str.lower()\n",
    "# Removes all punctuation\n",
    "blight_df.loc[:, 'mailing_address_city'] = blight_df['mailing_address_city'].str.extract('(^[a-z ]+)')\n",
    "# Refill all \"NaN\" with \"unknown\"\n",
    "blight_df['mailing_address_city'].fillna(value=\"unknown\", inplace=True)\n",
    "# Finds all strings that start with \"det\" and set \"detriot_resident\" to True for these values\n",
    "blight_df.loc[blight_df['mailing_address_city'].str.contains('(^det)'), 'detriot_resident'] = 1"
   ]
  },
  {
   "cell_type": "markdown",
   "metadata": {},
   "source": [
    "### michigan_resident\n",
    "_Goal_: Individuals who live in the state might be more invested in their property and care about paying their violations. \n",
    "\n",
    "First fill \"NaN\" values with \"un\", then convert all the characters to lower case, and removes all punctuation. Finally use regular expressions to find all strings that start with \"mi\"."
   ]
  },
  {
   "cell_type": "code",
   "execution_count": 8,
   "metadata": {},
   "outputs": [
    {
     "name": "stderr",
     "output_type": "stream",
     "text": [
      "C:\\ProgramData\\Anaconda3\\lib\\site-packages\\ipykernel_launcher.py:8: FutureWarning: currently extract(expand=None) means expand=False (return Index/Series/DataFrame) but in a future version of pandas this will be changed to expand=True (return DataFrame)\n",
      "  \n",
      "C:\\ProgramData\\Anaconda3\\lib\\site-packages\\ipykernel_launcher.py:12: UserWarning: This pattern has match groups. To actually get the groups, use str.extract.\n",
      "  if sys.path[0] == '':\n"
     ]
    }
   ],
   "source": [
    "# Creates 'michigan_resident' feature, setting all values to False\n",
    "blight_df['michigan_resident'] = 0\n",
    "# Fill all \"NaN\" with \"unknown\"\n",
    "blight_df['mailing_address_state'].fillna(value=\"un\", inplace=True)\n",
    "# Convert all characters to lower case\n",
    "blight_df.loc[:, 'mailing_address_state'] = blight_df['mailing_address_state'].str.lower()\n",
    "# Removes all punctuation\n",
    "blight_df.loc[:, 'mailing_address_state'] = blight_df['mailing_address_state'].str.extract('(^[a-z ]+)')\n",
    "# Refill all \"NaN\" with \"unknown\"\n",
    "blight_df['mailing_address_state'].fillna(value=\"un\", inplace=True)\n",
    "# Finds all strings that start with \"det\" and set \"detriot_resident\" to True for these values\n",
    "blight_df.loc[blight_df['mailing_address_state'].str.contains('(^mi)'), 'michigan_resident'] = 1"
   ]
  },
  {
   "cell_type": "markdown",
   "metadata": {},
   "source": [
    "### us_resident\n",
    "_Goal_: Individuals who live in the US might be more invested in their property and care about paying their violations. \n",
    "\n",
    "First set to True for all observations that have a known state, then False for all observations that have a non-null value in country"
   ]
  },
  {
   "cell_type": "code",
   "execution_count": 9,
   "metadata": {},
   "outputs": [],
   "source": [
    "# Creates the 'us_resident' feature\n",
    "blight_df['us_resident'] = 0 \n",
    "# Sets 'us_resident' to True if the 'mailing_address_state' is not unknown\n",
    "blight_df.loc[blight_df['mailing_address_state'] != 'un', 'us_resident'] = 1\n",
    "# Sets 'us_resident' to False if the 'mailing_address_country' is not unknown\n",
    "blight_df.loc[~blight_df['mailing_address_country'].isnull(), 'us_resident'] = 0"
   ]
  },
  {
   "cell_type": "markdown",
   "metadata": {},
   "source": [
    "### violation_month\n",
    "_Goal_: This feature will try and capture the seasonal effect of violations. (FYI - crimes trend to occur more in summer months, maybe this is also true for violations.)\n",
    "\n",
    "Convert 'violation_date' to proper date format and extract the numeric month."
   ]
  },
  {
   "cell_type": "code",
   "execution_count": 10,
   "metadata": {},
   "outputs": [],
   "source": [
    "# Convert 'violation_date' to proper date format  \n",
    "blight_df['violation_date'] = pd.DatetimeIndex(blight_df['violation_date']).date\n",
    "# Extract the numeric month. Save this as 'violation_month'\n",
    "blight_df['violation_month'] = pd.DatetimeIndex(blight_df['violation_date']).month"
   ]
  },
  {
   "cell_type": "markdown",
   "metadata": {},
   "source": [
    "### days_difference\n",
    "Convert 'hearing_date' to proper date format and subtract 'violation_date' from 'hearing_date'. Convert this difference to days."
   ]
  },
  {
   "cell_type": "code",
   "execution_count": 11,
   "metadata": {},
   "outputs": [],
   "source": [
    "# Convert 'hearing_date' to proper date format\n",
    "blight_df['hearing_date'] = pd.DatetimeIndex(blight_df['hearing_date']).date\n",
    "# Subtract 'violation_date' from 'hearing_date'. Convert this difference to days.\n",
    "blight_df['days_difference'] = (blight_df['hearing_date'] - blight_df['violation_date'])/np.timedelta64(1, 'D')\n",
    "# Remove observations where 'days_difference' is negative (This is dirty data)\n",
    "blight_df = blight_df.loc[(blight_df['days_difference'] > 0), :]\n",
    "# Remove observations where 'days_difference' is negative (This is dirty data)\n",
    "blight_df = blight_df.loc[(blight_df['days_difference'] < 365), :]"
   ]
  },
  {
   "cell_type": "markdown",
   "metadata": {},
   "source": [
    "### hearing_weekday\n",
    "Gets the name of the day of the week the 'hearing_date' is on and stores this as 'hearing_weekday'. Also does 1hot encoding on this new feature to generate five features"
   ]
  },
  {
   "cell_type": "code",
   "execution_count": 12,
   "metadata": {},
   "outputs": [],
   "source": [
    "# Gets the name of the day of the week the hearing date is on\n",
    "blight_df['hearing_weekday'] = pd.DatetimeIndex(blight_df['hearing_date']).weekday_name\n",
    "# Converts weekdays to lowercase\n",
    "blight_df['hearing_weekday'] = blight_df['hearing_weekday'].str.lower()"
   ]
  },
  {
   "cell_type": "code",
   "execution_count": 13,
   "metadata": {},
   "outputs": [],
   "source": [
    "# 1hot caterogical encoding for \"disposition_clean\"\n",
    "blight_weekday = blight_df['hearing_weekday']\n",
    "cat_encoder_weekday = CategoricalEncoder()\n",
    "blight_weekday_reshaped = blight_weekday.values.reshape(-1, 1)\n",
    "blight_weekday_1hot = cat_encoder_weekday.fit_transform(blight_weekday_reshaped)"
   ]
  },
  {
   "cell_type": "code",
   "execution_count": 14,
   "metadata": {},
   "outputs": [],
   "source": [
    "# Adds new features to blight_df\n",
    "blight_df = blight_df.reset_index().merge(pd.SparseDataFrame(blight_weekday_1hot, columns=list(cat_encoder_weekday.categories_[0]), index=blight_df.index).fillna(0).reset_index())\n",
    "# Set 'ticket_id' as index\n",
    "blight_df.set_index('ticket_id', inplace=True)"
   ]
  },
  {
   "cell_type": "markdown",
   "metadata": {},
   "source": [
    "### disposition_clean\n",
    "\n",
    "First initialize all the feature to be NaNs then populate it depending on the value of disposition. Afterwards we will perform one hot categorical encoding."
   ]
  },
  {
   "cell_type": "code",
   "execution_count": 15,
   "metadata": {
    "scrolled": true
   },
   "outputs": [],
   "source": [
    "# Initialize all features to be NaNs\n",
    "blight_df['disposition_clean'] = np.NaN\n",
    "# Populate the 1 (True) values\n",
    "blight_df.loc[blight_df['disposition'] == 'Responsible (Fine Waived) by Determination', 'disposition_clean'] = 'disp_fine_waived'\n",
    "blight_df.loc[blight_df['disposition'] == 'Responsible (Fine Waived) by Admission', 'disposition_clean'] = 'disp_fine_waived'\n",
    "blight_df.loc[blight_df['disposition'] == 'Responsible (Fine Waived) by Admission', 'disposition_clean'] = 'disp_fine_waived'\n",
    "# Populate the 1 (True) values\n",
    "blight_df.loc[blight_df['disposition'] == 'Responsible by Default', 'disposition_clean'] = 'disp_default'\n",
    "blight_df.loc[blight_df['disposition'] == 'Responsible - Compl/Adj by Default', 'disposition_clean'] = 'disp_default'\n",
    "# Populate the 1 (True) values\n",
    "blight_df.loc[blight_df['disposition'] == 'Responsible by Admission', 'disposition_clean'] = 'disp_admission'\n",
    "# Populate the 1 (True) values\n",
    "blight_df.loc[blight_df['disposition'] == 'Responsible by Determination', 'disposition_clean'] = 'disp_determination'\n",
    "blight_df.loc[blight_df['disposition'] == 'Responsible - Compl/Adj by Determination', 'disposition_clean'] = 'disp_determination'\n",
    "# Remove values without any 'disposition_clean' values\n",
    "blight_df.dropna(axis=0, subset=['disposition_clean'], inplace=True)"
   ]
  },
  {
   "cell_type": "code",
   "execution_count": 16,
   "metadata": {},
   "outputs": [],
   "source": [
    "# 1hot caterogical encoding for \"disposition_clean\"\n",
    "blight_disp = blight_df['disposition_clean']\n",
    "cat_encoder_disp = CategoricalEncoder()\n",
    "blight_disp_reshaped = blight_disp.values.reshape(-1, 1)\n",
    "blight_disp_1hot = cat_encoder_disp.fit_transform(blight_disp_reshaped)"
   ]
  },
  {
   "cell_type": "code",
   "execution_count": 17,
   "metadata": {},
   "outputs": [],
   "source": [
    "# Adds new features to blight\n",
    "blight_df = blight_df.reset_index().merge(pd.SparseDataFrame(blight_disp_1hot, columns=list(cat_encoder_disp.categories_[0]), index=blight_df.index).fillna(0).reset_index())\n",
    "# Set 'ticket_id' as index\n",
    "blight_df.set_index('ticket_id', inplace=True)"
   ]
  },
  {
   "cell_type": "markdown",
   "metadata": {},
   "source": [
    "### agency_name\n",
    "First I will convert all strings to lowercase, remove all non-letter characters and replace spaces with string. Then I will use 1hot encoding to covert each value into a binary feature"
   ]
  },
  {
   "cell_type": "code",
   "execution_count": 18,
   "metadata": {
    "scrolled": true
   },
   "outputs": [
    {
     "name": "stderr",
     "output_type": "stream",
     "text": [
      "C:\\ProgramData\\Anaconda3\\lib\\site-packages\\ipykernel_launcher.py:2: FutureWarning: currently extract(expand=None) means expand=False (return Index/Series/DataFrame) but in a future version of pandas this will be changed to expand=True (return DataFrame)\n",
      "  \n"
     ]
    }
   ],
   "source": [
    "# Cleans up values of agency name by lowercasing all laters, removing puncation and replacing spaces with underscores\n",
    "blight_df['agency_name'] = blight_df['agency_name'].str.lower().str.extract('(^[a-z ]+)').str.replace(' ', '_')"
   ]
  },
  {
   "cell_type": "code",
   "execution_count": 19,
   "metadata": {},
   "outputs": [],
   "source": [
    "# 1hot caterogical encoding for \"agency_name\"\n",
    "blight_agency = blight_df['agency_name']\n",
    "cat_encoder_ag = CategoricalEncoder()\n",
    "blight_agency_reshaped = blight_agency.values.reshape(-1, 1)\n",
    "blight_agency_1hot = cat_encoder_ag.fit_transform(blight_agency_reshaped)"
   ]
  },
  {
   "cell_type": "code",
   "execution_count": 20,
   "metadata": {},
   "outputs": [],
   "source": [
    "# Adds new features to blight\n",
    "blight_df = blight_df.reset_index().merge(pd.SparseDataFrame(blight_agency_1hot, columns=list(cat_encoder_ag.categories_[0]), index=blight_df.index).fillna(0).reset_index())\n",
    "# Set 'ticket_id' as index\n",
    "blight_df.set_index('ticket_id', inplace=True)"
   ]
  },
  {
   "cell_type": "markdown",
   "metadata": {},
   "source": [
    "### Violation Description\n",
    "\n",
    "_IN PROGRESS_"
   ]
  },
  {
   "cell_type": "code",
   "execution_count": 21,
   "metadata": {},
   "outputs": [],
   "source": [
    "blight_df.dropna(axis=0, subset=['violation_description'], inplace=True)"
   ]
  },
  {
   "cell_type": "code",
   "execution_count": 177,
   "metadata": {},
   "outputs": [],
   "source": [
    "from sklearn.feature_extraction.text import CountVectorizer\n",
    "\n",
    "# Use CountVectorizor to find three letter tokens, remove stop_words, \n",
    "# remove tokens that don't appear in at least 20 documents,\n",
    "# remove tokens that appear in more than 20% of the documents\n",
    "vect = CountVectorizer(min_df=20, max_df=0.2, stop_words='english', token_pattern='(?u)\\\\b\\\\w\\\\w\\\\w+\\\\b')\n",
    "\n",
    "# Fit and transform\n",
    "X = vect.fit_transform(blight_df['violation_description'])"
   ]
  },
  {
   "cell_type": "code",
   "execution_count": 178,
   "metadata": {},
   "outputs": [
    {
     "name": "stderr",
     "output_type": "stream",
     "text": [
      "C:\\Users\\aperez\\AppData\\Local\\Continuum\\anaconda3\\lib\\site-packages\\sklearn\\decomposition\\online_lda.py:294: DeprecationWarning: n_topics has been renamed to n_components in version 0.19 and will be removed in 0.21\n",
      "  DeprecationWarning)\n"
     ]
    }
   ],
   "source": [
    "from sklearn.decomposition import LatentDirichletAllocation\n",
    "\n",
    "lda = LatentDirichletAllocation(n_topics=10, learning_method=\"batch\", max_iter=25, random_state=random_seed)\n",
    "# We build the model and transform the data in one step\n",
    "# Computing transform takes some time,\n",
    "# and we can save time by doing both at once\n",
    "document_topics = lda.fit_transform(X)"
   ]
  },
  {
   "cell_type": "code",
   "execution_count": 179,
   "metadata": {},
   "outputs": [
    {
     "name": "stdout",
     "output_type": "stream",
     "text": [
      "lda.components_.shape: (10, 244)\n"
     ]
    }
   ],
   "source": [
    "print(\"lda.components_.shape: {}\".format(lda.components_.shape))"
   ]
  },
  {
   "cell_type": "code",
   "execution_count": 180,
   "metadata": {},
   "outputs": [],
   "source": [
    "# for each topic (a row in the components_), sort the features (ascending).\n",
    "# Invert rows with [:, ::-1] to make sorting descending\n",
    "sorting = np.argsort(lda.components_, axis=1)[:, ::-1]\n",
    "# get the feature names from the vectorizer:\n",
    "feature_names = np.array(vect.get_feature_names())"
   ]
  },
  {
   "cell_type": "code",
   "execution_count": 181,
   "metadata": {},
   "outputs": [],
   "source": [
    "def print_topics(topics, feature_names, sorting, topics_per_chunk=6,\n",
    "                 n_words=20):\n",
    "    for i in range(0, len(topics), topics_per_chunk):\n",
    "        # for each chunk:\n",
    "        these_topics = topics[i: i + topics_per_chunk]\n",
    "        # maybe we have less than topics_per_chunk left\n",
    "        len_this_chunk = len(these_topics)\n",
    "        # print topic headers\n",
    "        print((\"topic {:<8}\" * len_this_chunk).format(*these_topics))\n",
    "        print((\"-------- {0:<5}\" * len_this_chunk).format(\"\"))\n",
    "        # print top n_words frequent words\n",
    "        for i in range(n_words):\n",
    "            try:\n",
    "                print((\"{:<14}\" * len_this_chunk).format(\n",
    "                    *feature_names[sorting[these_topics, i]]))\n",
    "            except:\n",
    "                pass\n",
    "        print(\"\\n\")"
   ]
  },
  {
   "cell_type": "code",
   "execution_count": 186,
   "metadata": {},
   "outputs": [
    {
     "name": "stdout",
     "output_type": "stream",
     "text": [
      "topic 0       topic 1       topic 2       topic 3       topic 4       \n",
      "--------      --------      --------      --------      --------      \n",
      "vehicle       premises      collection    public        rodent        \n",
      "motor         lie           hours         free          harborage     \n",
      "\n",
      "\n",
      "topic 5       topic 6       topic 7       topic 8       topic 9       \n",
      "--------      --------      --------      --------      --------      \n",
      "early         private       weeds         hazardous     rental        \n",
      "containers    dumping       growth        free          registration  \n",
      "\n",
      "\n"
     ]
    }
   ],
   "source": [
    "# Print out the 10 topics:\n",
    "print_topics(topics=range(10), feature_names=feature_names,\n",
    "                           sorting=sorting, topics_per_chunk=5, n_words=2)"
   ]
  },
  {
   "cell_type": "code",
   "execution_count": 26,
   "metadata": {},
   "outputs": [
    {
     "name": "stderr",
     "output_type": "stream",
     "text": [
      "C:\\ProgramData\\Anaconda3\\lib\\site-packages\\gensim\\utils.py:1167: UserWarning: detected Windows; aliasing chunkize to chunkize_serial\n",
      "  warnings.warn(\"detected Windows; aliasing chunkize to chunkize_serial\")\n"
     ]
    }
   ],
   "source": [
    "# Convert sparse matrix to gensim corpus.\n",
    "corpus = gensim.matutils.Sparse2Corpus(X, documents_columns=False)\n",
    "\n",
    "# Mapping from word IDs to words (To be used in LdaModel's id2word parameter)\n",
    "id_map = dict((v, k) for k, v in vect.vocabulary_.items())"
   ]
  },
  {
   "cell_type": "code",
   "execution_count": 27,
   "metadata": {},
   "outputs": [],
   "source": [
    "# Use the gensim.models.ldamodel.LdaModel constructor to estimate \n",
    "# LDA model parameters on the corpus, and save to the variable `ldamodel`\n",
    "\n",
    "# Your code here:\n",
    "ldamodel = gensim.models.ldamodel.LdaModel(corpus, num_topics=10, \n",
    "        id2word=id_map, passes=25, random_state=34)"
   ]
  },
  {
   "cell_type": "markdown",
   "metadata": {},
   "source": [
    "## Final Cleanup\n",
    "Remove missing values that might have slipped away and some of the features that I already extracted useful information from."
   ]
  },
  {
   "cell_type": "code",
   "execution_count": 22,
   "metadata": {},
   "outputs": [],
   "source": [
    "# Observations with no lat or long values\n",
    "blight_df.dropna(axis=0, subset=['violation_latitude'], inplace=True)\n",
    "# Drop useless features\n",
    "blight_df.drop(axis=1, columns=['mailing_address_city', 'mailing_address_state', 'mailing_address_country', \n",
    "                                'disposition', 'hearing_time'], inplace = True)"
   ]
  },
  {
   "cell_type": "markdown",
   "metadata": {},
   "source": [
    "## Visualization\n",
    "\n",
    "I will now look for trends in the features that can help me build a better model. First I will began by removing the validation data (tickets issued on 2017 and higher)."
   ]
  },
  {
   "cell_type": "code",
   "execution_count": 23,
   "metadata": {},
   "outputs": [],
   "source": [
    "# Seperate out validation data\n",
    "validation_df = blight_df.loc[blight_df['violation_date'] >= datetime.date(2017, 1, 1), :].copy()"
   ]
  },
  {
   "cell_type": "code",
   "execution_count": 24,
   "metadata": {},
   "outputs": [],
   "source": [
    "# Seperate out the model building data\n",
    "model_df = blight_df.loc[blight_df['violation_date'] < datetime.date(2017, 1, 1), :].copy()"
   ]
  },
  {
   "cell_type": "markdown",
   "metadata": {},
   "source": [
    "### Numerical Features"
   ]
  },
  {
   "cell_type": "code",
   "execution_count": 26,
   "metadata": {},
   "outputs": [
    {
     "name": "stdout",
     "output_type": "stream",
     "text": [
      "Descriptive statistics of the numerical features.\n"
     ]
    },
    {
     "data": {
      "text/html": [
       "<div>\n",
       "<style scoped>\n",
       "    .dataframe tbody tr th:only-of-type {\n",
       "        vertical-align: middle;\n",
       "    }\n",
       "\n",
       "    .dataframe tbody tr th {\n",
       "        vertical-align: top;\n",
       "    }\n",
       "\n",
       "    .dataframe thead th {\n",
       "        text-align: right;\n",
       "    }\n",
       "</style>\n",
       "<table border=\"1\" class=\"dataframe\">\n",
       "  <thead>\n",
       "    <tr style=\"text-align: right;\">\n",
       "      <th></th>\n",
       "      <th>fine_amount</th>\n",
       "      <th>admin_fee</th>\n",
       "      <th>state_fee</th>\n",
       "      <th>late_fee</th>\n",
       "      <th>discount_amount</th>\n",
       "      <th>judgment_amount</th>\n",
       "      <th>violation_latitude</th>\n",
       "      <th>violation_longitude</th>\n",
       "      <th>days_difference</th>\n",
       "    </tr>\n",
       "  </thead>\n",
       "  <tbody>\n",
       "    <tr>\n",
       "      <th>count</th>\n",
       "      <td>221904.000000</td>\n",
       "      <td>221904.000000</td>\n",
       "      <td>221904.000000</td>\n",
       "      <td>221904.000000</td>\n",
       "      <td>221904.000000</td>\n",
       "      <td>221904.000000</td>\n",
       "      <td>221904.000000</td>\n",
       "      <td>221904.000000</td>\n",
       "      <td>221904.000000</td>\n",
       "    </tr>\n",
       "    <tr>\n",
       "      <th>mean</th>\n",
       "      <td>335.040959</td>\n",
       "      <td>19.682756</td>\n",
       "      <td>9.926536</td>\n",
       "      <td>4.184554</td>\n",
       "      <td>1.245045</td>\n",
       "      <td>373.274500</td>\n",
       "      <td>42.390810</td>\n",
       "      <td>-83.113271</td>\n",
       "      <td>57.859791</td>\n",
       "    </tr>\n",
       "    <tr>\n",
       "      <th>std</th>\n",
       "      <td>605.438652</td>\n",
       "      <td>2.475922</td>\n",
       "      <td>0.857738</td>\n",
       "      <td>20.882992</td>\n",
       "      <td>8.295947</td>\n",
       "      <td>622.332047</td>\n",
       "      <td>0.037141</td>\n",
       "      <td>0.094544</td>\n",
       "      <td>43.792055</td>\n",
       "    </tr>\n",
       "    <tr>\n",
       "      <th>min</th>\n",
       "      <td>1.000000</td>\n",
       "      <td>-60.000000</td>\n",
       "      <td>-30.000000</td>\n",
       "      <td>-1.000000</td>\n",
       "      <td>0.000000</td>\n",
       "      <td>-50.000000</td>\n",
       "      <td>42.221239</td>\n",
       "      <td>-83.317266</td>\n",
       "      <td>1.000000</td>\n",
       "    </tr>\n",
       "    <tr>\n",
       "      <th>25%</th>\n",
       "      <td>100.000000</td>\n",
       "      <td>20.000000</td>\n",
       "      <td>10.000000</td>\n",
       "      <td>0.000000</td>\n",
       "      <td>0.000000</td>\n",
       "      <td>130.000000</td>\n",
       "      <td>42.365092</td>\n",
       "      <td>-83.190627</td>\n",
       "      <td>27.000000</td>\n",
       "    </tr>\n",
       "    <tr>\n",
       "      <th>50%</th>\n",
       "      <td>250.000000</td>\n",
       "      <td>20.000000</td>\n",
       "      <td>10.000000</td>\n",
       "      <td>0.000000</td>\n",
       "      <td>0.000000</td>\n",
       "      <td>280.000000</td>\n",
       "      <td>42.395772</td>\n",
       "      <td>-83.128873</td>\n",
       "      <td>42.000000</td>\n",
       "    </tr>\n",
       "    <tr>\n",
       "      <th>75%</th>\n",
       "      <td>250.000000</td>\n",
       "      <td>20.000000</td>\n",
       "      <td>10.000000</td>\n",
       "      <td>0.000000</td>\n",
       "      <td>0.000000</td>\n",
       "      <td>280.000000</td>\n",
       "      <td>42.420706</td>\n",
       "      <td>-83.036507</td>\n",
       "      <td>76.000000</td>\n",
       "    </tr>\n",
       "    <tr>\n",
       "      <th>max</th>\n",
       "      <td>10000.000000</td>\n",
       "      <td>20.000000</td>\n",
       "      <td>20.000000</td>\n",
       "      <td>1000.000000</td>\n",
       "      <td>1000.000000</td>\n",
       "      <td>15538.800000</td>\n",
       "      <td>42.474003</td>\n",
       "      <td>-82.885328</td>\n",
       "      <td>364.000000</td>\n",
       "    </tr>\n",
       "  </tbody>\n",
       "</table>\n",
       "</div>"
      ],
      "text/plain": [
       "         fine_amount      admin_fee      state_fee       late_fee  \\\n",
       "count  221904.000000  221904.000000  221904.000000  221904.000000   \n",
       "mean      335.040959      19.682756       9.926536       4.184554   \n",
       "std       605.438652       2.475922       0.857738      20.882992   \n",
       "min         1.000000     -60.000000     -30.000000      -1.000000   \n",
       "25%       100.000000      20.000000      10.000000       0.000000   \n",
       "50%       250.000000      20.000000      10.000000       0.000000   \n",
       "75%       250.000000      20.000000      10.000000       0.000000   \n",
       "max     10000.000000      20.000000      20.000000    1000.000000   \n",
       "\n",
       "       discount_amount  judgment_amount  violation_latitude  \\\n",
       "count    221904.000000    221904.000000       221904.000000   \n",
       "mean          1.245045       373.274500           42.390810   \n",
       "std           8.295947       622.332047            0.037141   \n",
       "min           0.000000       -50.000000           42.221239   \n",
       "25%           0.000000       130.000000           42.365092   \n",
       "50%           0.000000       280.000000           42.395772   \n",
       "75%           0.000000       280.000000           42.420706   \n",
       "max        1000.000000     15538.800000           42.474003   \n",
       "\n",
       "       violation_longitude  days_difference  \n",
       "count        221904.000000    221904.000000  \n",
       "mean            -83.113271        57.859791  \n",
       "std               0.094544        43.792055  \n",
       "min             -83.317266         1.000000  \n",
       "25%             -83.190627        27.000000  \n",
       "50%             -83.128873        42.000000  \n",
       "75%             -83.036507        76.000000  \n",
       "max             -82.885328       364.000000  "
      ]
     },
     "execution_count": 26,
     "metadata": {},
     "output_type": "execute_result"
    }
   ],
   "source": [
    "# Gets all the numerical features\n",
    "num_features = ['fine_amount', 'admin_fee', 'state_fee', 'late_fee', 'discount_amount', 'judgment_amount',\n",
    " 'violation_latitude', 'violation_longitude', 'days_difference']\n",
    "# A quick view of the descriptive statistics of the numerical features\n",
    "print('Descriptive statistics of the numerical features.')\n",
    "model_df[num_features].describe()"
   ]
  },
  {
   "cell_type": "markdown",
   "metadata": {},
   "source": [
    "### Categorical Features\n",
    "\n",
    "To visually inspect these features, I will write a function that makes two stacked horizontal plots. These plots will produce a bar for each value in the categorical feature, for the first plot will let me see the number of compliant and non-compliant observations for each value. The second, and more useful, plot does the same as the first but has the percent compliant and percent non-compliant. Comparing these bars will allow me to see if that feature is going to be important in predicting. Features where they are noticable diffences in the bars means the feature is important in predicting compliance.  "
   ]
  },
  {
   "cell_type": "code",
   "execution_count": 31,
   "metadata": {},
   "outputs": [],
   "source": [
    "def plot_cat_feature(model_df, feature_name):\n",
    "    '''\n",
    "    Plots a stacked horizontal bar graph of the categories of feature_name of the percent non-compliant and compliant.\n",
    "    '''\n",
    "    # groups the data by the 'feature_name'\n",
    "    groups = model_df.groupby(feature_name)\n",
    "    # Gets the total number of observations for each cat in 'feature_name'\n",
    "    compliance_df = pd.DataFrame(groups['compliance'].size())\n",
    "    # Gets the number of observations that are compliant for cat in 'feature_name'\n",
    "    compliance_df['compliant'] = groups['compliance'].sum().values\n",
    "    # Gets the number of observations that are non-compliant for cat in 'feature_name'\n",
    "    compliance_df['non_compliant'] = compliance_df['compliance'] - compliance_df['compliant']\n",
    "    # Gets the percent of observations that are compliant for cat in 'feature_name'\n",
    "    compliance_df['%_compliant'] = compliance_df['compliant']/compliance_df['compliance']\n",
    "    # Gets the percent of observations that are non-compliant for cat in 'feature_name'\n",
    "    compliance_df['%_non_compliant'] = compliance_df['non_compliant']/compliance_df['compliance']\n",
    "    # plot the results\n",
    "    compliance_df[['compliant', 'non_compliant']].plot.barh(stacked=True)\n",
    "    compliance_df[['%_compliant', '%_non_compliant']].plot.barh(stacked=True)"
   ]
  },
  {
   "cell_type": "code",
   "execution_count": 32,
   "metadata": {},
   "outputs": [
    {
     "data": {
      "image/png": "[encoded data removed]",
      "text/plain": [
       "<matplotlib.figure.Figure at 0x1c98f68ab38>"
      ]
     },
     "metadata": {},
     "output_type": "display_data"
    },
    {
     "data": {
      "image/png": "[encoded data removed]",
      "text/plain": [
       "<matplotlib.figure.Figure at 0x1c98ab0abe0>"
      ]
     },
     "metadata": {},
     "output_type": "display_data"
    }
   ],
   "source": [
    "plot_cat_feature(model_df, 'agency_name')"
   ]
  },
  {
   "cell_type": "markdown",
   "metadata": {},
   "source": [
    "This feature (which was encoded into 5 binary features) looks important because the percent compliant and non-compliant looks to depend on which agency issued the violation."
   ]
  },
  {
   "cell_type": "code",
   "execution_count": 34,
   "metadata": {},
   "outputs": [
    {
     "data": {
      "image/png": "[encoded data removed]",
      "text/plain": [
       "<matplotlib.figure.Figure at 0x1c991e94e48>"
      ]
     },
     "metadata": {},
     "output_type": "display_data"
    },
    {
     "data": {
      "image/png": "[encoded data removed]",
      "text/plain": [
       "<matplotlib.figure.Figure at 0x1c98cb53ac8>"
      ]
     },
     "metadata": {},
     "output_type": "display_data"
    }
   ],
   "source": [
    "plot_cat_feature(model_df, 'detriot_resident')"
   ]
  },
  {
   "cell_type": "markdown",
   "metadata": {},
   "source": [
    "This feature does not look important, the percent of compliant and non-compliant does not look to depend on whether the individual who received the violation resides in Detriot or not."
   ]
  },
  {
   "cell_type": "code",
   "execution_count": 35,
   "metadata": {},
   "outputs": [
    {
     "data": {
      "image/png": "[encoded data removed]",
      "text/plain": [
       "<matplotlib.figure.Figure at 0x1c9854673c8>"
      ]
     },
     "metadata": {},
     "output_type": "display_data"
    },
    {
     "data": {
      "image/png": "[encoded data removed]",
      "text/plain": [
       "<matplotlib.figure.Figure at 0x1c98ebee320>"
      ]
     },
     "metadata": {},
     "output_type": "display_data"
    }
   ],
   "source": [
    "plot_cat_feature(model_df, 'michigan_resident')"
   ]
  },
  {
   "cell_type": "markdown",
   "metadata": {},
   "source": [
    "This feature does not look important, the percent of compliant and non-compliant does not look to depend on whether the individual who received the violation resides in Michigan or not."
   ]
  },
  {
   "cell_type": "code",
   "execution_count": 36,
   "metadata": {
    "scrolled": false
   },
   "outputs": [
    {
     "data": {
      "image/png": "[encoded data removed]",
      "text/plain": [
       "<matplotlib.figure.Figure at 0x1c984e035c0>"
      ]
     },
     "metadata": {},
     "output_type": "display_data"
    },
    {
     "data": {
      "image/png": "[encoded data removed]",
      "text/plain": [
       "<matplotlib.figure.Figure at 0x1c9938f19b0>"
      ]
     },
     "metadata": {},
     "output_type": "display_data"
    }
   ],
   "source": [
    "plot_cat_feature(model_df, 'us_resident')"
   ]
  },
  {
   "cell_type": "markdown",
   "metadata": {},
   "source": [
    "This feature does not look important, the percent of compliant and non-compliant does not look to depend on whether the individual who received the violation resides in US or not."
   ]
  },
  {
   "cell_type": "code",
   "execution_count": 37,
   "metadata": {
    "scrolled": false
   },
   "outputs": [
    {
     "data": {
      "image/png": "[encoded data removed]",
      "text/plain": [
       "<matplotlib.figure.Figure at 0x1c98ab1b4a8>"
      ]
     },
     "metadata": {},
     "output_type": "display_data"
    },
    {
     "data": {
      "image/png": "[encoded data removed]",
      "text/plain": [
       "<matplotlib.figure.Figure at 0x1c9887876a0>"
      ]
     },
     "metadata": {},
     "output_type": "display_data"
    }
   ],
   "source": [
    "plot_cat_feature(model_df, 'violation_month')"
   ]
  },
  {
   "cell_type": "markdown",
   "metadata": {},
   "source": [
    "This feature looks somewhat unimportant, the percent of compliant and non-compliant looks to slightly depend on what month the violation was issued on."
   ]
  },
  {
   "cell_type": "code",
   "execution_count": 38,
   "metadata": {},
   "outputs": [
    {
     "data": {
      "image/png": "[encoded data removed]",
      "text/plain": [
       "<matplotlib.figure.Figure at 0x1c984dc0828>"
      ]
     },
     "metadata": {},
     "output_type": "display_data"
    },
    {
     "data": {
      "image/png": "[encoded data removed]",
      "text/plain": [
       "<matplotlib.figure.Figure at 0x1c98c7bb908>"
      ]
     },
     "metadata": {},
     "output_type": "display_data"
    }
   ],
   "source": [
    "plot_cat_feature(model_df, 'hearing_weekday')"
   ]
  },
  {
   "cell_type": "markdown",
   "metadata": {},
   "source": [
    "This feature looks important, the percent of compliant and non-compliant looks to not depend on what day the hearing date occurs on."
   ]
  },
  {
   "cell_type": "code",
   "execution_count": 39,
   "metadata": {},
   "outputs": [
    {
     "data": {
      "image/png": "[encoded data removed]",
      "text/plain": [
       "<matplotlib.figure.Figure at 0x1c99a77b710>"
      ]
     },
     "metadata": {},
     "output_type": "display_data"
    },
    {
     "data": {
      "image/png": "[encoded data removed]",
      "text/plain": [
       "<matplotlib.figure.Figure at 0x1c99a792940>"
      ]
     },
     "metadata": {},
     "output_type": "display_data"
    }
   ],
   "source": [
    "plot_cat_feature(model_df, 'disposition_clean')"
   ]
  },
  {
   "cell_type": "markdown",
   "metadata": {},
   "source": [
    "This feature looks very important. The percent of compliant and non-compliant looks to depend very much on the ruling. "
   ]
  },
  {
   "cell_type": "code",
   "execution_count": null,
   "metadata": {},
   "outputs": [],
   "source": []
  }
 ],
 "metadata": {
  "kernelspec": {
   "display_name": "Python 3",
   "language": "python",
   "name": "python3"
  },
  "language_info": {
   "codemirror_mode": {
    "name": "ipython",
    "version": 3
   },
   "file_extension": ".py",
   "mimetype": "text/x-python",
   "name": "python",
   "nbconvert_exporter": "python",
   "pygments_lexer": "ipython3",
   "version": "3.6.3"
  }
 },
 "nbformat": 4,
 "nbformat_minor": 2
}
