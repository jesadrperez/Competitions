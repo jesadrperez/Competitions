{
 "cells": [
  {
   "cell_type": "markdown",
   "metadata": {},
   "source": [
    "# Setup"
   ]
  },
  {
   "cell_type": "code",
   "execution_count": 1,
   "metadata": {},
   "outputs": [],
   "source": [
    "# Common Imports\n",
    "import os\n",
    "import glob\n",
    "import numpy as np\n",
    "import pandas as pd\n",
    "import matplotlib.pyplot as plt\n",
    "import seaborn as sns\n",
    "import math\n",
    "\n",
    "from sklearn.model_selection import train_test_split\n",
    "from sklearn.pipeline import make_pipeline\n",
    "from sklearn.preprocessing import Imputer\n",
    "from sklearn.preprocessing import StandardScaler\n",
    "\n",
    "from sklearn.ensemble import RandomForestRegressor\n",
    "from sklearn.tree import DecisionTreeRegressor\n",
    "from sklearn.feature_selection import SelectFromModel\n",
    "\n",
    "# To make the notebook's output stable across runs\n",
    "random_seed = 12182017\n",
    "np.random.seed(random_seed)\n",
    "\n",
    "# To plot pretty figures\n",
    "%matplotlib inline\n",
    "#plt.rcParams['axes.labelsize'] = 14\n",
    "#plt.rcParams['xtick.labelsize'] = 12\n",
    "#plt.rcParams['ytick.labelsize'] = 12\n",
    "sns.set()"
   ]
  },
  {
   "cell_type": "markdown",
   "metadata": {},
   "source": [
    "## Helper Functions"
   ]
  },
  {
   "cell_type": "code",
   "execution_count": 2,
   "metadata": {},
   "outputs": [],
   "source": [
    "def notebook_setup(device):\n",
    "    '''\n",
    "    Sets the PROJECT_ROOT_DIR, DOWNLOAD_ROOT, DATASET_PATH based on device\n",
    "    Returns a tuple.\n",
    "    '''\n",
    "    if device == 'XPS':\n",
    "        PROJECT_ROOT_DIR = r'C:\\Users\\Adrian\\Projects\\Consulting\\Machine-Learning-Examples'\n",
    "        DOWNLOAD_ROOT = r\"C:\\Users\\Adrian\\Google Drive\\Datasets\"\n",
    "    elif device == 'Workstation':\n",
    "        PROJECT_ROOT_DIR = r'C:\\Users\\aperez\\Projects\\Consulting\\Machine-Learning-Examples'\n",
    "        DOWNLOAD_ROOT = r\"C:\\Users\\aperez\\Google Drive\\Datasets\"        \n",
    "    return PROJECT_ROOT_DIR, DOWNLOAD_ROOT\n",
    "\n",
    "def find_datasets(vistor_path):\n",
    "    '''\n",
    "    Finds all the dataset (.csv) in vistor_path.\n",
    "    Returns a list.\n",
    "    '''\n",
    "    dataset_list = []\n",
    "    datasets = glob.glob(os.path.join(vistor_path, '*.csv'))\n",
    "    for dataset in datasets:\n",
    "        dataset_list.append(os.path.splitext(os.path.split(dataset)[1])[0])   \n",
    "    return dataset_list\n",
    "\n",
    "def load_vistor_data(dataset, vistor_path):\n",
    "    '''\n",
    "    Loads a dataset\n",
    "    Returns a pandas dataframe.\n",
    "    '''\n",
    "    csv_path = os.path.join(vistor_path, dataset+\".csv\")\n",
    "    return pd.read_csv(csv_path)\n",
    "\n",
    "def load_all_vistor_data(vistor_path):\n",
    "    '''\n",
    "    Loads all the resturuant-vistor datasets in vistor_path\n",
    "    Returns 8 panda dataframes\n",
    "    '''\n",
    "    dataset_dict = {}\n",
    "    dataset_list = find_datasets(vistor_path)\n",
    "    for dataset in dataset_list:\n",
    "        dataset_dict[dataset] = load_vistor_data(dataset, vistor_path)\n",
    "    return dataset_dict\n",
    "\n",
    "def rmsle(y, y_pred):\n",
    "    '''\n",
    "    A function to calculate Root Mean Squared Logarithmic Error (RMSLE)\n",
    "    '''\n",
    "    assert len(y) == len(y_pred)\n",
    "    terms_to_sum = [(math.log(y_pred[i] + 1) - math.log(y[i] + 1)) ** 2.0 for i,pred in enumerate(y_pred)]\n",
    "    return (sum(terms_to_sum) * (1.0/len(y))) ** 0.5"
   ]
  },
  {
   "cell_type": "markdown",
   "metadata": {},
   "source": [
    "## Configure Notebook & Load Raw Data"
   ]
  },
  {
   "cell_type": "code",
   "execution_count": 3,
   "metadata": {},
   "outputs": [],
   "source": [
    "# Configures notebook to device\n",
    "PROJECT_ROOT_DIR, DOWNLOAD_ROOT = notebook_setup('Workstation')"
   ]
  },
  {
   "cell_type": "code",
   "execution_count": 3,
   "metadata": {},
   "outputs": [],
   "source": [
    "# Configures notebook to device\n",
    "PROJECT_ROOT_DIR, DOWNLOAD_ROOT = notebook_setup('XPS')"
   ]
  },
  {
   "cell_type": "code",
   "execution_count": 4,
   "metadata": {},
   "outputs": [],
   "source": [
    "# Where to save the fiqures\n",
    "PROJECT_ID = 'restaurant-vistors'\n",
    "IMAGES_PATH = os.path.join(PROJECT_ROOT_DIR, PROJECT_ID, \"images\")\n",
    "\n",
    "# Where to save the data\n",
    "VISTOR_PATH = os.path.join(DOWNLOAD_ROOT, \"Restaurant-Visitors\")"
   ]
  },
  {
   "cell_type": "code",
   "execution_count": 5,
   "metadata": {},
   "outputs": [],
   "source": [
    "# Loads all data into dict\n",
    "dataset_dict = load_all_vistor_data(VISTOR_PATH)\n",
    "\n",
    "# Loads each dataset into pandas df\n",
    "air_reserve_df = dataset_dict['air_reserve']\n",
    "air_store_info_df = dataset_dict['air_store_info']\n",
    "air_visit_data_df = dataset_dict['air_visit_data']\n",
    "date_info_df = dataset_dict['date_info']\n",
    "hpg_reserve_df = dataset_dict['hpg_reserve']\n",
    "hpg_store_info_df = dataset_dict['hpg_store_info']\n",
    "sample_submission_df = dataset_dict['sample_submission']\n",
    "store_id_relation_df = dataset_dict['store_id_relation']"
   ]
  },
  {
   "cell_type": "markdown",
   "metadata": {},
   "source": [
    "# Data Exploration"
   ]
  },
  {
   "cell_type": "code",
   "execution_count": 6,
   "metadata": {},
   "outputs": [
    {
     "data": {
      "text/html": [
       "<div>\n",
       "<style scoped>\n",
       "    .dataframe tbody tr th:only-of-type {\n",
       "        vertical-align: middle;\n",
       "    }\n",
       "\n",
       "    .dataframe tbody tr th {\n",
       "        vertical-align: top;\n",
       "    }\n",
       "\n",
       "    .dataframe thead th {\n",
       "        text-align: right;\n",
       "    }\n",
       "</style>\n",
       "<table border=\"1\" class=\"dataframe\">\n",
       "  <thead>\n",
       "    <tr style=\"text-align: right;\">\n",
       "      <th></th>\n",
       "      <th>air_store_id</th>\n",
       "      <th>visit_datetime</th>\n",
       "      <th>reserve_datetime</th>\n",
       "      <th>reserve_visitors</th>\n",
       "    </tr>\n",
       "  </thead>\n",
       "  <tbody>\n",
       "    <tr>\n",
       "      <th>0</th>\n",
       "      <td>air_877f79706adbfb06</td>\n",
       "      <td>2016-01-01 19:00:00</td>\n",
       "      <td>2016-01-01 16:00:00</td>\n",
       "      <td>1</td>\n",
       "    </tr>\n",
       "    <tr>\n",
       "      <th>1</th>\n",
       "      <td>air_db4b38ebe7a7ceff</td>\n",
       "      <td>2016-01-01 19:00:00</td>\n",
       "      <td>2016-01-01 19:00:00</td>\n",
       "      <td>3</td>\n",
       "    </tr>\n",
       "    <tr>\n",
       "      <th>2</th>\n",
       "      <td>air_db4b38ebe7a7ceff</td>\n",
       "      <td>2016-01-01 19:00:00</td>\n",
       "      <td>2016-01-01 19:00:00</td>\n",
       "      <td>6</td>\n",
       "    </tr>\n",
       "    <tr>\n",
       "      <th>3</th>\n",
       "      <td>air_877f79706adbfb06</td>\n",
       "      <td>2016-01-01 20:00:00</td>\n",
       "      <td>2016-01-01 16:00:00</td>\n",
       "      <td>2</td>\n",
       "    </tr>\n",
       "    <tr>\n",
       "      <th>4</th>\n",
       "      <td>air_db80363d35f10926</td>\n",
       "      <td>2016-01-01 20:00:00</td>\n",
       "      <td>2016-01-01 01:00:00</td>\n",
       "      <td>5</td>\n",
       "    </tr>\n",
       "  </tbody>\n",
       "</table>\n",
       "</div>"
      ],
      "text/plain": [
       "           air_store_id       visit_datetime     reserve_datetime  \\\n",
       "0  air_877f79706adbfb06  2016-01-01 19:00:00  2016-01-01 16:00:00   \n",
       "1  air_db4b38ebe7a7ceff  2016-01-01 19:00:00  2016-01-01 19:00:00   \n",
       "2  air_db4b38ebe7a7ceff  2016-01-01 19:00:00  2016-01-01 19:00:00   \n",
       "3  air_877f79706adbfb06  2016-01-01 20:00:00  2016-01-01 16:00:00   \n",
       "4  air_db80363d35f10926  2016-01-01 20:00:00  2016-01-01 01:00:00   \n",
       "\n",
       "   reserve_visitors  \n",
       "0                 1  \n",
       "1                 3  \n",
       "2                 6  \n",
       "3                 2  \n",
       "4                 5  "
      ]
     },
     "execution_count": 6,
     "metadata": {},
     "output_type": "execute_result"
    }
   ],
   "source": [
    "air_reserve_df.head()"
   ]
  },
  {
   "cell_type": "code",
   "execution_count": 7,
   "metadata": {},
   "outputs": [
    {
     "data": {
      "text/html": [
       "<div>\n",
       "<style scoped>\n",
       "    .dataframe tbody tr th:only-of-type {\n",
       "        vertical-align: middle;\n",
       "    }\n",
       "\n",
       "    .dataframe tbody tr th {\n",
       "        vertical-align: top;\n",
       "    }\n",
       "\n",
       "    .dataframe thead th {\n",
       "        text-align: right;\n",
       "    }\n",
       "</style>\n",
       "<table border=\"1\" class=\"dataframe\">\n",
       "  <thead>\n",
       "    <tr style=\"text-align: right;\">\n",
       "      <th></th>\n",
       "      <th>air_store_id</th>\n",
       "      <th>air_genre_name</th>\n",
       "      <th>air_area_name</th>\n",
       "      <th>latitude</th>\n",
       "      <th>longitude</th>\n",
       "    </tr>\n",
       "  </thead>\n",
       "  <tbody>\n",
       "    <tr>\n",
       "      <th>0</th>\n",
       "      <td>air_0f0cdeee6c9bf3d7</td>\n",
       "      <td>Italian/French</td>\n",
       "      <td>Hyōgo-ken Kōbe-shi Kumoidōri</td>\n",
       "      <td>34.695124</td>\n",
       "      <td>135.197852</td>\n",
       "    </tr>\n",
       "    <tr>\n",
       "      <th>1</th>\n",
       "      <td>air_7cc17a324ae5c7dc</td>\n",
       "      <td>Italian/French</td>\n",
       "      <td>Hyōgo-ken Kōbe-shi Kumoidōri</td>\n",
       "      <td>34.695124</td>\n",
       "      <td>135.197852</td>\n",
       "    </tr>\n",
       "    <tr>\n",
       "      <th>2</th>\n",
       "      <td>air_fee8dcf4d619598e</td>\n",
       "      <td>Italian/French</td>\n",
       "      <td>Hyōgo-ken Kōbe-shi Kumoidōri</td>\n",
       "      <td>34.695124</td>\n",
       "      <td>135.197852</td>\n",
       "    </tr>\n",
       "    <tr>\n",
       "      <th>3</th>\n",
       "      <td>air_a17f0778617c76e2</td>\n",
       "      <td>Italian/French</td>\n",
       "      <td>Hyōgo-ken Kōbe-shi Kumoidōri</td>\n",
       "      <td>34.695124</td>\n",
       "      <td>135.197852</td>\n",
       "    </tr>\n",
       "    <tr>\n",
       "      <th>4</th>\n",
       "      <td>air_83db5aff8f50478e</td>\n",
       "      <td>Italian/French</td>\n",
       "      <td>Tōkyō-to Minato-ku Shibakōen</td>\n",
       "      <td>35.658068</td>\n",
       "      <td>139.751599</td>\n",
       "    </tr>\n",
       "  </tbody>\n",
       "</table>\n",
       "</div>"
      ],
      "text/plain": [
       "           air_store_id  air_genre_name                 air_area_name  \\\n",
       "0  air_0f0cdeee6c9bf3d7  Italian/French  Hyōgo-ken Kōbe-shi Kumoidōri   \n",
       "1  air_7cc17a324ae5c7dc  Italian/French  Hyōgo-ken Kōbe-shi Kumoidōri   \n",
       "2  air_fee8dcf4d619598e  Italian/French  Hyōgo-ken Kōbe-shi Kumoidōri   \n",
       "3  air_a17f0778617c76e2  Italian/French  Hyōgo-ken Kōbe-shi Kumoidōri   \n",
       "4  air_83db5aff8f50478e  Italian/French  Tōkyō-to Minato-ku Shibakōen   \n",
       "\n",
       "    latitude   longitude  \n",
       "0  34.695124  135.197852  \n",
       "1  34.695124  135.197852  \n",
       "2  34.695124  135.197852  \n",
       "3  34.695124  135.197852  \n",
       "4  35.658068  139.751599  "
      ]
     },
     "execution_count": 7,
     "metadata": {},
     "output_type": "execute_result"
    }
   ],
   "source": [
    "air_store_info_df.head()"
   ]
  },
  {
   "cell_type": "code",
   "execution_count": 8,
   "metadata": {},
   "outputs": [
    {
     "data": {
      "text/html": [
       "<div>\n",
       "<style scoped>\n",
       "    .dataframe tbody tr th:only-of-type {\n",
       "        vertical-align: middle;\n",
       "    }\n",
       "\n",
       "    .dataframe tbody tr th {\n",
       "        vertical-align: top;\n",
       "    }\n",
       "\n",
       "    .dataframe thead th {\n",
       "        text-align: right;\n",
       "    }\n",
       "</style>\n",
       "<table border=\"1\" class=\"dataframe\">\n",
       "  <thead>\n",
       "    <tr style=\"text-align: right;\">\n",
       "      <th></th>\n",
       "      <th>air_store_id</th>\n",
       "      <th>visit_date</th>\n",
       "      <th>visitors</th>\n",
       "    </tr>\n",
       "  </thead>\n",
       "  <tbody>\n",
       "    <tr>\n",
       "      <th>0</th>\n",
       "      <td>air_ba937bf13d40fb24</td>\n",
       "      <td>2016-01-13</td>\n",
       "      <td>25</td>\n",
       "    </tr>\n",
       "    <tr>\n",
       "      <th>1</th>\n",
       "      <td>air_ba937bf13d40fb24</td>\n",
       "      <td>2016-01-14</td>\n",
       "      <td>32</td>\n",
       "    </tr>\n",
       "    <tr>\n",
       "      <th>2</th>\n",
       "      <td>air_ba937bf13d40fb24</td>\n",
       "      <td>2016-01-15</td>\n",
       "      <td>29</td>\n",
       "    </tr>\n",
       "    <tr>\n",
       "      <th>3</th>\n",
       "      <td>air_ba937bf13d40fb24</td>\n",
       "      <td>2016-01-16</td>\n",
       "      <td>22</td>\n",
       "    </tr>\n",
       "    <tr>\n",
       "      <th>4</th>\n",
       "      <td>air_ba937bf13d40fb24</td>\n",
       "      <td>2016-01-18</td>\n",
       "      <td>6</td>\n",
       "    </tr>\n",
       "  </tbody>\n",
       "</table>\n",
       "</div>"
      ],
      "text/plain": [
       "           air_store_id  visit_date  visitors\n",
       "0  air_ba937bf13d40fb24  2016-01-13        25\n",
       "1  air_ba937bf13d40fb24  2016-01-14        32\n",
       "2  air_ba937bf13d40fb24  2016-01-15        29\n",
       "3  air_ba937bf13d40fb24  2016-01-16        22\n",
       "4  air_ba937bf13d40fb24  2016-01-18         6"
      ]
     },
     "execution_count": 8,
     "metadata": {},
     "output_type": "execute_result"
    }
   ],
   "source": [
    "air_visit_data_df.head()"
   ]
  },
  {
   "cell_type": "code",
   "execution_count": 9,
   "metadata": {},
   "outputs": [
    {
     "data": {
      "text/html": [
       "<div>\n",
       "<style scoped>\n",
       "    .dataframe tbody tr th:only-of-type {\n",
       "        vertical-align: middle;\n",
       "    }\n",
       "\n",
       "    .dataframe tbody tr th {\n",
       "        vertical-align: top;\n",
       "    }\n",
       "\n",
       "    .dataframe thead th {\n",
       "        text-align: right;\n",
       "    }\n",
       "</style>\n",
       "<table border=\"1\" class=\"dataframe\">\n",
       "  <thead>\n",
       "    <tr style=\"text-align: right;\">\n",
       "      <th></th>\n",
       "      <th>calendar_date</th>\n",
       "      <th>day_of_week</th>\n",
       "      <th>holiday_flg</th>\n",
       "    </tr>\n",
       "  </thead>\n",
       "  <tbody>\n",
       "    <tr>\n",
       "      <th>0</th>\n",
       "      <td>2016-01-01</td>\n",
       "      <td>Friday</td>\n",
       "      <td>1</td>\n",
       "    </tr>\n",
       "    <tr>\n",
       "      <th>1</th>\n",
       "      <td>2016-01-02</td>\n",
       "      <td>Saturday</td>\n",
       "      <td>1</td>\n",
       "    </tr>\n",
       "    <tr>\n",
       "      <th>2</th>\n",
       "      <td>2016-01-03</td>\n",
       "      <td>Sunday</td>\n",
       "      <td>1</td>\n",
       "    </tr>\n",
       "    <tr>\n",
       "      <th>3</th>\n",
       "      <td>2016-01-04</td>\n",
       "      <td>Monday</td>\n",
       "      <td>0</td>\n",
       "    </tr>\n",
       "    <tr>\n",
       "      <th>4</th>\n",
       "      <td>2016-01-05</td>\n",
       "      <td>Tuesday</td>\n",
       "      <td>0</td>\n",
       "    </tr>\n",
       "  </tbody>\n",
       "</table>\n",
       "</div>"
      ],
      "text/plain": [
       "  calendar_date day_of_week  holiday_flg\n",
       "0    2016-01-01      Friday            1\n",
       "1    2016-01-02    Saturday            1\n",
       "2    2016-01-03      Sunday            1\n",
       "3    2016-01-04      Monday            0\n",
       "4    2016-01-05     Tuesday            0"
      ]
     },
     "execution_count": 9,
     "metadata": {},
     "output_type": "execute_result"
    }
   ],
   "source": [
    "date_info_df.head()"
   ]
  },
  {
   "cell_type": "code",
   "execution_count": 10,
   "metadata": {},
   "outputs": [
    {
     "data": {
      "text/html": [
       "<div>\n",
       "<style scoped>\n",
       "    .dataframe tbody tr th:only-of-type {\n",
       "        vertical-align: middle;\n",
       "    }\n",
       "\n",
       "    .dataframe tbody tr th {\n",
       "        vertical-align: top;\n",
       "    }\n",
       "\n",
       "    .dataframe thead th {\n",
       "        text-align: right;\n",
       "    }\n",
       "</style>\n",
       "<table border=\"1\" class=\"dataframe\">\n",
       "  <thead>\n",
       "    <tr style=\"text-align: right;\">\n",
       "      <th></th>\n",
       "      <th>hpg_store_id</th>\n",
       "      <th>visit_datetime</th>\n",
       "      <th>reserve_datetime</th>\n",
       "      <th>reserve_visitors</th>\n",
       "    </tr>\n",
       "  </thead>\n",
       "  <tbody>\n",
       "    <tr>\n",
       "      <th>0</th>\n",
       "      <td>hpg_c63f6f42e088e50f</td>\n",
       "      <td>2016-01-01 11:00:00</td>\n",
       "      <td>2016-01-01 09:00:00</td>\n",
       "      <td>1</td>\n",
       "    </tr>\n",
       "    <tr>\n",
       "      <th>1</th>\n",
       "      <td>hpg_dac72789163a3f47</td>\n",
       "      <td>2016-01-01 13:00:00</td>\n",
       "      <td>2016-01-01 06:00:00</td>\n",
       "      <td>3</td>\n",
       "    </tr>\n",
       "    <tr>\n",
       "      <th>2</th>\n",
       "      <td>hpg_c8e24dcf51ca1eb5</td>\n",
       "      <td>2016-01-01 16:00:00</td>\n",
       "      <td>2016-01-01 14:00:00</td>\n",
       "      <td>2</td>\n",
       "    </tr>\n",
       "    <tr>\n",
       "      <th>3</th>\n",
       "      <td>hpg_24bb207e5fd49d4a</td>\n",
       "      <td>2016-01-01 17:00:00</td>\n",
       "      <td>2016-01-01 11:00:00</td>\n",
       "      <td>5</td>\n",
       "    </tr>\n",
       "    <tr>\n",
       "      <th>4</th>\n",
       "      <td>hpg_25291c542ebb3bc2</td>\n",
       "      <td>2016-01-01 17:00:00</td>\n",
       "      <td>2016-01-01 03:00:00</td>\n",
       "      <td>13</td>\n",
       "    </tr>\n",
       "  </tbody>\n",
       "</table>\n",
       "</div>"
      ],
      "text/plain": [
       "           hpg_store_id       visit_datetime     reserve_datetime  \\\n",
       "0  hpg_c63f6f42e088e50f  2016-01-01 11:00:00  2016-01-01 09:00:00   \n",
       "1  hpg_dac72789163a3f47  2016-01-01 13:00:00  2016-01-01 06:00:00   \n",
       "2  hpg_c8e24dcf51ca1eb5  2016-01-01 16:00:00  2016-01-01 14:00:00   \n",
       "3  hpg_24bb207e5fd49d4a  2016-01-01 17:00:00  2016-01-01 11:00:00   \n",
       "4  hpg_25291c542ebb3bc2  2016-01-01 17:00:00  2016-01-01 03:00:00   \n",
       "\n",
       "   reserve_visitors  \n",
       "0                 1  \n",
       "1                 3  \n",
       "2                 2  \n",
       "3                 5  \n",
       "4                13  "
      ]
     },
     "execution_count": 10,
     "metadata": {},
     "output_type": "execute_result"
    }
   ],
   "source": [
    "hpg_reserve_df.head()"
   ]
  },
  {
   "cell_type": "code",
   "execution_count": 11,
   "metadata": {},
   "outputs": [
    {
     "data": {
      "text/html": [
       "<div>\n",
       "<style scoped>\n",
       "    .dataframe tbody tr th:only-of-type {\n",
       "        vertical-align: middle;\n",
       "    }\n",
       "\n",
       "    .dataframe tbody tr th {\n",
       "        vertical-align: top;\n",
       "    }\n",
       "\n",
       "    .dataframe thead th {\n",
       "        text-align: right;\n",
       "    }\n",
       "</style>\n",
       "<table border=\"1\" class=\"dataframe\">\n",
       "  <thead>\n",
       "    <tr style=\"text-align: right;\">\n",
       "      <th></th>\n",
       "      <th>hpg_store_id</th>\n",
       "      <th>hpg_genre_name</th>\n",
       "      <th>hpg_area_name</th>\n",
       "      <th>latitude</th>\n",
       "      <th>longitude</th>\n",
       "    </tr>\n",
       "  </thead>\n",
       "  <tbody>\n",
       "    <tr>\n",
       "      <th>0</th>\n",
       "      <td>hpg_6622b62385aec8bf</td>\n",
       "      <td>Japanese style</td>\n",
       "      <td>Tōkyō-to Setagaya-ku Taishidō</td>\n",
       "      <td>35.643675</td>\n",
       "      <td>139.668221</td>\n",
       "    </tr>\n",
       "    <tr>\n",
       "      <th>1</th>\n",
       "      <td>hpg_e9e068dd49c5fa00</td>\n",
       "      <td>Japanese style</td>\n",
       "      <td>Tōkyō-to Setagaya-ku Taishidō</td>\n",
       "      <td>35.643675</td>\n",
       "      <td>139.668221</td>\n",
       "    </tr>\n",
       "    <tr>\n",
       "      <th>2</th>\n",
       "      <td>hpg_2976f7acb4b3a3bc</td>\n",
       "      <td>Japanese style</td>\n",
       "      <td>Tōkyō-to Setagaya-ku Taishidō</td>\n",
       "      <td>35.643675</td>\n",
       "      <td>139.668221</td>\n",
       "    </tr>\n",
       "    <tr>\n",
       "      <th>3</th>\n",
       "      <td>hpg_e51a522e098f024c</td>\n",
       "      <td>Japanese style</td>\n",
       "      <td>Tōkyō-to Setagaya-ku Taishidō</td>\n",
       "      <td>35.643675</td>\n",
       "      <td>139.668221</td>\n",
       "    </tr>\n",
       "    <tr>\n",
       "      <th>4</th>\n",
       "      <td>hpg_e3d0e1519894f275</td>\n",
       "      <td>Japanese style</td>\n",
       "      <td>Tōkyō-to Setagaya-ku Taishidō</td>\n",
       "      <td>35.643675</td>\n",
       "      <td>139.668221</td>\n",
       "    </tr>\n",
       "  </tbody>\n",
       "</table>\n",
       "</div>"
      ],
      "text/plain": [
       "           hpg_store_id  hpg_genre_name                  hpg_area_name  \\\n",
       "0  hpg_6622b62385aec8bf  Japanese style  Tōkyō-to Setagaya-ku Taishidō   \n",
       "1  hpg_e9e068dd49c5fa00  Japanese style  Tōkyō-to Setagaya-ku Taishidō   \n",
       "2  hpg_2976f7acb4b3a3bc  Japanese style  Tōkyō-to Setagaya-ku Taishidō   \n",
       "3  hpg_e51a522e098f024c  Japanese style  Tōkyō-to Setagaya-ku Taishidō   \n",
       "4  hpg_e3d0e1519894f275  Japanese style  Tōkyō-to Setagaya-ku Taishidō   \n",
       "\n",
       "    latitude   longitude  \n",
       "0  35.643675  139.668221  \n",
       "1  35.643675  139.668221  \n",
       "2  35.643675  139.668221  \n",
       "3  35.643675  139.668221  \n",
       "4  35.643675  139.668221  "
      ]
     },
     "execution_count": 11,
     "metadata": {},
     "output_type": "execute_result"
    }
   ],
   "source": [
    "hpg_store_info_df.head()"
   ]
  },
  {
   "cell_type": "code",
   "execution_count": 12,
   "metadata": {},
   "outputs": [
    {
     "data": {
      "text/html": [
       "<div>\n",
       "<style scoped>\n",
       "    .dataframe tbody tr th:only-of-type {\n",
       "        vertical-align: middle;\n",
       "    }\n",
       "\n",
       "    .dataframe tbody tr th {\n",
       "        vertical-align: top;\n",
       "    }\n",
       "\n",
       "    .dataframe thead th {\n",
       "        text-align: right;\n",
       "    }\n",
       "</style>\n",
       "<table border=\"1\" class=\"dataframe\">\n",
       "  <thead>\n",
       "    <tr style=\"text-align: right;\">\n",
       "      <th></th>\n",
       "      <th>air_store_id</th>\n",
       "      <th>hpg_store_id</th>\n",
       "    </tr>\n",
       "  </thead>\n",
       "  <tbody>\n",
       "    <tr>\n",
       "      <th>0</th>\n",
       "      <td>air_63b13c56b7201bd9</td>\n",
       "      <td>hpg_4bc649e72e2a239a</td>\n",
       "    </tr>\n",
       "    <tr>\n",
       "      <th>1</th>\n",
       "      <td>air_a24bf50c3e90d583</td>\n",
       "      <td>hpg_c34b496d0305a809</td>\n",
       "    </tr>\n",
       "    <tr>\n",
       "      <th>2</th>\n",
       "      <td>air_c7f78b4f3cba33ff</td>\n",
       "      <td>hpg_cd8ae0d9bbd58ff9</td>\n",
       "    </tr>\n",
       "    <tr>\n",
       "      <th>3</th>\n",
       "      <td>air_947eb2cae4f3e8f2</td>\n",
       "      <td>hpg_de24ea49dc25d6b8</td>\n",
       "    </tr>\n",
       "    <tr>\n",
       "      <th>4</th>\n",
       "      <td>air_965b2e0cf4119003</td>\n",
       "      <td>hpg_653238a84804d8e7</td>\n",
       "    </tr>\n",
       "  </tbody>\n",
       "</table>\n",
       "</div>"
      ],
      "text/plain": [
       "           air_store_id          hpg_store_id\n",
       "0  air_63b13c56b7201bd9  hpg_4bc649e72e2a239a\n",
       "1  air_a24bf50c3e90d583  hpg_c34b496d0305a809\n",
       "2  air_c7f78b4f3cba33ff  hpg_cd8ae0d9bbd58ff9\n",
       "3  air_947eb2cae4f3e8f2  hpg_de24ea49dc25d6b8\n",
       "4  air_965b2e0cf4119003  hpg_653238a84804d8e7"
      ]
     },
     "execution_count": 12,
     "metadata": {},
     "output_type": "execute_result"
    }
   ],
   "source": [
    "store_id_relation_df.head()"
   ]
  },
  {
   "cell_type": "code",
   "execution_count": 13,
   "metadata": {
    "scrolled": true
   },
   "outputs": [
    {
     "data": {
      "text/html": [
       "<div>\n",
       "<style scoped>\n",
       "    .dataframe tbody tr th:only-of-type {\n",
       "        vertical-align: middle;\n",
       "    }\n",
       "\n",
       "    .dataframe tbody tr th {\n",
       "        vertical-align: top;\n",
       "    }\n",
       "\n",
       "    .dataframe thead th {\n",
       "        text-align: right;\n",
       "    }\n",
       "</style>\n",
       "<table border=\"1\" class=\"dataframe\">\n",
       "  <thead>\n",
       "    <tr style=\"text-align: right;\">\n",
       "      <th></th>\n",
       "      <th>id</th>\n",
       "      <th>visitors</th>\n",
       "    </tr>\n",
       "  </thead>\n",
       "  <tbody>\n",
       "    <tr>\n",
       "      <th>0</th>\n",
       "      <td>air_00a91d42b08b08d9_2017-04-23</td>\n",
       "      <td>0</td>\n",
       "    </tr>\n",
       "    <tr>\n",
       "      <th>1</th>\n",
       "      <td>air_00a91d42b08b08d9_2017-04-24</td>\n",
       "      <td>0</td>\n",
       "    </tr>\n",
       "    <tr>\n",
       "      <th>2</th>\n",
       "      <td>air_00a91d42b08b08d9_2017-04-25</td>\n",
       "      <td>0</td>\n",
       "    </tr>\n",
       "    <tr>\n",
       "      <th>3</th>\n",
       "      <td>air_00a91d42b08b08d9_2017-04-26</td>\n",
       "      <td>0</td>\n",
       "    </tr>\n",
       "    <tr>\n",
       "      <th>4</th>\n",
       "      <td>air_00a91d42b08b08d9_2017-04-27</td>\n",
       "      <td>0</td>\n",
       "    </tr>\n",
       "  </tbody>\n",
       "</table>\n",
       "</div>"
      ],
      "text/plain": [
       "                                id  visitors\n",
       "0  air_00a91d42b08b08d9_2017-04-23         0\n",
       "1  air_00a91d42b08b08d9_2017-04-24         0\n",
       "2  air_00a91d42b08b08d9_2017-04-25         0\n",
       "3  air_00a91d42b08b08d9_2017-04-26         0\n",
       "4  air_00a91d42b08b08d9_2017-04-27         0"
      ]
     },
     "execution_count": 13,
     "metadata": {},
     "output_type": "execute_result"
    }
   ],
   "source": [
    "sample_submission_df.head()"
   ]
  },
  {
   "cell_type": "markdown",
   "metadata": {},
   "source": [
    "<b>Genre Definations</b>\n",
    "* Izakaya (居酒屋) (Japanese: [izakaja], ee-ZAH-ka-yah)[1] is a type of informal Japanese gastropub. They are casual places for after-work drinking. They have been compared to Irish pubs, tapas bars and early American saloons and taverns.[2]\n",
    "* Yakiniku (焼き肉 or 焼肉), meaning \"grilled meat\", is a Japanese term that, in its broadest sense, refers to grilled meat cuisine\n",
    "* Okonomiyaki (お好み焼き o-konomi-yaki) (About this sound listen (help·info)) is a Japanese savory pancake containing a variety of ingredients. \n",
    "* Monjayaki (もんじゃ焼き, often called simply \"monja\") is a type of Japanese pan-fried batter, popular in the Kantō region, similar to okonomiyaki, but that uses different liquid ingredients.\n",
    "* Teppanyaki (鉄板焼き teppan-yaki) is a style of Japanese cuisine that uses an iron griddle to cook food."
   ]
  },
  {
   "cell_type": "code",
   "execution_count": null,
   "metadata": {},
   "outputs": [],
   "source": [
    "air_store_info_df['air_genre_name'].value_counts()"
   ]
  },
  {
   "cell_type": "code",
   "execution_count": null,
   "metadata": {
    "scrolled": true
   },
   "outputs": [],
   "source": [
    "air_store_info_df['air_genre_name'].value_counts().plot.bar()"
   ]
  },
  {
   "cell_type": "code",
   "execution_count": null,
   "metadata": {
    "scrolled": true
   },
   "outputs": [],
   "source": [
    "air_store_info_df['air_area_name'].value_counts()"
   ]
  },
  {
   "cell_type": "code",
   "execution_count": null,
   "metadata": {},
   "outputs": [],
   "source": [
    "air_store_info_df.head()"
   ]
  },
  {
   "cell_type": "code",
   "execution_count": null,
   "metadata": {},
   "outputs": [],
   "source": [
    "air_store_info_df.plot(kind=\"scatter\", x=\"longitude\", y=\"latitude\", alpha=0.1, figsize=(13,8))"
   ]
  },
  {
   "cell_type": "code",
   "execution_count": null,
   "metadata": {
    "scrolled": true
   },
   "outputs": [],
   "source": [
    "air_visit_data_df['visit_date'].value_counts().sort_index()"
   ]
  },
  {
   "cell_type": "code",
   "execution_count": null,
   "metadata": {
    "scrolled": false
   },
   "outputs": [],
   "source": [
    "air_visit_data_df['visit_date'].value_counts().sort_index().plot(figsize=(20,8))"
   ]
  },
  {
   "cell_type": "code",
   "execution_count": null,
   "metadata": {
    "scrolled": false
   },
   "outputs": [],
   "source": [
    "hpg_store_info_df['hpg_genre_name'].value_counts()"
   ]
  },
  {
   "cell_type": "code",
   "execution_count": null,
   "metadata": {},
   "outputs": [],
   "source": [
    "hpg_store_info_df['hpg_genre_name'].value_counts().plot.bar()"
   ]
  },
  {
   "cell_type": "code",
   "execution_count": null,
   "metadata": {
    "scrolled": true
   },
   "outputs": [],
   "source": [
    "hpg_store_info_df['hpg_area_name'].value_counts()"
   ]
  },
  {
   "cell_type": "code",
   "execution_count": null,
   "metadata": {},
   "outputs": [],
   "source": [
    "hpg_store_info_df.plot(kind=\"scatter\", x=\"longitude\", y=\"latitude\", alpha=0.1, figsize=(13,8))"
   ]
  },
  {
   "cell_type": "markdown",
   "metadata": {},
   "source": [
    "# Pre-processing"
   ]
  },
  {
   "cell_type": "markdown",
   "metadata": {},
   "source": [
    "## air_visit_data_df - Remove outliers"
   ]
  },
  {
   "cell_type": "code",
   "execution_count": 6,
   "metadata": {
    "scrolled": true
   },
   "outputs": [
    {
     "name": "stdout",
     "output_type": "stream",
     "text": [
      "With Outliers\n"
     ]
    },
    {
     "data": {
      "text/html": [
       "<div>\n",
       "<style scoped>\n",
       "    .dataframe tbody tr th:only-of-type {\n",
       "        vertical-align: middle;\n",
       "    }\n",
       "\n",
       "    .dataframe tbody tr th {\n",
       "        vertical-align: top;\n",
       "    }\n",
       "\n",
       "    .dataframe thead th {\n",
       "        text-align: right;\n",
       "    }\n",
       "</style>\n",
       "<table border=\"1\" class=\"dataframe\">\n",
       "  <thead>\n",
       "    <tr style=\"text-align: right;\">\n",
       "      <th></th>\n",
       "      <th>visitors</th>\n",
       "    </tr>\n",
       "  </thead>\n",
       "  <tbody>\n",
       "    <tr>\n",
       "      <th>count</th>\n",
       "      <td>252108.000000</td>\n",
       "    </tr>\n",
       "    <tr>\n",
       "      <th>mean</th>\n",
       "      <td>20.973761</td>\n",
       "    </tr>\n",
       "    <tr>\n",
       "      <th>std</th>\n",
       "      <td>16.757007</td>\n",
       "    </tr>\n",
       "    <tr>\n",
       "      <th>min</th>\n",
       "      <td>1.000000</td>\n",
       "    </tr>\n",
       "    <tr>\n",
       "      <th>25%</th>\n",
       "      <td>9.000000</td>\n",
       "    </tr>\n",
       "    <tr>\n",
       "      <th>50%</th>\n",
       "      <td>17.000000</td>\n",
       "    </tr>\n",
       "    <tr>\n",
       "      <th>75%</th>\n",
       "      <td>29.000000</td>\n",
       "    </tr>\n",
       "    <tr>\n",
       "      <th>max</th>\n",
       "      <td>877.000000</td>\n",
       "    </tr>\n",
       "  </tbody>\n",
       "</table>\n",
       "</div>"
      ],
      "text/plain": [
       "            visitors\n",
       "count  252108.000000\n",
       "mean       20.973761\n",
       "std        16.757007\n",
       "min         1.000000\n",
       "25%         9.000000\n",
       "50%        17.000000\n",
       "75%        29.000000\n",
       "max       877.000000"
      ]
     },
     "metadata": {},
     "output_type": "display_data"
    },
    {
     "name": "stdout",
     "output_type": "stream",
     "text": [
      "Without Outliers\n"
     ]
    },
    {
     "data": {
      "text/html": [
       "<div>\n",
       "<style scoped>\n",
       "    .dataframe tbody tr th:only-of-type {\n",
       "        vertical-align: middle;\n",
       "    }\n",
       "\n",
       "    .dataframe tbody tr th {\n",
       "        vertical-align: top;\n",
       "    }\n",
       "\n",
       "    .dataframe thead th {\n",
       "        text-align: right;\n",
       "    }\n",
       "</style>\n",
       "<table border=\"1\" class=\"dataframe\">\n",
       "  <thead>\n",
       "    <tr style=\"text-align: right;\">\n",
       "      <th></th>\n",
       "      <th>visitors</th>\n",
       "    </tr>\n",
       "  </thead>\n",
       "  <tbody>\n",
       "    <tr>\n",
       "      <th>count</th>\n",
       "      <td>251843.000000</td>\n",
       "    </tr>\n",
       "    <tr>\n",
       "      <th>mean</th>\n",
       "      <td>20.826567</td>\n",
       "    </tr>\n",
       "    <tr>\n",
       "      <th>std</th>\n",
       "      <td>15.863126</td>\n",
       "    </tr>\n",
       "    <tr>\n",
       "      <th>min</th>\n",
       "      <td>1.000000</td>\n",
       "    </tr>\n",
       "    <tr>\n",
       "      <th>25%</th>\n",
       "      <td>9.000000</td>\n",
       "    </tr>\n",
       "    <tr>\n",
       "      <th>50%</th>\n",
       "      <td>17.000000</td>\n",
       "    </tr>\n",
       "    <tr>\n",
       "      <th>75%</th>\n",
       "      <td>29.000000</td>\n",
       "    </tr>\n",
       "    <tr>\n",
       "      <th>max</th>\n",
       "      <td>114.000000</td>\n",
       "    </tr>\n",
       "  </tbody>\n",
       "</table>\n",
       "</div>"
      ],
      "text/plain": [
       "            visitors\n",
       "count  251843.000000\n",
       "mean       20.826567\n",
       "std        15.863126\n",
       "min         1.000000\n",
       "25%         9.000000\n",
       "50%        17.000000\n",
       "75%        29.000000\n",
       "max       114.000000"
      ]
     },
     "metadata": {},
     "output_type": "display_data"
    },
    {
     "data": {
      "text/plain": [
       "array([[<matplotlib.axes._subplots.AxesSubplot object at 0x00000275E4C54748>]], dtype=object)"
      ]
     },
     "execution_count": 6,
     "metadata": {},
     "output_type": "execute_result"
    },
    {
     "data": {
      "image/png": "[encoded data removed]",
      "text/plain": [
       "<matplotlib.figure.Figure at 0x275e37036a0>"
      ]
     },
     "metadata": {},
     "output_type": "display_data"
    },
    {
     "data": {
      "image/png": "[encoded data removed]",
      "text/plain": [
       "<matplotlib.figure.Figure at 0x275e390f630>"
      ]
     },
     "metadata": {},
     "output_type": "display_data"
    }
   ],
   "source": [
    "print('With Outliers')\n",
    "display(air_visit_data_df.describe())\n",
    "air_visit_data_df.hist('visitors', bins=1000)\n",
    "\n",
    "# Removes 'visitors' over the 99.9% Quantile\n",
    "air_visit_data_df = air_visit_data_df[air_visit_data_df['visitors'] < air_visit_data_df['visitors'].quantile(q=.999)]\n",
    "\n",
    "print('Without Outliers')\n",
    "display(air_visit_data_df.describe())\n",
    "air_visit_data_df.hist('visitors', bins=100)"
   ]
  },
  {
   "cell_type": "markdown",
   "metadata": {},
   "source": [
    "## 'visit_day' features"
   ]
  },
  {
   "cell_type": "code",
   "execution_count": 7,
   "metadata": {},
   "outputs": [
    {
     "data": {
      "text/html": [
       "<div>\n",
       "<style scoped>\n",
       "    .dataframe tbody tr th:only-of-type {\n",
       "        vertical-align: middle;\n",
       "    }\n",
       "\n",
       "    .dataframe tbody tr th {\n",
       "        vertical-align: top;\n",
       "    }\n",
       "\n",
       "    .dataframe thead th {\n",
       "        text-align: right;\n",
       "    }\n",
       "</style>\n",
       "<table border=\"1\" class=\"dataframe\">\n",
       "  <thead>\n",
       "    <tr style=\"text-align: right;\">\n",
       "      <th></th>\n",
       "      <th>visit_date</th>\n",
       "      <th>day_of_week</th>\n",
       "      <th>holiday_flg</th>\n",
       "      <th>visit_year</th>\n",
       "      <th>month</th>\n",
       "    </tr>\n",
       "  </thead>\n",
       "  <tbody>\n",
       "    <tr>\n",
       "      <th>0</th>\n",
       "      <td>2016-01-01</td>\n",
       "      <td>Friday</td>\n",
       "      <td>1</td>\n",
       "      <td>2016</td>\n",
       "      <td>Jan</td>\n",
       "    </tr>\n",
       "    <tr>\n",
       "      <th>1</th>\n",
       "      <td>2016-01-02</td>\n",
       "      <td>Saturday</td>\n",
       "      <td>1</td>\n",
       "      <td>2016</td>\n",
       "      <td>Jan</td>\n",
       "    </tr>\n",
       "    <tr>\n",
       "      <th>2</th>\n",
       "      <td>2016-01-03</td>\n",
       "      <td>Sunday</td>\n",
       "      <td>1</td>\n",
       "      <td>2016</td>\n",
       "      <td>Jan</td>\n",
       "    </tr>\n",
       "    <tr>\n",
       "      <th>3</th>\n",
       "      <td>2016-01-04</td>\n",
       "      <td>Monday</td>\n",
       "      <td>0</td>\n",
       "      <td>2016</td>\n",
       "      <td>Jan</td>\n",
       "    </tr>\n",
       "    <tr>\n",
       "      <th>4</th>\n",
       "      <td>2016-01-05</td>\n",
       "      <td>Tuesday</td>\n",
       "      <td>0</td>\n",
       "      <td>2016</td>\n",
       "      <td>Jan</td>\n",
       "    </tr>\n",
       "  </tbody>\n",
       "</table>\n",
       "</div>"
      ],
      "text/plain": [
       "   visit_date day_of_week  holiday_flg  visit_year month\n",
       "0  2016-01-01      Friday            1        2016   Jan\n",
       "1  2016-01-02    Saturday            1        2016   Jan\n",
       "2  2016-01-03      Sunday            1        2016   Jan\n",
       "3  2016-01-04      Monday            0        2016   Jan\n",
       "4  2016-01-05     Tuesday            0        2016   Jan"
      ]
     },
     "execution_count": 7,
     "metadata": {},
     "output_type": "execute_result"
    }
   ],
   "source": [
    "# Renames 'calendar_date' to 'visit_date'\n",
    "date_info_df.rename(index=str, columns={\"calendar_date\":\"visit_date\"}, inplace=True)\n",
    "# Find months of 'calendar_date'\n",
    "date_info_df['numeric_month'] = pd.DatetimeIndex(date_info_df[\"visit_date\"]).month\n",
    "# Convert 'numeric_month' to str month value\n",
    "months_df = pd.DataFrame(['Jan', 'Feb', 'Mar', 'Apr', 'May', 'June', 'July', 'Aug', 'Sept', 'Oct', 'Nov', 'Dec']).reset_index()\n",
    "months_df['index'] = months_df['index'] + 1\n",
    "months_df.rename(index=str, columns={'index':'numeric_month', 0:'month'}, inplace=True)\n",
    "# Adds year\n",
    "date_info_df['visit_year'] = pd.DatetimeIndex(date_info_df[\"visit_date\"]).year\n",
    "# Clean up unused columns\n",
    "date_info_df = date_info_df.merge(months_df, on='numeric_month')\n",
    "date_info_df.drop('numeric_month', axis=1, inplace=True)\n",
    "# Make dummy variables for 'days_of_the_week'\n",
    "#date_info_df = pd.get_dummies(date_info_df, columns=['day_of_week', 'month'])\n",
    "date_info_df[\"visit_date\"] = pd.DatetimeIndex(date_info_df[\"visit_date\"]).date\n",
    "\n",
    "date_info_df.head()"
   ]
  },
  {
   "cell_type": "markdown",
   "metadata": {},
   "source": [
    "## Reservation Data"
   ]
  },
  {
   "cell_type": "code",
   "execution_count": 8,
   "metadata": {},
   "outputs": [],
   "source": [
    "# Fields used to calculate statistics\n",
    "air_reserve_df['visit_date'] = pd.DatetimeIndex(air_reserve_df['visit_datetime']).date\n",
    "air_reserve_df['visit_time'] = pd.DatetimeIndex(air_reserve_df['visit_datetime']).time\n",
    "air_reserve_df['reserve_date'] = pd.DatetimeIndex(air_reserve_df['reserve_datetime']).date\n",
    "air_reserve_df['visit_hour'] = pd.DatetimeIndex(air_reserve_df['visit_datetime']).hour\n",
    "# Calculates the seconds difference between when the reservation is made and when the establishment is visited\n",
    "air_reserve_df['reserve_visit_difference'] = (pd.DatetimeIndex(air_reserve_df['visit_datetime']) - pd.DatetimeIndex(air_reserve_df['reserve_datetime'])) / np.timedelta64(1, 's')\n",
    "# Groups data by 'air_store_id' and 'visit_date'\n",
    "air_groups = air_reserve_df.groupby(['air_store_id', 'visit_date'])\n",
    "\n",
    "# Fields used to calculate statistics\n",
    "hpg_reserve_df['visit_date'] = pd.DatetimeIndex(hpg_reserve_df['visit_datetime']).date\n",
    "hpg_reserve_df['visit_time'] = pd.DatetimeIndex(hpg_reserve_df['visit_datetime']).time\n",
    "hpg_reserve_df['reserve_date'] = pd.DatetimeIndex(hpg_reserve_df['reserve_datetime']).date\n",
    "hpg_reserve_df['visit_hour'] = pd.DatetimeIndex(hpg_reserve_df['visit_datetime']).hour\n",
    "# Calculates the seconds difference between when the reservation is made and when the establishment is visited\n",
    "hpg_reserve_df['reserve_visit_difference'] = (pd.DatetimeIndex(hpg_reserve_df['visit_datetime']) - pd.DatetimeIndex(hpg_reserve_df['reserve_datetime'])) / np.timedelta64(1, 's')\n",
    "# Groups data by 'hpg_store_id' and 'visit_date'\n",
    "hpg_groups = hpg_reserve_df.groupby(['hpg_store_id', 'visit_date'])"
   ]
  },
  {
   "cell_type": "markdown",
   "metadata": {},
   "source": [
    "## Prepare submission data"
   ]
  },
  {
   "cell_type": "code",
   "execution_count": 18,
   "metadata": {},
   "outputs": [
    {
     "name": "stderr",
     "output_type": "stream",
     "text": [
      "C:\\ProgramData\\Anaconda3\\lib\\site-packages\\ipykernel_launcher.py:4: FutureWarning: currently extract(expand=None) means expand=False (return Index/Series/DataFrame) but in a future version of pandas this will be changed to expand=True (return DataFrame)\n",
      "  after removing the cwd from sys.path.\n",
      "C:\\ProgramData\\Anaconda3\\lib\\site-packages\\ipykernel_launcher.py:6: FutureWarning: currently extract(expand=None) means expand=False (return Index/Series/DataFrame) but in a future version of pandas this will be changed to expand=True (return DataFrame)\n",
      "  \n"
     ]
    },
    {
     "data": {
      "text/html": [
       "<div>\n",
       "<style scoped>\n",
       "    .dataframe tbody tr th:only-of-type {\n",
       "        vertical-align: middle;\n",
       "    }\n",
       "\n",
       "    .dataframe tbody tr th {\n",
       "        vertical-align: top;\n",
       "    }\n",
       "\n",
       "    .dataframe thead th {\n",
       "        text-align: right;\n",
       "    }\n",
       "</style>\n",
       "<table border=\"1\" class=\"dataframe\">\n",
       "  <thead>\n",
       "    <tr style=\"text-align: right;\">\n",
       "      <th></th>\n",
       "      <th>air_store_id</th>\n",
       "      <th>visit_date</th>\n",
       "      <th>visitors</th>\n",
       "    </tr>\n",
       "  </thead>\n",
       "  <tbody>\n",
       "    <tr>\n",
       "      <th>0</th>\n",
       "      <td>air_00a91d42b08b08d9</td>\n",
       "      <td>2017-04-23</td>\n",
       "      <td>0</td>\n",
       "    </tr>\n",
       "    <tr>\n",
       "      <th>1</th>\n",
       "      <td>air_00a91d42b08b08d9</td>\n",
       "      <td>2017-04-24</td>\n",
       "      <td>0</td>\n",
       "    </tr>\n",
       "    <tr>\n",
       "      <th>2</th>\n",
       "      <td>air_00a91d42b08b08d9</td>\n",
       "      <td>2017-04-25</td>\n",
       "      <td>0</td>\n",
       "    </tr>\n",
       "    <tr>\n",
       "      <th>3</th>\n",
       "      <td>air_00a91d42b08b08d9</td>\n",
       "      <td>2017-04-26</td>\n",
       "      <td>0</td>\n",
       "    </tr>\n",
       "    <tr>\n",
       "      <th>4</th>\n",
       "      <td>air_00a91d42b08b08d9</td>\n",
       "      <td>2017-04-27</td>\n",
       "      <td>0</td>\n",
       "    </tr>\n",
       "  </tbody>\n",
       "</table>\n",
       "</div>"
      ],
      "text/plain": [
       "           air_store_id  visit_date  visitors\n",
       "0  air_00a91d42b08b08d9  2017-04-23         0\n",
       "1  air_00a91d42b08b08d9  2017-04-24         0\n",
       "2  air_00a91d42b08b08d9  2017-04-25         0\n",
       "3  air_00a91d42b08b08d9  2017-04-26         0\n",
       "4  air_00a91d42b08b08d9  2017-04-27         0"
      ]
     },
     "execution_count": 18,
     "metadata": {},
     "output_type": "execute_result"
    }
   ],
   "source": [
    "# Creates dataframe for processing submission\n",
    "prediction_df = pd.DataFrame()\n",
    "# Extracts the 'air_store_id'\n",
    "prediction_df['air_store_id'] = sample_submission_df['id'].str.extract('(.{20})_.+')\n",
    "# Extacts the 'visit_date'\n",
    "prediction_df['visit_date'] = pd.DatetimeIndex(sample_submission_df['id'].str.extract('.{20}_(.+)')).date\n",
    "# Sets 'visitors' to 0 so these do not get dropped later on\n",
    "prediction_df['visitors'] = 0\n",
    "\n",
    "prediction_df.head()"
   ]
  },
  {
   "cell_type": "markdown",
   "metadata": {},
   "source": [
    "## restaurant_df"
   ]
  },
  {
   "cell_type": "markdown",
   "metadata": {},
   "source": [
    "<b>restaurant_df:</b> vistor information that will extracted or engineered from current datasets to be used to predict future restaurant vistors.\n",
    "* <i>air_store_id</i> - the restaurant's id in the air system\n",
    "* <i>hpg_store_id</i> - the restaurant's id in the hpg system\n",
    "* <i>area_name</i> - area to which the restaurant belongs (Provience, City, Area). Constructed from  'hpg_area_name' and 'air_area_name'\n",
    "* <i>air_genre_name</i> - type of restaurant in the air system.\n",
    "* <i>hpg_genre_name</i> - type of restaurant in the hpg system.\n",
    "* <i>latitude</i> -  latitude of the area to which the restaurant belongs.\n",
    "* <i>longtitude</i> - longtitude of the area to which the restaurant belongs.\n",
    "* <i>visit_date</i> - date of observation.\n",
    "* <i>numeric_month</i> month of the year (This is 12 dummy variables).\n",
    "* <i>day_of_week</i> - day of the week of visit_date (This is seven dummy variables).\n",
    "* <i>holiday_flg</i> - is the day a holiday in Japan\n",
    "* <i>air_daily_total_reserve_visitors</i> - the daily total number of visitors from reservations from the air system\n",
    "* <i>air_daily_total_reserves</i> - the daily total number of reservations from the air system\n",
    "* <i>air_daily_avg_reserve_visitors</i> - the daily average number of visitors per visit from the air system\n",
    "* <i>air_daily_avg_visit_time</i> - the daily average time a reservation is made from the air point-of-sale system\n",
    "* <i>air_avg_reserve_visit_difference</i> - the daily average seconds difference between when the reservations is made and the visit is in made on the air system.\n",
    "* <i>hpg_daily_avg_visit_time</i> - the daily average of the time of the reservation from the hpg system\n",
    "* <i>hpg_daily_total_visit_time</i> - the daily total of reservations made with the hpg system\n",
    "* <i>hpg_daily_avg_reserve_time</i> - the daily average of the time the reservation was made with the hpg system\n",
    "* <i>hpg_reserve_total_visitors</i> - the daily total of number of visitors made reservation with the hpg system\n",
    "* <i>hpg_reserce_avg_visitors</i> - the daily average of number of visitors made reservations with the hpg system\n",
    "* <i>visitors</i> - the historical number of visitors to the restaurant on calender date. Value to be forcasted."
   ]
  },
  {
   "cell_type": "code",
   "execution_count": 9,
   "metadata": {},
   "outputs": [
    {
     "name": "stderr",
     "output_type": "stream",
     "text": [
      "C:\\Users\\aperez\\AppData\\Local\\Continuum\\anaconda3\\lib\\site-packages\\ipykernel_launcher.py:50: SettingWithCopyWarning: \n",
      "A value is trying to be set on a copy of a slice from a DataFrame.\n",
      "Try using .loc[row_indexer,col_indexer] = value instead\n",
      "\n",
      "See the caveats in the documentation: http://pandas.pydata.org/pandas-docs/stable/indexing.html#indexing-view-versus-copy\n"
     ]
    }
   ],
   "source": [
    "# Intiate the restaurant_df\n",
    "restaurant_df = pd.DataFrame()\n",
    "# Adds 'visit_date'\n",
    "restaurant_df['visit_date'] = date_info_df['visit_date']\n",
    "# Adds 'air_store_id' in air system\n",
    "restaurant_df = restaurant_df.merge(air_reserve_df[['air_store_id', 'visit_date']], on='visit_date', how='outer')\n",
    "# Adds 'air_store_id' with visitor data\n",
    "restaurant_df = restaurant_df.merge(air_visit_data_df[['air_store_id', 'visit_date']], on=['air_store_id', 'visit_date'], how='outer')\n",
    "\n",
    "# Adds the sample_submission data for processing\n",
    "restaurant_df = restaurant_df.merge(prediction_df, on=['air_store_id', 'visit_date'], how='outer')\n",
    "# Drops the 'visitors' feature\n",
    "restaurant_df.drop('visitors', axis=1, inplace=True)\n",
    "\n",
    "# Adds relationship between 'air_store_id' and 'hpg_store_id'\n",
    "restaurant_df = restaurant_df.merge(store_id_relation_df, on='air_store_id', how='left')\n",
    "# Adds 'hpg_store_id' in hpg system and not in air system\n",
    "restaurant_df = restaurant_df.merge(hpg_reserve_df[['hpg_store_id', 'visit_date']], on=['hpg_store_id', 'visit_date'], how='outer')\n",
    "restaurant_df.drop_duplicates(inplace=True)\n",
    "\n",
    "# air_groups\n",
    "# Adds 'air_daily_total_reserve_visitors'\n",
    "restaurant_df = restaurant_df.merge(air_groups['reserve_visitors'].sum().reset_index(), on=['air_store_id', 'visit_date'], how='outer')\n",
    "restaurant_df.rename(index=str, columns = {'reserve_visitors':'air_daily_total_reserve_visitors'}, inplace=True)\n",
    "# Adds 'air_daily_total_reserves'\n",
    "restaurant_df = restaurant_df.merge(air_groups['reserve_visitors'].count().reset_index(), on=['air_store_id', 'visit_date'], how='outer')\n",
    "restaurant_df.rename(index=str, columns = {'reserve_visitors':'air_daily_total_reserves'}, inplace=True)\n",
    "# Adds 'air_daily_avg_reserve_visitors'\n",
    "restaurant_df['air_daily_avg_reserve_visitors'] = restaurant_df['air_daily_total_reserve_visitors']/restaurant_df['air_daily_total_reserves']\n",
    "# Adds 'air_avg_reserve_visit_difference'\n",
    "restaurant_df = restaurant_df.merge(air_groups['reserve_visit_difference'].mean().reset_index(), on=['air_store_id', 'visit_date'], how='outer')\n",
    "restaurant_df.rename(index=str, columns = {'reserve_visit_difference':'air_avg_reserve_visit_difference'}, inplace=True)\n",
    "# Adds 'air_daily_avg_visit_time' \n",
    "restaurant_df = restaurant_df.merge(air_groups['visit_hour'].mean().reset_index(), on=['air_store_id', 'visit_date'], how='outer')\n",
    "restaurant_df.rename(index=str, columns = {'visit_hour':'air_daily_avg_visit_time'}, inplace=True)\n",
    "\n",
    "# hpg_groups\n",
    "# Adds 'hpg_daily_total_reserve_visitors'\n",
    "restaurant_df = restaurant_df.merge(hpg_groups['reserve_visitors'].sum().reset_index(), on=['hpg_store_id', 'visit_date'], how='outer')\n",
    "restaurant_df.rename(index=str, columns = {'reserve_visitors':'hpg_daily_total_reserve_visitors'}, inplace=True)\n",
    "# Adds 'hpg_daily_total_reserves'\n",
    "restaurant_df = restaurant_df.merge(hpg_groups['reserve_visitors'].count().reset_index(), on=['hpg_store_id', 'visit_date'], how='outer')\n",
    "restaurant_df.rename(index=str, columns = {'reserve_visitors':'hpg_daily_total_reserves'}, inplace=True)\n",
    "# Adds 'hpg_daily_avg_reserve_visitors'\n",
    "restaurant_df['hpg_daily_avg_reserve_visitors'] = restaurant_df['hpg_daily_total_reserve_visitors']/restaurant_df['hpg_daily_total_reserves']\n",
    "# Adds 'hpg_avg_reserve_visit_difference'\n",
    "restaurant_df = restaurant_df.merge(hpg_groups['reserve_visit_difference'].mean().reset_index(), on=['hpg_store_id', 'visit_date'], how='outer')\n",
    "restaurant_df.rename(index=str, columns = {'reserve_visit_difference':'hpg_avg_reserve_visit_difference'}, inplace=True)\n",
    "# Adds 'hpg_daily_avg_visit_time' \n",
    "restaurant_df = restaurant_df.merge(hpg_groups['visit_hour'].mean().reset_index(), on=['hpg_store_id', 'visit_date'], how='outer')\n",
    "restaurant_df.rename(index=str, columns = {'visit_hour':'hpg_daily_avg_visit_time'}, inplace=True)\n",
    "\n",
    "# Fills in missing values for establishments not in system\n",
    "reserve_df = restaurant_df.groupby('visit_date').mean()\n",
    "# Correct 'visit_date'\n",
    "air_visit_data_df[\"visit_date\"] = pd.DatetimeIndex(air_visit_data_df[\"visit_date\"]).date\n",
    "\n",
    "# Adds the sample_submission data for merger\n",
    "air_visit_data_df = air_visit_data_df.merge(prediction_df, on=['air_store_id', 'visit_date'], how='outer')\n",
    "# Fills nans with zeros for combining two visitors features\n",
    "air_visit_data_df.fillna(0, inplace=True)\n",
    "# Combines visitors features\n",
    "air_visit_data_df['visitors'] = air_visit_data_df['visitors_x']+air_visit_data_df['visitors_y']\n",
    "# Drops bad visitor feautes\n",
    "air_visit_data_df.drop(['visitors_x', 'visitors_y'], axis=1, inplace=True)\n",
    "\n",
    "# Adds 'visitors' the pred variable\n",
    "restaurant_df = restaurant_df.merge(air_visit_data_df, on=['air_store_id', 'visit_date'], how='outer')\n",
    "\n",
    "# Adds 'air_genre_name', 'air_area_name', 'latitude', and 'longitude'\n",
    "restaurant_df = restaurant_df.merge(air_store_info_df[['air_store_id', 'air_genre_name', 'air_area_name', 'latitude', 'longitude']], on='air_store_id')\n",
    "# Adds 'hpg_genre_name'\n",
    "restaurant_df = restaurant_df.merge(hpg_store_info_df[['hpg_store_id', 'hpg_genre_name']], on='hpg_store_id', how='outer')\n",
    "# Removes rows wihtout visitors added from hpg system\n",
    "restaurant_df = restaurant_df.loc[~restaurant_df['visitors'].isnull(), :]"
   ]
  },
  {
   "cell_type": "markdown",
   "metadata": {},
   "source": [
    "## Genre Name Feature Extraction"
   ]
  },
  {
   "cell_type": "markdown",
   "metadata": {},
   "source": [
    "Binary features created from 'air_genre_name' and 'hpg_genre_name'. \n",
    "* <i>'alcohol_served'</i> - is alochol served at the establishment.\n",
    "* <i>'food_served'</i> - is food served at the establishment.\n",
    "* <i>'themed_establishment'</i> - themed as amusement\\karaoke\\party establishment.\n",
    "* <i>'asian_establishment'</i> - primarly serves Asian cusine or is an Asian style establishment."
   ]
  },
  {
   "cell_type": "code",
   "execution_count": 83,
   "metadata": {},
   "outputs": [],
   "source": [
    "restaurant_df['alcohol_served'] = np.NaN\n",
    "restaurant_df['food_served'] = np.NaN\n",
    "restaurant_df['themed_establishment'] = np.NaN\n",
    "restaurant_df['asian_establishment'] = np.NaN\n",
    "\n",
    "air_genres = list(restaurant_df['air_genre_name'].value_counts().index.values)\n",
    "for genre in air_genres:\n",
    "    # 'alcohol_served''\n",
    "    if (genre in ['Izakaya', 'Dining bar', 'Bar/Cocktail',  'Karaoke/Party']): \n",
    "        restaurant_df.loc[restaurant_df['air_genre_name'] == genre, 'alcohol_served'] = 1\n",
    "    else:\n",
    "        restaurant_df.loc[restaurant_df['air_genre_name'] == genre, 'alcohol_served'] = 0  \n",
    "    # 'food_served'\n",
    "    if (genre in ['Izakaya', 'Cafe/Sweets', 'Dining bar', 'Italian/French', 'Japanese food', 'Yakiniku/Korean food', \n",
    "                 'Western food', 'Creative cuisine', 'Okonomiyaki/Monja/Teppanyaki', 'International cuisine']):\n",
    "        restaurant_df.loc[restaurant_df['air_genre_name'] == genre, 'food_served'] = 1\n",
    "    else:\n",
    "        restaurant_df.loc[restaurant_df['air_genre_name'] == genre, 'food_served'] = 0\n",
    "    # 'themed_establishment'\n",
    "    if (genre in ['Karaoke/Party']):\n",
    "        restaurant_df.loc[restaurant_df['air_genre_name'] == genre, 'themed_establishment'] = 1\n",
    "    else:\n",
    "        restaurant_df.loc[restaurant_df['air_genre_name'] == genre, 'themed_establishment'] = 0  \n",
    "    # 'asian_establishment'\n",
    "    if (genre in ['Izakaya', 'Japanese food', 'Yakiniku/Korean food', 'Okonomiyaki/Monja/Teppanyaki', 'Asian', 'Karaoke/Party']): \n",
    "        restaurant_df.loc[restaurant_df['air_genre_name'] == genre, 'asian_establishment'] = 1\n",
    "    else:\n",
    "        restaurant_df.loc[restaurant_df['air_genre_name'] == genre, 'asian_establishment'] = 0\n",
    "\n",
    "hpg_genres = list(restaurant_df['hpg_genre_name'].value_counts().index.values)        \n",
    "for genre in hpg_genres:\n",
    "    # 'alcohol_served''\n",
    "    if (genre in ['Spain Bar/Italian Bar', 'Karaoke', 'Party', 'Bar/Cocktail', 'Amusement bar']): \n",
    "        restaurant_df.loc[restaurant_df['hpg_genre_name'] == genre, 'alcohol_served'] = 1\n",
    "    if (genre in ['Japanese style', 'International cuisine', 'Creation', 'Grilled meat', 'Italian', 'Seafood', \n",
    "                  'Japanese food in general', 'Chinese general', 'Shabu-shabu/Sukiyaki', 'Creative Japanese food',\n",
    "                  'Japanese cuisine/Kaiseki', 'Korean cuisine', 'Okonomiyaki/Monja/Teppanyaki', 'French', 'Steak/Hamburger/Curry',\n",
    "                  'Bistro', 'Cafe', 'Sushi', 'Pasta/Pizza', 'Thai/Vietnamese food', 'Western food', 'Cantonese food', 'Dim Sum/Dumplings',\n",
    "                  'Sichuan food', 'Sweets', 'Spain/Mediterranean cuisine', 'Udon/Soba', 'Shanghai food', 'Taiwanese/Hong Kong cuisine']):\n",
    "        restaurant_df.loc[restaurant_df['hpg_genre_name'] == genre, 'food_served'] = 1\n",
    "    # 'themed_establishment'\n",
    "    if (genre in ['Karaoke', 'Party', 'Amusement bar']):\n",
    "        restaurant_df.loc[restaurant_df['hpg_genre_name'] == genre, 'themed_establishment'] = 1\n",
    "    # 'asian_establishment'\n",
    "    if (genre in ['Japanese style', 'Grilled meat', 'Japanese food in general', 'Chinese general', 'Shabu-shabu/Sukiyaki',\n",
    "                  'Creative Japanese food', 'Japanese cuisine/Kaiseki', 'Korean cuisine', 'Okonomiyaki/Monja/Teppanyaki',\n",
    "                  'Steak/Hamburger/Curry', 'Party', 'Sushi', 'Thai/Vietnamese food', 'Amusement bar', 'Cantonese food',\n",
    "                  'Dim Sum/Dumplings', 'Sichuan food', 'Udon/Soba', 'Shanghai food', 'Taiwanese/Hong Kong cuisine']): \n",
    "        restaurant_df.loc[restaurant_df['hpg_genre_name'] == genre, 'asian_establishment'] = 1       "
   ]
  },
  {
   "cell_type": "code",
   "execution_count": 85,
   "metadata": {},
   "outputs": [
    {
     "name": "stdout",
     "output_type": "stream",
     "text": [
      "<class 'pandas.core.frame.DataFrame'>\n",
      "Index: 283862 entries, air_877f79706adbfb06_2016-01-01 to air_ef789667e2e6fe96_2017-02-05\n",
      "Data columns (total 21 columns):\n",
      "air_daily_total_reserve_visitors    29120 non-null float64\n",
      "air_daily_total_reserves            29120 non-null float64\n",
      "air_daily_avg_reserve_visitors      29120 non-null float64\n",
      "air_avg_reserve_visit_difference    29120 non-null float64\n",
      "air_daily_avg_visit_time            29120 non-null float64\n",
      "hpg_daily_total_reserve_visitors    6225 non-null float64\n",
      "hpg_daily_total_reserves            6225 non-null float64\n",
      "hpg_daily_avg_reserve_visitors      6225 non-null float64\n",
      "hpg_avg_reserve_visit_difference    6225 non-null float64\n",
      "hpg_daily_avg_visit_time            6225 non-null float64\n",
      "visitors                            283862 non-null float64\n",
      "latitude                            283862 non-null float64\n",
      "longitude                           283862 non-null float64\n",
      "alcohol_served                      283862 non-null float64\n",
      "food_served                         283862 non-null float64\n",
      "themed_establishment                283862 non-null float64\n",
      "asian_establishment                 283862 non-null float64\n",
      "day_of_week                         283862 non-null object\n",
      "holiday_flg                         283862 non-null int64\n",
      "visit_year                          283862 non-null int64\n",
      "month                               283862 non-null object\n",
      "dtypes: float64(17), int64(2), object(2)\n",
      "memory usage: 47.6+ MB\n"
     ]
    },
    {
     "data": {
      "text/plain": [
       "None"
      ]
     },
     "metadata": {},
     "output_type": "display_data"
    }
   ],
   "source": [
    "# Add date_info_df features\n",
    "restaurant_df = restaurant_df.merge(date_info_df, left_on='visit_date', right_on='visit_date')\n",
    "restaurant_df = restaurant_df.loc[~restaurant_df['visitors'].isnull(), :]\n",
    "\n",
    "# Recreate Index\n",
    "restaurant_df['air_date_id'] = np.NaN\n",
    "restaurant_df['air_date_id'] = restaurant_df['air_store_id']+'_'+restaurant_df['visit_date'].astype(str)\n",
    "restaurant_df.set_index('air_date_id', inplace=True)\n",
    "\n",
    "# Drop unused columns\n",
    "restaurant_df.drop(['air_store_id', 'hpg_store_id', 'visit_date', 'air_genre_name', 'air_area_name', 'hpg_genre_name'], axis=1, inplace=True)\n",
    "display(restaurant_df.info())"
   ]
  },
  {
   "cell_type": "markdown",
   "metadata": {},
   "source": [
    "# Model Fitting"
   ]
  },
  {
   "cell_type": "code",
   "execution_count": 86,
   "metadata": {},
   "outputs": [
    {
     "name": "stderr",
     "output_type": "stream",
     "text": [
      "C:\\ProgramData\\Anaconda3\\lib\\site-packages\\ipykernel_launcher.py:2: FutureWarning: currently extract(expand=None) means expand=False (return Index/Series/DataFrame) but in a future version of pandas this will be changed to expand=True (return DataFrame)\n",
      "  \n"
     ]
    }
   ],
   "source": [
    "# Corrects visit date\n",
    "restaurant_df['visit_date'] = pd.DatetimeIndex(restaurant_df.index.str.extract('.{20}_(.+)')).date\n",
    "# Re adds numeric month\n",
    "restaurant_df['numeric_month'] = pd.DatetimeIndex(restaurant_df['visit_date']).month\n",
    "# Adds \"day_of_week\"\n",
    "restaurant_df['day_of_week'] = pd.DatetimeIndex(restaurant_df['visit_date']).dayofweek+1\n",
    "# Drops old cols\n",
    "restaurant_df.drop(['month', 'visit_date'], axis=1, inplace=True)"
   ]
  },
  {
   "cell_type": "markdown",
   "metadata": {},
   "source": [
    "## Split Test and Train Data"
   ]
  },
  {
   "cell_type": "code",
   "execution_count": 91,
   "metadata": {},
   "outputs": [],
   "source": [
    "prediction_df = restaurant_df.loc[restaurant_df['visitors'] == 0, :].copy()\n",
    "model_df = restaurant_df.loc[restaurant_df['visitors'] > 0, :].copy()"
   ]
  },
  {
   "cell_type": "code",
   "execution_count": 93,
   "metadata": {},
   "outputs": [
    {
     "name": "stdout",
     "output_type": "stream",
     "text": [
      "Train shape: (201474, 20)\n",
      "Test shape: (50369, 20)\n"
     ]
    }
   ],
   "source": [
    "X = model_df.drop('visitors', axis=1).copy()\n",
    "y = model_df['visitors'].copy()\n",
    "\n",
    "X_train, X_test, y_train, y_test = train_test_split(X, y, test_size=0.2, random_state=random_seed)\n",
    "\n",
    "print('Train shape: {}'.format(X_train.shape))\n",
    "print('Test shape: {}'.format(X_test.shape))"
   ]
  },
  {
   "cell_type": "code",
   "execution_count": 94,
   "metadata": {},
   "outputs": [],
   "source": [
    "num_features = ['air_avg_reserve_visit_difference', 'air_daily_avg_visit_time', \n",
    "                'air_daily_total_reserve_visitors', 'air_daily_total_reserves', \n",
    "                'hpg_avg_reserve_visit_difference', 'hpg_daily_avg_visit_time',\n",
    "                'hpg_daily_total_reserve_visitors', 'hpg_daily_total_reserves',\n",
    "                'latitude', 'longitude', 'visit_year', 'numeric_month', 'day_of_week']\n",
    "bin_features = ['alcohol_served', 'food_served', 'themed_establishment', 'asian_establishment', 'holiday_flg']"
   ]
  },
  {
   "cell_type": "markdown",
   "metadata": {},
   "source": [
    "## Impute Missing Values"
   ]
  },
  {
   "cell_type": "code",
   "execution_count": 95,
   "metadata": {
    "scrolled": false
   },
   "outputs": [],
   "source": [
    "# Inpute missing values with means\n",
    "imputer = Imputer(missing_values='NaN', strategy=\"mean\", axis=0)\n",
    "X_train_num = pd.DataFrame(imputer.fit_transform(X_train[num_features]), columns=num_features, index=X_train.index)\n",
    "X_test_num = pd.DataFrame(imputer.transform(X_test[num_features]), columns=num_features, index=X_test.index)"
   ]
  },
  {
   "cell_type": "code",
   "execution_count": 96,
   "metadata": {},
   "outputs": [],
   "source": [
    "scaler = StandardScaler()\n",
    "X_train_scaled = pd.DataFrame(scaler.fit_transform(X_train_num), columns=num_features, index=X_train.index).merge(X_train[bin_features], left_index=True, right_index=True)\n",
    "X_test_scaled = pd.DataFrame(scaler.transform(X_test_num), columns=num_features, index=X_test.index).merge(X_test[bin_features], left_index=True, right_index=True)"
   ]
  },
  {
   "cell_type": "code",
   "execution_count": 97,
   "metadata": {},
   "outputs": [
    {
     "name": "stdout",
     "output_type": "stream",
     "text": [
      "Train Set RMSLE: 0.6991\n",
      "Test Set RMSLE: 0.7179\n"
     ]
    }
   ],
   "source": [
    "# Uses np.lop1p() and StandardScaler features\n",
    "regr = DecisionTreeRegressor(random_state=random_seed, max_depth=12, max_features='auto', criterion='friedman_mse', splitter='best')\n",
    "regr.fit(X_train_scaled, np.log1p(y_train))\n",
    "\n",
    "print('Train Set RMSLE: {:.4f}'.format(rmsle(y_train, np.expm1((regr.predict(X_train_scaled))))))\n",
    "print('Test Set RMSLE: {:.4f}'.format(rmsle(y_test, np.expm1((regr.predict(X_test_scaled))))))"
   ]
  },
  {
   "cell_type": "code",
   "execution_count": 98,
   "metadata": {},
   "outputs": [
    {
     "name": "stdout",
     "output_type": "stream",
     "text": [
      "Features Importance\n",
      "1. air_daily_total_reserve_visitors (0.205101)\n",
      "2. latitude (0.191836)\n",
      "3. longitude (0.168628)\n",
      "4. day_of_week (0.159076)\n",
      "5. food_served (0.083399)\n",
      "6. alcohol_served (0.066441)\n",
      "7. asian_establishment (0.053842)\n",
      "8. numeric_month (0.024949)\n",
      "9. holiday_flg (0.016133)\n",
      "10. visit_year (0.009478)\n",
      "11. air_daily_avg_visit_time (0.007790)\n",
      "12. air_avg_reserve_visit_difference (0.004712)\n",
      "13. air_daily_total_reserves (0.003259)\n",
      "14. hpg_avg_reserve_visit_difference (0.001545)\n",
      "15. hpg_daily_avg_visit_time (0.001298)\n",
      "16. hpg_daily_total_reserve_visitors (0.001046)\n",
      "17. themed_establishment (0.000892)\n",
      "18. hpg_daily_total_reserves (0.000576)\n"
     ]
    },
    {
     "ename": "IndexError",
     "evalue": "index 18 is out of bounds for axis 0 with size 18",
     "output_type": "error",
     "traceback": [
      "\u001b[1;31m---------------------------------------------------------------------------\u001b[0m",
      "\u001b[1;31mIndexError\u001b[0m                                Traceback (most recent call last)",
      "\u001b[1;32m<ipython-input-98-cdad07f563d9>\u001b[0m in \u001b[0;36m<module>\u001b[1;34m()\u001b[0m\n\u001b[0;32m      4\u001b[0m \u001b[0mprint\u001b[0m\u001b[1;33m(\u001b[0m\u001b[1;34m'Features Importance'\u001b[0m\u001b[1;33m)\u001b[0m\u001b[1;33m\u001b[0m\u001b[0m\n\u001b[0;32m      5\u001b[0m \u001b[1;32mfor\u001b[0m \u001b[0mf\u001b[0m \u001b[1;32min\u001b[0m \u001b[0mrange\u001b[0m\u001b[1;33m(\u001b[0m\u001b[0mX\u001b[0m\u001b[1;33m.\u001b[0m\u001b[0mshape\u001b[0m\u001b[1;33m[\u001b[0m\u001b[1;36m1\u001b[0m\u001b[1;33m]\u001b[0m\u001b[1;33m)\u001b[0m\u001b[1;33m:\u001b[0m\u001b[1;33m\u001b[0m\u001b[0m\n\u001b[1;32m----> 6\u001b[1;33m     \u001b[0mprint\u001b[0m\u001b[1;33m(\u001b[0m\u001b[1;34m\"%d. %s (%f)\"\u001b[0m \u001b[1;33m%\u001b[0m \u001b[1;33m(\u001b[0m\u001b[0mf\u001b[0m \u001b[1;33m+\u001b[0m \u001b[1;36m1\u001b[0m\u001b[1;33m,\u001b[0m \u001b[0mX_train_scaled\u001b[0m\u001b[1;33m.\u001b[0m\u001b[0mcolumns\u001b[0m\u001b[1;33m[\u001b[0m\u001b[0mindices\u001b[0m\u001b[1;33m[\u001b[0m\u001b[0mf\u001b[0m\u001b[1;33m]\u001b[0m\u001b[1;33m]\u001b[0m\u001b[1;33m,\u001b[0m \u001b[0mimportances\u001b[0m\u001b[1;33m[\u001b[0m\u001b[0mindices\u001b[0m\u001b[1;33m[\u001b[0m\u001b[0mf\u001b[0m\u001b[1;33m]\u001b[0m\u001b[1;33m]\u001b[0m\u001b[1;33m)\u001b[0m\u001b[1;33m)\u001b[0m\u001b[1;33m\u001b[0m\u001b[0m\n\u001b[0m",
      "\u001b[1;31mIndexError\u001b[0m: index 18 is out of bounds for axis 0 with size 18"
     ]
    }
   ],
   "source": [
    "# Print the feature ranking\n",
    "importances = regr.feature_importances_\n",
    "indices = np.argsort(importances)[::-1]\n",
    "print('Features Importance')\n",
    "for f in range(X.shape[1]):\n",
    "    print(\"%d. %s (%f)\" % (f + 1, X_train_scaled.columns[indices[f]], importances[indices[f]]))"
   ]
  },
  {
   "cell_type": "code",
   "execution_count": 99,
   "metadata": {},
   "outputs": [],
   "source": [
    "# Tranform data based on Regression Tree\n",
    "model = SelectFromModel(regr, prefit=True, threshold = 0.05)\n",
    "X_train_transform = model.transform(X_train_scaled)\n",
    "X_test_transform = model.transform(X_test_scaled)"
   ]
  },
  {
   "cell_type": "code",
   "execution_count": 100,
   "metadata": {
    "scrolled": true
   },
   "outputs": [
    {
     "name": "stdout",
     "output_type": "stream",
     "text": [
      "Train Set RMSLE: 0.6935\n",
      "Test Set RMSLE: 0.7018\n"
     ]
    }
   ],
   "source": [
    "# Regression Forest with selected features, scaled and np.log1p()\n",
    "rand_forest_reg = RandomForestRegressor(n_estimators=1000, min_samples_leaf=0.0005, criterion='friedman_mse', n_jobs=-1, warm_start=True)\n",
    "rand_forest_reg.fit(X_train_transform, np.log1p(y_train))\n",
    "\n",
    "print('Train Set RMSLE: {:.4f}'.format(rmsle(y_train, np.expm1(rand_forest_reg.predict(X_train_transform)))))\n",
    "print('Test Set RMSLE: {:.4f}'.format(rmsle(y_test, np.expm1(rand_forest_reg.predict(X_test_transform)))))"
   ]
  },
  {
   "cell_type": "code",
   "execution_count": 69,
   "metadata": {
    "scrolled": true
   },
   "outputs": [
    {
     "name": "stdout",
     "output_type": "stream",
     "text": [
      "Train Set RMSLE: 0.7396\n",
      "Test Set RMSLE: 0.7428\n"
     ]
    }
   ],
   "source": [
    "from sklearn.ensemble import AdaBoostRegressor\n",
    "\n",
    "ada_regr = AdaBoostRegressor(DecisionTreeRegressor(random_state=random_seed, min_samples_leaf=0.005, max_features='auto', criterion='friedman_mse'), n_estimators=10, random_state=random_seed)\n",
    "ada_regr.fit(X_train_transform, np.log1p(y_train))\n",
    "\n",
    "print('Train Set RMSLE: {:.4f}'.format(rmsle(y_train, np.expm1(ada_regr.predict(X_train_transform)))))\n",
    "print('Test Set RMSLE: {:.4f}'.format(rmsle(y_test, np.expm1(ada_regr.predict(X_test_transform)))))"
   ]
  },
  {
   "cell_type": "code",
   "execution_count": 144,
   "metadata": {},
   "outputs": [],
   "source": [
    "from sklearn.neighbors import KNeighborsRegressor"
   ]
  },
  {
   "cell_type": "code",
   "execution_count": 146,
   "metadata": {},
   "outputs": [
    {
     "name": "stdout",
     "output_type": "stream",
     "text": [
      "Train Set RMSLE: 0.7424\n",
      "Test Set RMSLE: 0.8325\n"
     ]
    }
   ],
   "source": [
    "neigh = KNeighborsRegressor(n_neighbors=2, algorithm='auto', weights='uniform')\n",
    "neigh.fit(X_train_scaled, np.log1p(y_train))\n",
    "\n",
    "print('Train Set RMSLE: {:.4f}'.format(rmsle(y_train, np.expm1(neigh.predict(X_train_scaled)))))\n",
    "print('Test Set RMSLE: {:.4f}'.format(rmsle(y_test, np.expm1(neigh.predict(X_test_scaled)))))"
   ]
  },
  {
   "cell_type": "markdown",
   "metadata": {},
   "source": [
    "## Main Prediction"
   ]
  },
  {
   "cell_type": "markdown",
   "metadata": {},
   "source": [
    "### Use all the data for imputing and standard scaling"
   ]
  },
  {
   "cell_type": "code",
   "execution_count": 102,
   "metadata": {},
   "outputs": [],
   "source": [
    "# Inpute missing values with means\n",
    "imputer = Imputer(missing_values='NaN', strategy=\"mean\", axis=0)\n",
    "restaurant_df_num = pd.DataFrame(imputer.fit_transform(restaurant_df[num_features]), columns=num_features, index=restaurant_df.index)"
   ]
  },
  {
   "cell_type": "code",
   "execution_count": 104,
   "metadata": {},
   "outputs": [],
   "source": [
    "# Scale the numeric features\n",
    "scaler = StandardScaler()\n",
    "restaurant_df_scaled = pd.DataFrame(scaler.fit_transform(restaurant_df_num), columns=num_features, index=restaurant_df_num.index).merge(restaurant_df[bin_features], left_index=True, right_index=True)"
   ]
  },
  {
   "cell_type": "code",
   "execution_count": 108,
   "metadata": {},
   "outputs": [],
   "source": [
    "# Seperate the data\n",
    "prediction_df_scaled = restaurant_df_scaled.loc[restaurant_df['visitors'] == 0, :].copy()\n",
    "model_df_scaled = restaurant_df_scaled.loc[restaurant_df['visitors'] > 0, :].copy()"
   ]
  },
  {
   "cell_type": "code",
   "execution_count": 115,
   "metadata": {},
   "outputs": [
    {
     "name": "stdout",
     "output_type": "stream",
     "text": [
      "Train Set RMSLE: 0.7013\n"
     ]
    }
   ],
   "source": [
    "# Uses np.lop1p() and StandardScaler features\n",
    "regr_full = DecisionTreeRegressor(random_state=random_seed, max_depth=12, max_features='auto', criterion='friedman_mse', splitter='best')\n",
    "regr_full.fit(model_df_scaled, np.log1p(y))\n",
    "\n",
    "print('Train Set RMSLE: {:.4f}'.format(rmsle(y, np.expm1((regr_full.predict(model_df_scaled))))))"
   ]
  },
  {
   "cell_type": "code",
   "execution_count": 116,
   "metadata": {},
   "outputs": [],
   "source": [
    "# Tranform data based on Regression Tree\n",
    "model_full = SelectFromModel(regr_full, prefit=True, threshold = 0.05)\n",
    "model_transform = model_full.transform(model_df_scaled)\n",
    "prediction_transform = model_full.transform(prediction_df_scaled)"
   ]
  },
  {
   "cell_type": "code",
   "execution_count": null,
   "metadata": {},
   "outputs": [],
   "source": [
    "# Regression Forest with selected features, scaled and np.log1p()\n",
    "rand_forest_reg_full = RandomForestRegressor(n_estimators=1000000, min_samples_leaf=0.0005, criterion='friedman_mse', n_jobs=-1, warm_start=True)\n",
    "rand_forest_reg_full.fit(model_transform, np.log1p(y))\n",
    "\n",
    "print('Train Set RMSLE: {:.4f}'.format(rmsle(y, np.expm1(rand_forest_reg_full.predict(model_transform)))))"
   ]
  },
  {
   "cell_type": "code",
   "execution_count": null,
   "metadata": {},
   "outputs": [],
   "source": [
    "0.6959"
   ]
  },
  {
   "cell_type": "code",
   "execution_count": 141,
   "metadata": {},
   "outputs": [
    {
     "data": {
      "text/html": [
       "<div>\n",
       "<style scoped>\n",
       "    .dataframe tbody tr th:only-of-type {\n",
       "        vertical-align: middle;\n",
       "    }\n",
       "\n",
       "    .dataframe tbody tr th {\n",
       "        vertical-align: top;\n",
       "    }\n",
       "\n",
       "    .dataframe thead th {\n",
       "        text-align: right;\n",
       "    }\n",
       "</style>\n",
       "<table border=\"1\" class=\"dataframe\">\n",
       "  <thead>\n",
       "    <tr style=\"text-align: right;\">\n",
       "      <th></th>\n",
       "      <th>id</th>\n",
       "      <th>visitors</th>\n",
       "    </tr>\n",
       "  </thead>\n",
       "  <tbody>\n",
       "    <tr>\n",
       "      <th>0</th>\n",
       "      <td>air_877f79706adbfb06_2017-04-23</td>\n",
       "      <td>14.0</td>\n",
       "    </tr>\n",
       "    <tr>\n",
       "      <th>1</th>\n",
       "      <td>air_3bb99a1fe0583897_2017-04-23</td>\n",
       "      <td>12.0</td>\n",
       "    </tr>\n",
       "    <tr>\n",
       "      <th>2</th>\n",
       "      <td>air_326ca454ef3558bc_2017-04-23</td>\n",
       "      <td>36.0</td>\n",
       "    </tr>\n",
       "    <tr>\n",
       "      <th>3</th>\n",
       "      <td>air_a083834e7ffe187e_2017-04-23</td>\n",
       "      <td>12.0</td>\n",
       "    </tr>\n",
       "    <tr>\n",
       "      <th>4</th>\n",
       "      <td>air_ee3a01f0c71a769f_2017-04-23</td>\n",
       "      <td>33.0</td>\n",
       "    </tr>\n",
       "  </tbody>\n",
       "</table>\n",
       "</div>"
      ],
      "text/plain": [
       "                                id  visitors\n",
       "0  air_877f79706adbfb06_2017-04-23      14.0\n",
       "1  air_3bb99a1fe0583897_2017-04-23      12.0\n",
       "2  air_326ca454ef3558bc_2017-04-23      36.0\n",
       "3  air_a083834e7ffe187e_2017-04-23      12.0\n",
       "4  air_ee3a01f0c71a769f_2017-04-23      33.0"
      ]
     },
     "execution_count": 141,
     "metadata": {},
     "output_type": "execute_result"
    }
   ],
   "source": [
    "submission = pd.DataFrame()\n",
    "submission['id'] = prediction_df.index\n",
    "submission['visitors'] = np.floor(np.expm1(rand_forest_reg_full.predict(prediction_transform)))\n",
    "\n",
    "submission.head()"
   ]
  },
  {
   "cell_type": "code",
   "execution_count": 142,
   "metadata": {},
   "outputs": [],
   "source": [
    "submission.to_csv('submission_floor.csv', index=False)"
   ]
  },
  {
   "cell_type": "markdown",
   "metadata": {},
   "source": [
    "# Improved Pre-processing (adds submission data)"
   ]
  },
  {
   "cell_type": "markdown",
   "metadata": {},
   "source": [
    "## Sample Submission Data (sample_submission & air_visits)"
   ]
  },
  {
   "cell_type": "code",
   "execution_count": 6,
   "metadata": {
    "scrolled": false
   },
   "outputs": [
    {
     "name": "stderr",
     "output_type": "stream",
     "text": [
      "C:\\ProgramData\\Anaconda3\\lib\\site-packages\\ipykernel_launcher.py:4: FutureWarning: currently extract(expand=None) means expand=False (return Index/Series/DataFrame) but in a future version of pandas this will be changed to expand=True (return DataFrame)\n",
      "  after removing the cwd from sys.path.\n",
      "C:\\ProgramData\\Anaconda3\\lib\\site-packages\\ipykernel_launcher.py:6: FutureWarning: currently extract(expand=None) means expand=False (return Index/Series/DataFrame) but in a future version of pandas this will be changed to expand=True (return DataFrame)\n",
      "  \n"
     ]
    }
   ],
   "source": [
    "# Creates dataframe for processing submission\n",
    "prediction_df = pd.DataFrame()\n",
    "# Extracts the 'air_store_id'\n",
    "prediction_df['air_store_id'] = sample_submission_df['id'].str.extract('(.{20})_.+')\n",
    "# Extacts the 'visit_date'\n",
    "prediction_df['visit_date'] = pd.DatetimeIndex(sample_submission_df['id'].str.extract('.{20}_(.+)')).date\n",
    "# Sets 'visitors' to 0 so these do not get dropped later on\n",
    "prediction_df['visitors'] = 0\n",
    "\n",
    "# Combines prediction_df and air_visit_data_df\n",
    "visitors_df = air_visit_data_df.append(prediction_df)\n",
    "# Fixes 'visit_date'\n",
    "visitors_df['visit_date'] = pd.DatetimeIndex(visitors_df['visit_date']).date"
   ]
  },
  {
   "cell_type": "markdown",
   "metadata": {},
   "source": [
    "## Reservation Data (air_reserve and hpg_reserve)"
   ]
  },
  {
   "cell_type": "code",
   "execution_count": 7,
   "metadata": {},
   "outputs": [
    {
     "data": {
      "text/html": [
       "<div>\n",
       "<style scoped>\n",
       "    .dataframe tbody tr th:only-of-type {\n",
       "        vertical-align: middle;\n",
       "    }\n",
       "\n",
       "    .dataframe tbody tr th {\n",
       "        vertical-align: top;\n",
       "    }\n",
       "\n",
       "    .dataframe thead th {\n",
       "        text-align: right;\n",
       "    }\n",
       "</style>\n",
       "<table border=\"1\" class=\"dataframe\">\n",
       "  <thead>\n",
       "    <tr style=\"text-align: right;\">\n",
       "      <th></th>\n",
       "      <th>air_store_id</th>\n",
       "      <th>visit_datetime</th>\n",
       "      <th>reserve_datetime</th>\n",
       "      <th>reserve_visitors</th>\n",
       "      <th>reserve_date</th>\n",
       "      <th>reserve_time</th>\n",
       "      <th>visit_date</th>\n",
       "      <th>visit_time</th>\n",
       "      <th>reserve_visit_difference</th>\n",
       "    </tr>\n",
       "  </thead>\n",
       "  <tbody>\n",
       "    <tr>\n",
       "      <th>0</th>\n",
       "      <td>air_877f79706adbfb06</td>\n",
       "      <td>2016-01-01 19:00:00</td>\n",
       "      <td>2016-01-01 16:00:00</td>\n",
       "      <td>1</td>\n",
       "      <td>2016-01-01</td>\n",
       "      <td>16:00:00</td>\n",
       "      <td>2016-01-01</td>\n",
       "      <td>19:00:00</td>\n",
       "      <td>0.125000</td>\n",
       "    </tr>\n",
       "    <tr>\n",
       "      <th>1</th>\n",
       "      <td>air_db4b38ebe7a7ceff</td>\n",
       "      <td>2016-01-01 19:00:00</td>\n",
       "      <td>2016-01-01 19:00:00</td>\n",
       "      <td>3</td>\n",
       "      <td>2016-01-01</td>\n",
       "      <td>19:00:00</td>\n",
       "      <td>2016-01-01</td>\n",
       "      <td>19:00:00</td>\n",
       "      <td>0.000000</td>\n",
       "    </tr>\n",
       "    <tr>\n",
       "      <th>2</th>\n",
       "      <td>air_db4b38ebe7a7ceff</td>\n",
       "      <td>2016-01-01 19:00:00</td>\n",
       "      <td>2016-01-01 19:00:00</td>\n",
       "      <td>6</td>\n",
       "      <td>2016-01-01</td>\n",
       "      <td>19:00:00</td>\n",
       "      <td>2016-01-01</td>\n",
       "      <td>19:00:00</td>\n",
       "      <td>0.000000</td>\n",
       "    </tr>\n",
       "    <tr>\n",
       "      <th>3</th>\n",
       "      <td>air_877f79706adbfb06</td>\n",
       "      <td>2016-01-01 20:00:00</td>\n",
       "      <td>2016-01-01 16:00:00</td>\n",
       "      <td>2</td>\n",
       "      <td>2016-01-01</td>\n",
       "      <td>16:00:00</td>\n",
       "      <td>2016-01-01</td>\n",
       "      <td>20:00:00</td>\n",
       "      <td>0.166667</td>\n",
       "    </tr>\n",
       "    <tr>\n",
       "      <th>4</th>\n",
       "      <td>air_db80363d35f10926</td>\n",
       "      <td>2016-01-01 20:00:00</td>\n",
       "      <td>2016-01-01 01:00:00</td>\n",
       "      <td>5</td>\n",
       "      <td>2016-01-01</td>\n",
       "      <td>01:00:00</td>\n",
       "      <td>2016-01-01</td>\n",
       "      <td>20:00:00</td>\n",
       "      <td>0.791667</td>\n",
       "    </tr>\n",
       "  </tbody>\n",
       "</table>\n",
       "</div>"
      ],
      "text/plain": [
       "           air_store_id      visit_datetime    reserve_datetime  \\\n",
       "0  air_877f79706adbfb06 2016-01-01 19:00:00 2016-01-01 16:00:00   \n",
       "1  air_db4b38ebe7a7ceff 2016-01-01 19:00:00 2016-01-01 19:00:00   \n",
       "2  air_db4b38ebe7a7ceff 2016-01-01 19:00:00 2016-01-01 19:00:00   \n",
       "3  air_877f79706adbfb06 2016-01-01 20:00:00 2016-01-01 16:00:00   \n",
       "4  air_db80363d35f10926 2016-01-01 20:00:00 2016-01-01 01:00:00   \n",
       "\n",
       "   reserve_visitors reserve_date reserve_time  visit_date visit_time  \\\n",
       "0                 1   2016-01-01     16:00:00  2016-01-01   19:00:00   \n",
       "1                 3   2016-01-01     19:00:00  2016-01-01   19:00:00   \n",
       "2                 6   2016-01-01     19:00:00  2016-01-01   19:00:00   \n",
       "3                 2   2016-01-01     16:00:00  2016-01-01   20:00:00   \n",
       "4                 5   2016-01-01     01:00:00  2016-01-01   20:00:00   \n",
       "\n",
       "   reserve_visit_difference  \n",
       "0                  0.125000  \n",
       "1                  0.000000  \n",
       "2                  0.000000  \n",
       "3                  0.166667  \n",
       "4                  0.791667  "
      ]
     },
     "execution_count": 7,
     "metadata": {},
     "output_type": "execute_result"
    }
   ],
   "source": [
    "# Converts datetime field to better format\n",
    "air_reserve_df['visit_datetime'] = pd.DatetimeIndex(air_reserve_df['visit_datetime'])\n",
    "air_reserve_df['reserve_datetime'] = pd.DatetimeIndex(air_reserve_df['reserve_datetime'])\n",
    "# Date reservation was made\n",
    "air_reserve_df['reserve_date'] = pd.DatetimeIndex(air_reserve_df['reserve_datetime']).date\n",
    "# Time reservation was made\n",
    "air_reserve_df['reserve_time'] = pd.DatetimeIndex(air_reserve_df['reserve_datetime']).time\n",
    "# Date reservation was mode for (date of visitation )\n",
    "air_reserve_df['visit_date'] = pd.DatetimeIndex(air_reserve_df['visit_datetime']).date\n",
    "# Time reservation was mode for (time of visitation )\n",
    "air_reserve_df['visit_time'] = pd.DatetimeIndex(air_reserve_df['visit_datetime']).time\n",
    "# Calculates the difference in days between when the reservation was made and the visit\n",
    "air_reserve_df['reserve_visit_difference'] = (pd.DatetimeIndex(air_reserve_df['visit_datetime'])-pd.DatetimeIndex(air_reserve_df['reserve_datetime'])) / np.timedelta64(1, 'D')\n",
    "\n",
    "air_reserve_df.head()"
   ]
  },
  {
   "cell_type": "code",
   "execution_count": 8,
   "metadata": {},
   "outputs": [
    {
     "data": {
      "text/html": [
       "<div>\n",
       "<style scoped>\n",
       "    .dataframe tbody tr th:only-of-type {\n",
       "        vertical-align: middle;\n",
       "    }\n",
       "\n",
       "    .dataframe tbody tr th {\n",
       "        vertical-align: top;\n",
       "    }\n",
       "\n",
       "    .dataframe thead th {\n",
       "        text-align: right;\n",
       "    }\n",
       "</style>\n",
       "<table border=\"1\" class=\"dataframe\">\n",
       "  <thead>\n",
       "    <tr style=\"text-align: right;\">\n",
       "      <th></th>\n",
       "      <th>hpg_store_id</th>\n",
       "      <th>visit_datetime</th>\n",
       "      <th>reserve_datetime</th>\n",
       "      <th>reserve_visitors</th>\n",
       "      <th>reserve_date</th>\n",
       "      <th>reserve_time</th>\n",
       "      <th>visit_date</th>\n",
       "      <th>visit_time</th>\n",
       "      <th>reserve_visit_difference</th>\n",
       "    </tr>\n",
       "  </thead>\n",
       "  <tbody>\n",
       "    <tr>\n",
       "      <th>0</th>\n",
       "      <td>hpg_c63f6f42e088e50f</td>\n",
       "      <td>2016-01-01 11:00:00</td>\n",
       "      <td>2016-01-01 09:00:00</td>\n",
       "      <td>1</td>\n",
       "      <td>2016-01-01</td>\n",
       "      <td>09:00:00</td>\n",
       "      <td>2016-01-01</td>\n",
       "      <td>11:00:00</td>\n",
       "      <td>0.083333</td>\n",
       "    </tr>\n",
       "    <tr>\n",
       "      <th>1</th>\n",
       "      <td>hpg_dac72789163a3f47</td>\n",
       "      <td>2016-01-01 13:00:00</td>\n",
       "      <td>2016-01-01 06:00:00</td>\n",
       "      <td>3</td>\n",
       "      <td>2016-01-01</td>\n",
       "      <td>06:00:00</td>\n",
       "      <td>2016-01-01</td>\n",
       "      <td>13:00:00</td>\n",
       "      <td>0.291667</td>\n",
       "    </tr>\n",
       "    <tr>\n",
       "      <th>2</th>\n",
       "      <td>hpg_c8e24dcf51ca1eb5</td>\n",
       "      <td>2016-01-01 16:00:00</td>\n",
       "      <td>2016-01-01 14:00:00</td>\n",
       "      <td>2</td>\n",
       "      <td>2016-01-01</td>\n",
       "      <td>14:00:00</td>\n",
       "      <td>2016-01-01</td>\n",
       "      <td>16:00:00</td>\n",
       "      <td>0.083333</td>\n",
       "    </tr>\n",
       "    <tr>\n",
       "      <th>3</th>\n",
       "      <td>hpg_24bb207e5fd49d4a</td>\n",
       "      <td>2016-01-01 17:00:00</td>\n",
       "      <td>2016-01-01 11:00:00</td>\n",
       "      <td>5</td>\n",
       "      <td>2016-01-01</td>\n",
       "      <td>11:00:00</td>\n",
       "      <td>2016-01-01</td>\n",
       "      <td>17:00:00</td>\n",
       "      <td>0.250000</td>\n",
       "    </tr>\n",
       "    <tr>\n",
       "      <th>4</th>\n",
       "      <td>hpg_25291c542ebb3bc2</td>\n",
       "      <td>2016-01-01 17:00:00</td>\n",
       "      <td>2016-01-01 03:00:00</td>\n",
       "      <td>13</td>\n",
       "      <td>2016-01-01</td>\n",
       "      <td>03:00:00</td>\n",
       "      <td>2016-01-01</td>\n",
       "      <td>17:00:00</td>\n",
       "      <td>0.583333</td>\n",
       "    </tr>\n",
       "  </tbody>\n",
       "</table>\n",
       "</div>"
      ],
      "text/plain": [
       "           hpg_store_id      visit_datetime    reserve_datetime  \\\n",
       "0  hpg_c63f6f42e088e50f 2016-01-01 11:00:00 2016-01-01 09:00:00   \n",
       "1  hpg_dac72789163a3f47 2016-01-01 13:00:00 2016-01-01 06:00:00   \n",
       "2  hpg_c8e24dcf51ca1eb5 2016-01-01 16:00:00 2016-01-01 14:00:00   \n",
       "3  hpg_24bb207e5fd49d4a 2016-01-01 17:00:00 2016-01-01 11:00:00   \n",
       "4  hpg_25291c542ebb3bc2 2016-01-01 17:00:00 2016-01-01 03:00:00   \n",
       "\n",
       "   reserve_visitors reserve_date reserve_time  visit_date visit_time  \\\n",
       "0                 1   2016-01-01     09:00:00  2016-01-01   11:00:00   \n",
       "1                 3   2016-01-01     06:00:00  2016-01-01   13:00:00   \n",
       "2                 2   2016-01-01     14:00:00  2016-01-01   16:00:00   \n",
       "3                 5   2016-01-01     11:00:00  2016-01-01   17:00:00   \n",
       "4                13   2016-01-01     03:00:00  2016-01-01   17:00:00   \n",
       "\n",
       "   reserve_visit_difference  \n",
       "0                  0.083333  \n",
       "1                  0.291667  \n",
       "2                  0.083333  \n",
       "3                  0.250000  \n",
       "4                  0.583333  "
      ]
     },
     "execution_count": 8,
     "metadata": {},
     "output_type": "execute_result"
    }
   ],
   "source": [
    "# Converts datetime field to better format\n",
    "hpg_reserve_df['visit_datetime'] = pd.DatetimeIndex(hpg_reserve_df['visit_datetime'])\n",
    "hpg_reserve_df['reserve_datetime'] = pd.DatetimeIndex(hpg_reserve_df['reserve_datetime'])\n",
    "# Date reservation was made\n",
    "hpg_reserve_df['reserve_date'] = pd.DatetimeIndex(hpg_reserve_df['reserve_datetime']).date\n",
    "# Time reservation was made\n",
    "hpg_reserve_df['reserve_time'] = pd.DatetimeIndex(hpg_reserve_df['reserve_datetime']).time\n",
    "# Date reservation was mode for (date of visitation )\n",
    "hpg_reserve_df['visit_date'] = pd.DatetimeIndex(hpg_reserve_df['visit_datetime']).date\n",
    "# Time reservation was mode for (time of visitation )\n",
    "hpg_reserve_df['visit_time'] = pd.DatetimeIndex(hpg_reserve_df['visit_datetime']).time\n",
    "# Calculates the difference in days between when the reservation was made and the visit\n",
    "hpg_reserve_df['reserve_visit_difference'] = (pd.DatetimeIndex(hpg_reserve_df['visit_datetime'])-pd.DatetimeIndex(hpg_reserve_df['reserve_datetime'])) / np.timedelta64(1, 'D')\n",
    "\n",
    "hpg_reserve_df.head()"
   ]
  },
  {
   "cell_type": "code",
   "execution_count": 9,
   "metadata": {},
   "outputs": [
    {
     "data": {
      "text/html": [
       "<div>\n",
       "<style scoped>\n",
       "    .dataframe tbody tr th:only-of-type {\n",
       "        vertical-align: middle;\n",
       "    }\n",
       "\n",
       "    .dataframe tbody tr th {\n",
       "        vertical-align: top;\n",
       "    }\n",
       "\n",
       "    .dataframe thead th {\n",
       "        text-align: right;\n",
       "    }\n",
       "</style>\n",
       "<table border=\"1\" class=\"dataframe\">\n",
       "  <thead>\n",
       "    <tr style=\"text-align: right;\">\n",
       "      <th></th>\n",
       "      <th>air_store_id</th>\n",
       "      <th>visit_date</th>\n",
       "      <th>air_daily_visitors_count</th>\n",
       "      <th>air_daily_visitors_sum</th>\n",
       "      <th>air_daily_avg_RVD</th>\n",
       "    </tr>\n",
       "  </thead>\n",
       "  <tbody>\n",
       "    <tr>\n",
       "      <th>0</th>\n",
       "      <td>air_00a91d42b08b08d9</td>\n",
       "      <td>2016-10-31</td>\n",
       "      <td>1</td>\n",
       "      <td>2</td>\n",
       "      <td>0.166667</td>\n",
       "    </tr>\n",
       "    <tr>\n",
       "      <th>1</th>\n",
       "      <td>air_00a91d42b08b08d9</td>\n",
       "      <td>2016-12-05</td>\n",
       "      <td>1</td>\n",
       "      <td>9</td>\n",
       "      <td>4.166667</td>\n",
       "    </tr>\n",
       "    <tr>\n",
       "      <th>2</th>\n",
       "      <td>air_00a91d42b08b08d9</td>\n",
       "      <td>2016-12-14</td>\n",
       "      <td>1</td>\n",
       "      <td>18</td>\n",
       "      <td>6.375000</td>\n",
       "    </tr>\n",
       "    <tr>\n",
       "      <th>3</th>\n",
       "      <td>air_00a91d42b08b08d9</td>\n",
       "      <td>2016-12-17</td>\n",
       "      <td>1</td>\n",
       "      <td>2</td>\n",
       "      <td>6.125000</td>\n",
       "    </tr>\n",
       "    <tr>\n",
       "      <th>4</th>\n",
       "      <td>air_00a91d42b08b08d9</td>\n",
       "      <td>2016-12-20</td>\n",
       "      <td>1</td>\n",
       "      <td>4</td>\n",
       "      <td>2.125000</td>\n",
       "    </tr>\n",
       "  </tbody>\n",
       "</table>\n",
       "</div>"
      ],
      "text/plain": [
       "           air_store_id  visit_date  air_daily_visitors_count  \\\n",
       "0  air_00a91d42b08b08d9  2016-10-31                         1   \n",
       "1  air_00a91d42b08b08d9  2016-12-05                         1   \n",
       "2  air_00a91d42b08b08d9  2016-12-14                         1   \n",
       "3  air_00a91d42b08b08d9  2016-12-17                         1   \n",
       "4  air_00a91d42b08b08d9  2016-12-20                         1   \n",
       "\n",
       "   air_daily_visitors_sum  air_daily_avg_RVD  \n",
       "0                       2           0.166667  \n",
       "1                       9           4.166667  \n",
       "2                      18           6.375000  \n",
       "3                       2           6.125000  \n",
       "4                       4           2.125000  "
      ]
     },
     "execution_count": 9,
     "metadata": {},
     "output_type": "execute_result"
    }
   ],
   "source": [
    "air_groups = air_reserve_df.groupby(['air_store_id', 'visit_date'])\n",
    "air_daily = air_groups.agg({'reserve_visitors':['count', 'sum'], 'reserve_visit_difference': 'mean'}).reset_index()\n",
    "air_daily.columns = ['air_store_id', 'visit_date', 'air_daily_visitors_count', 'air_daily_visitors_sum', 'air_daily_avg_RVD']\n",
    "air_daily.head()"
   ]
  },
  {
   "cell_type": "code",
   "execution_count": 10,
   "metadata": {
    "scrolled": true
   },
   "outputs": [
    {
     "data": {
      "text/html": [
       "<div>\n",
       "<style scoped>\n",
       "    .dataframe tbody tr th:only-of-type {\n",
       "        vertical-align: middle;\n",
       "    }\n",
       "\n",
       "    .dataframe tbody tr th {\n",
       "        vertical-align: top;\n",
       "    }\n",
       "\n",
       "    .dataframe thead th {\n",
       "        text-align: right;\n",
       "    }\n",
       "</style>\n",
       "<table border=\"1\" class=\"dataframe\">\n",
       "  <thead>\n",
       "    <tr style=\"text-align: right;\">\n",
       "      <th></th>\n",
       "      <th>hpg_store_id</th>\n",
       "      <th>visit_date</th>\n",
       "      <th>hpg_daily_visitors_count</th>\n",
       "      <th>hpg_daily_visitors_sum</th>\n",
       "      <th>hpg_daily_avg_RVD</th>\n",
       "    </tr>\n",
       "  </thead>\n",
       "  <tbody>\n",
       "    <tr>\n",
       "      <th>0</th>\n",
       "      <td>hpg_001112ef76b9802c</td>\n",
       "      <td>2016-02-26</td>\n",
       "      <td>1</td>\n",
       "      <td>9</td>\n",
       "      <td>17.250000</td>\n",
       "    </tr>\n",
       "    <tr>\n",
       "      <th>1</th>\n",
       "      <td>hpg_001112ef76b9802c</td>\n",
       "      <td>2016-03-17</td>\n",
       "      <td>1</td>\n",
       "      <td>3</td>\n",
       "      <td>14.000000</td>\n",
       "    </tr>\n",
       "    <tr>\n",
       "      <th>2</th>\n",
       "      <td>hpg_001112ef76b9802c</td>\n",
       "      <td>2016-03-31</td>\n",
       "      <td>1</td>\n",
       "      <td>5</td>\n",
       "      <td>5.958333</td>\n",
       "    </tr>\n",
       "    <tr>\n",
       "      <th>3</th>\n",
       "      <td>hpg_001112ef76b9802c</td>\n",
       "      <td>2016-04-05</td>\n",
       "      <td>1</td>\n",
       "      <td>13</td>\n",
       "      <td>4.333333</td>\n",
       "    </tr>\n",
       "    <tr>\n",
       "      <th>4</th>\n",
       "      <td>hpg_001112ef76b9802c</td>\n",
       "      <td>2016-04-18</td>\n",
       "      <td>1</td>\n",
       "      <td>9</td>\n",
       "      <td>3.208333</td>\n",
       "    </tr>\n",
       "  </tbody>\n",
       "</table>\n",
       "</div>"
      ],
      "text/plain": [
       "           hpg_store_id  visit_date  hpg_daily_visitors_count  \\\n",
       "0  hpg_001112ef76b9802c  2016-02-26                         1   \n",
       "1  hpg_001112ef76b9802c  2016-03-17                         1   \n",
       "2  hpg_001112ef76b9802c  2016-03-31                         1   \n",
       "3  hpg_001112ef76b9802c  2016-04-05                         1   \n",
       "4  hpg_001112ef76b9802c  2016-04-18                         1   \n",
       "\n",
       "   hpg_daily_visitors_sum  hpg_daily_avg_RVD  \n",
       "0                       9          17.250000  \n",
       "1                       3          14.000000  \n",
       "2                       5           5.958333  \n",
       "3                      13           4.333333  \n",
       "4                       9           3.208333  "
      ]
     },
     "execution_count": 10,
     "metadata": {},
     "output_type": "execute_result"
    }
   ],
   "source": [
    "hpg_groups = hpg_reserve_df.groupby(['hpg_store_id', 'visit_date'])\n",
    "hpg_daily = hpg_groups.agg({'reserve_visitors':['count', 'sum'], 'reserve_visit_difference': 'mean'}).reset_index()\n",
    "hpg_daily.columns = ['hpg_store_id', 'visit_date', 'hpg_daily_visitors_count', 'hpg_daily_visitors_sum', 'hpg_daily_avg_RVD']\n",
    "hpg_daily.head()"
   ]
  },
  {
   "cell_type": "code",
   "execution_count": 67,
   "metadata": {},
   "outputs": [
    {
     "data": {
      "text/html": [
       "<div>\n",
       "<style scoped>\n",
       "    .dataframe tbody tr th:only-of-type {\n",
       "        vertical-align: middle;\n",
       "    }\n",
       "\n",
       "    .dataframe tbody tr th {\n",
       "        vertical-align: top;\n",
       "    }\n",
       "\n",
       "    .dataframe thead th {\n",
       "        text-align: right;\n",
       "    }\n",
       "</style>\n",
       "<table border=\"1\" class=\"dataframe\">\n",
       "  <thead>\n",
       "    <tr style=\"text-align: right;\">\n",
       "      <th></th>\n",
       "      <th>hpg_daily_visitors_count</th>\n",
       "      <th>hpg_daily_visitors_sum</th>\n",
       "      <th>hpg_daily_avg_RVD</th>\n",
       "    </tr>\n",
       "    <tr>\n",
       "      <th>visit_date</th>\n",
       "      <th></th>\n",
       "      <th></th>\n",
       "      <th></th>\n",
       "    </tr>\n",
       "  </thead>\n",
       "  <tbody>\n",
       "    <tr>\n",
       "      <th>2016-01-01</th>\n",
       "      <td>0.011407</td>\n",
       "      <td>0.036998</td>\n",
       "      <td>0.001986</td>\n",
       "    </tr>\n",
       "    <tr>\n",
       "      <th>2016-01-02</th>\n",
       "      <td>0.056735</td>\n",
       "      <td>0.231820</td>\n",
       "      <td>0.036333</td>\n",
       "    </tr>\n",
       "    <tr>\n",
       "      <th>2016-01-03</th>\n",
       "      <td>0.062364</td>\n",
       "      <td>0.241876</td>\n",
       "      <td>0.060969</td>\n",
       "    </tr>\n",
       "    <tr>\n",
       "      <th>2016-01-04</th>\n",
       "      <td>0.055610</td>\n",
       "      <td>0.212683</td>\n",
       "      <td>0.069541</td>\n",
       "    </tr>\n",
       "    <tr>\n",
       "      <th>2016-01-05</th>\n",
       "      <td>0.049681</td>\n",
       "      <td>0.209831</td>\n",
       "      <td>0.076142</td>\n",
       "    </tr>\n",
       "  </tbody>\n",
       "</table>\n",
       "</div>"
      ],
      "text/plain": [
       "            hpg_daily_visitors_count  hpg_daily_visitors_sum  \\\n",
       "visit_date                                                     \n",
       "2016-01-01                  0.011407                0.036998   \n",
       "2016-01-02                  0.056735                0.231820   \n",
       "2016-01-03                  0.062364                0.241876   \n",
       "2016-01-04                  0.055610                0.212683   \n",
       "2016-01-05                  0.049681                0.209831   \n",
       "\n",
       "            hpg_daily_avg_RVD  \n",
       "visit_date                     \n",
       "2016-01-01           0.001986  \n",
       "2016-01-02           0.036333  \n",
       "2016-01-03           0.060969  \n",
       "2016-01-04           0.069541  \n",
       "2016-01-05           0.076142  "
      ]
     },
     "execution_count": 67,
     "metadata": {},
     "output_type": "execute_result"
    }
   ],
   "source": [
    "# Creates empty DF for storing inputed data\n",
    "hpg_inputing = pd.DataFrame()\n",
    "# Adds each unique 'hpg_store_id' 517 times (the number of visit_dates)\n",
    "hpg_inputing['hpg_store_id'] = np.repeat(hpg_daily['hpg_store_id'].unique(), len(visitors_df['visit_date'].unique()))\n",
    "# Adds each visit_date to each unique 'hpg_store_id'\n",
    "hpg_inputing['visit_date'] = np.tile(visitors_df['visit_date'].unique(), len(hpg_daily['hpg_store_id'].unique()))\n",
    "# Merges in calculated values from hpg_daily\n",
    "hpg_inputing = hpg_inputing.merge(hpg_daily, on=['hpg_store_id', 'visit_date'], how='outer')\n",
    "# Fills in NaN values with 0 for days no reservations where made\n",
    "hpg_inputing.fillna(0, inplace=True)\n",
    "# Calculates the avergae for each visit_date\n",
    "hpg_inputing = hpg_inputing.groupby('visit_date').mean()\n",
    "\n",
    "hpg_inputing.head()"
   ]
  },
  {
   "cell_type": "markdown",
   "metadata": {},
   "source": [
    "## Date Processing (date_info)"
   ]
  },
  {
   "cell_type": "code",
   "execution_count": 11,
   "metadata": {},
   "outputs": [
    {
     "data": {
      "text/html": [
       "<div>\n",
       "<style scoped>\n",
       "    .dataframe tbody tr th:only-of-type {\n",
       "        vertical-align: middle;\n",
       "    }\n",
       "\n",
       "    .dataframe tbody tr th {\n",
       "        vertical-align: top;\n",
       "    }\n",
       "\n",
       "    .dataframe thead th {\n",
       "        text-align: right;\n",
       "    }\n",
       "</style>\n",
       "<table border=\"1\" class=\"dataframe\">\n",
       "  <thead>\n",
       "    <tr style=\"text-align: right;\">\n",
       "      <th></th>\n",
       "      <th>visit_date</th>\n",
       "      <th>holiday_flg</th>\n",
       "      <th>numeric_year</th>\n",
       "      <th>numeric_month</th>\n",
       "      <th>numeric_weekday</th>\n",
       "    </tr>\n",
       "  </thead>\n",
       "  <tbody>\n",
       "    <tr>\n",
       "      <th>0</th>\n",
       "      <td>2016-01-01</td>\n",
       "      <td>1</td>\n",
       "      <td>2016</td>\n",
       "      <td>1</td>\n",
       "      <td>5</td>\n",
       "    </tr>\n",
       "    <tr>\n",
       "      <th>1</th>\n",
       "      <td>2016-01-02</td>\n",
       "      <td>1</td>\n",
       "      <td>2016</td>\n",
       "      <td>1</td>\n",
       "      <td>6</td>\n",
       "    </tr>\n",
       "    <tr>\n",
       "      <th>2</th>\n",
       "      <td>2016-01-03</td>\n",
       "      <td>1</td>\n",
       "      <td>2016</td>\n",
       "      <td>1</td>\n",
       "      <td>7</td>\n",
       "    </tr>\n",
       "    <tr>\n",
       "      <th>3</th>\n",
       "      <td>2016-01-04</td>\n",
       "      <td>0</td>\n",
       "      <td>2016</td>\n",
       "      <td>1</td>\n",
       "      <td>1</td>\n",
       "    </tr>\n",
       "    <tr>\n",
       "      <th>4</th>\n",
       "      <td>2016-01-05</td>\n",
       "      <td>0</td>\n",
       "      <td>2016</td>\n",
       "      <td>1</td>\n",
       "      <td>2</td>\n",
       "    </tr>\n",
       "  </tbody>\n",
       "</table>\n",
       "</div>"
      ],
      "text/plain": [
       "   visit_date  holiday_flg  numeric_year  numeric_month  numeric_weekday\n",
       "0  2016-01-01            1          2016              1                5\n",
       "1  2016-01-02            1          2016              1                6\n",
       "2  2016-01-03            1          2016              1                7\n",
       "3  2016-01-04            0          2016              1                1\n",
       "4  2016-01-05            0          2016              1                2"
      ]
     },
     "execution_count": 11,
     "metadata": {},
     "output_type": "execute_result"
    }
   ],
   "source": [
    "# Creates a copy of date_info\n",
    "visit_date_df = date_info_df.copy()\n",
    "# Renames 'calender_date' to 'visit_date'\n",
    "visit_date_df.rename(index=str, columns={'calendar_date':'visit_date'}, inplace=True)\n",
    "# Removes 'day_of_week'\n",
    "visit_date_df.drop('day_of_week', axis=1, inplace=True)\n",
    "# Converts 'visit_date' to correct datetime format\n",
    "visit_date_df['visit_date'] = pd.DatetimeIndex(visit_date_df['visit_date']).date\n",
    "# Adds numeric year\n",
    "visit_date_df['numeric_year'] =  pd.DatetimeIndex(visit_date_df['visit_date']).year\n",
    "# Adds numeric month\n",
    "visit_date_df['numeric_month'] =  pd.DatetimeIndex(visit_date_df['visit_date']).month\n",
    "# Adds numeric weekday\n",
    "visit_date_df['numeric_weekday'] =  pd.DatetimeIndex(visit_date_df['visit_date']).weekday+1\n",
    "\n",
    "visit_date_df.head()"
   ]
  },
  {
   "cell_type": "markdown",
   "metadata": {},
   "source": [
    "## Establishment Info (air_store_info_df & hpg_store_info_df)"
   ]
  },
  {
   "cell_type": "code",
   "execution_count": 12,
   "metadata": {
    "scrolled": true
   },
   "outputs": [
    {
     "data": {
      "text/html": [
       "<div>\n",
       "<style scoped>\n",
       "    .dataframe tbody tr th:only-of-type {\n",
       "        vertical-align: middle;\n",
       "    }\n",
       "\n",
       "    .dataframe tbody tr th {\n",
       "        vertical-align: top;\n",
       "    }\n",
       "\n",
       "    .dataframe thead th {\n",
       "        text-align: right;\n",
       "    }\n",
       "</style>\n",
       "<table border=\"1\" class=\"dataframe\">\n",
       "  <thead>\n",
       "    <tr style=\"text-align: right;\">\n",
       "      <th></th>\n",
       "      <th>air_store_id</th>\n",
       "      <th>air_genre_name</th>\n",
       "      <th>air_area_name</th>\n",
       "      <th>latitude</th>\n",
       "      <th>longitude</th>\n",
       "    </tr>\n",
       "  </thead>\n",
       "  <tbody>\n",
       "    <tr>\n",
       "      <th>0</th>\n",
       "      <td>air_0f0cdeee6c9bf3d7</td>\n",
       "      <td>Italian/French</td>\n",
       "      <td>Hyōgo-ken Kōbe-shi Kumoidōri</td>\n",
       "      <td>34.695124</td>\n",
       "      <td>135.197852</td>\n",
       "    </tr>\n",
       "    <tr>\n",
       "      <th>1</th>\n",
       "      <td>air_7cc17a324ae5c7dc</td>\n",
       "      <td>Italian/French</td>\n",
       "      <td>Hyōgo-ken Kōbe-shi Kumoidōri</td>\n",
       "      <td>34.695124</td>\n",
       "      <td>135.197852</td>\n",
       "    </tr>\n",
       "    <tr>\n",
       "      <th>2</th>\n",
       "      <td>air_fee8dcf4d619598e</td>\n",
       "      <td>Italian/French</td>\n",
       "      <td>Hyōgo-ken Kōbe-shi Kumoidōri</td>\n",
       "      <td>34.695124</td>\n",
       "      <td>135.197852</td>\n",
       "    </tr>\n",
       "    <tr>\n",
       "      <th>3</th>\n",
       "      <td>air_a17f0778617c76e2</td>\n",
       "      <td>Italian/French</td>\n",
       "      <td>Hyōgo-ken Kōbe-shi Kumoidōri</td>\n",
       "      <td>34.695124</td>\n",
       "      <td>135.197852</td>\n",
       "    </tr>\n",
       "    <tr>\n",
       "      <th>4</th>\n",
       "      <td>air_83db5aff8f50478e</td>\n",
       "      <td>Italian/French</td>\n",
       "      <td>Tōkyō-to Minato-ku Shibakōen</td>\n",
       "      <td>35.658068</td>\n",
       "      <td>139.751599</td>\n",
       "    </tr>\n",
       "  </tbody>\n",
       "</table>\n",
       "</div>"
      ],
      "text/plain": [
       "           air_store_id  air_genre_name                 air_area_name  \\\n",
       "0  air_0f0cdeee6c9bf3d7  Italian/French  Hyōgo-ken Kōbe-shi Kumoidōri   \n",
       "1  air_7cc17a324ae5c7dc  Italian/French  Hyōgo-ken Kōbe-shi Kumoidōri   \n",
       "2  air_fee8dcf4d619598e  Italian/French  Hyōgo-ken Kōbe-shi Kumoidōri   \n",
       "3  air_a17f0778617c76e2  Italian/French  Hyōgo-ken Kōbe-shi Kumoidōri   \n",
       "4  air_83db5aff8f50478e  Italian/French  Tōkyō-to Minato-ku Shibakōen   \n",
       "\n",
       "    latitude   longitude  \n",
       "0  34.695124  135.197852  \n",
       "1  34.695124  135.197852  \n",
       "2  34.695124  135.197852  \n",
       "3  34.695124  135.197852  \n",
       "4  35.658068  139.751599  "
      ]
     },
     "execution_count": 12,
     "metadata": {},
     "output_type": "execute_result"
    }
   ],
   "source": [
    "air_store_info_df.head()"
   ]
  },
  {
   "cell_type": "markdown",
   "metadata": {},
   "source": [
    "# Merging Data"
   ]
  },
  {
   "cell_type": "code",
   "execution_count": 76,
   "metadata": {
    "scrolled": true
   },
   "outputs": [
    {
     "data": {
      "text/html": [
       "<div>\n",
       "<style scoped>\n",
       "    .dataframe tbody tr th:only-of-type {\n",
       "        vertical-align: middle;\n",
       "    }\n",
       "\n",
       "    .dataframe tbody tr th {\n",
       "        vertical-align: top;\n",
       "    }\n",
       "\n",
       "    .dataframe thead th {\n",
       "        text-align: right;\n",
       "    }\n",
       "</style>\n",
       "<table border=\"1\" class=\"dataframe\">\n",
       "  <thead>\n",
       "    <tr style=\"text-align: right;\">\n",
       "      <th></th>\n",
       "      <th>visit_date</th>\n",
       "      <th>air_daily_avg_RVD</th>\n",
       "      <th>air_daily_visitors_count</th>\n",
       "      <th>air_daily_visitors_sum</th>\n",
       "      <th>air_store_id</th>\n",
       "      <th>holiday_flg</th>\n",
       "      <th>hpg_daily_avg_RVD</th>\n",
       "      <th>hpg_daily_visitors_count</th>\n",
       "      <th>hpg_daily_visitors_sum</th>\n",
       "      <th>hpg_store_id</th>\n",
       "      <th>numeric_month</th>\n",
       "      <th>numeric_weekday</th>\n",
       "      <th>numeric_year</th>\n",
       "      <th>visitors</th>\n",
       "    </tr>\n",
       "  </thead>\n",
       "  <tbody>\n",
       "    <tr>\n",
       "      <th>0</th>\n",
       "      <td>2016-01-01</td>\n",
       "      <td>0.0</td>\n",
       "      <td>0.0</td>\n",
       "      <td>0.0</td>\n",
       "      <td>air_d0e8a085d8dc83aa</td>\n",
       "      <td>1</td>\n",
       "      <td>0.001986</td>\n",
       "      <td>0.011407</td>\n",
       "      <td>0.036998</td>\n",
       "      <td>NaN</td>\n",
       "      <td>1</td>\n",
       "      <td>5</td>\n",
       "      <td>2016</td>\n",
       "      <td>8</td>\n",
       "    </tr>\n",
       "    <tr>\n",
       "      <th>1</th>\n",
       "      <td>2016-01-01</td>\n",
       "      <td>0.0</td>\n",
       "      <td>0.0</td>\n",
       "      <td>0.0</td>\n",
       "      <td>air_5c65468938c07fa5</td>\n",
       "      <td>1</td>\n",
       "      <td>0.001986</td>\n",
       "      <td>0.011407</td>\n",
       "      <td>0.036998</td>\n",
       "      <td>NaN</td>\n",
       "      <td>1</td>\n",
       "      <td>5</td>\n",
       "      <td>2016</td>\n",
       "      <td>8</td>\n",
       "    </tr>\n",
       "    <tr>\n",
       "      <th>2</th>\n",
       "      <td>2016-01-01</td>\n",
       "      <td>0.0</td>\n",
       "      <td>0.0</td>\n",
       "      <td>0.0</td>\n",
       "      <td>air_f690c42545146e0a</td>\n",
       "      <td>1</td>\n",
       "      <td>0.000000</td>\n",
       "      <td>0.000000</td>\n",
       "      <td>0.000000</td>\n",
       "      <td>hpg_0dc016db530f5c33</td>\n",
       "      <td>1</td>\n",
       "      <td>5</td>\n",
       "      <td>2016</td>\n",
       "      <td>7</td>\n",
       "    </tr>\n",
       "    <tr>\n",
       "      <th>3</th>\n",
       "      <td>2016-01-01</td>\n",
       "      <td>0.0</td>\n",
       "      <td>0.0</td>\n",
       "      <td>0.0</td>\n",
       "      <td>air_09a845d5b5944b01</td>\n",
       "      <td>1</td>\n",
       "      <td>0.001986</td>\n",
       "      <td>0.011407</td>\n",
       "      <td>0.036998</td>\n",
       "      <td>NaN</td>\n",
       "      <td>1</td>\n",
       "      <td>5</td>\n",
       "      <td>2016</td>\n",
       "      <td>56</td>\n",
       "    </tr>\n",
       "    <tr>\n",
       "      <th>4</th>\n",
       "      <td>2016-01-01</td>\n",
       "      <td>0.0</td>\n",
       "      <td>0.0</td>\n",
       "      <td>0.0</td>\n",
       "      <td>air_d0a7bd3339c3d12a</td>\n",
       "      <td>1</td>\n",
       "      <td>0.001986</td>\n",
       "      <td>0.011407</td>\n",
       "      <td>0.036998</td>\n",
       "      <td>NaN</td>\n",
       "      <td>1</td>\n",
       "      <td>5</td>\n",
       "      <td>2016</td>\n",
       "      <td>62</td>\n",
       "    </tr>\n",
       "  </tbody>\n",
       "</table>\n",
       "</div>"
      ],
      "text/plain": [
       "   visit_date  air_daily_avg_RVD  air_daily_visitors_count  \\\n",
       "0  2016-01-01                0.0                       0.0   \n",
       "1  2016-01-01                0.0                       0.0   \n",
       "2  2016-01-01                0.0                       0.0   \n",
       "3  2016-01-01                0.0                       0.0   \n",
       "4  2016-01-01                0.0                       0.0   \n",
       "\n",
       "   air_daily_visitors_sum          air_store_id  holiday_flg  \\\n",
       "0                     0.0  air_d0e8a085d8dc83aa            1   \n",
       "1                     0.0  air_5c65468938c07fa5            1   \n",
       "2                     0.0  air_f690c42545146e0a            1   \n",
       "3                     0.0  air_09a845d5b5944b01            1   \n",
       "4                     0.0  air_d0a7bd3339c3d12a            1   \n",
       "\n",
       "   hpg_daily_avg_RVD  hpg_daily_visitors_count  hpg_daily_visitors_sum  \\\n",
       "0           0.001986                  0.011407                0.036998   \n",
       "1           0.001986                  0.011407                0.036998   \n",
       "2           0.000000                  0.000000                0.000000   \n",
       "3           0.001986                  0.011407                0.036998   \n",
       "4           0.001986                  0.011407                0.036998   \n",
       "\n",
       "           hpg_store_id  numeric_month  numeric_weekday  numeric_year  \\\n",
       "0                   NaN              1                5          2016   \n",
       "1                   NaN              1                5          2016   \n",
       "2  hpg_0dc016db530f5c33              1                5          2016   \n",
       "3                   NaN              1                5          2016   \n",
       "4                   NaN              1                5          2016   \n",
       "\n",
       "   visitors  \n",
       "0         8  \n",
       "1         8  \n",
       "2         7  \n",
       "3        56  \n",
       "4        62  "
      ]
     },
     "execution_count": 76,
     "metadata": {},
     "output_type": "execute_result"
    }
   ],
   "source": [
    "# Adds data from visit_date_df\n",
    "establishment_df = visit_date_df.copy()\n",
    "# Adds prediction variable ('visitors')\n",
    "establishment_df = establishment_df.merge(visitors_df, on='visit_date', how='outer')\n",
    "# Adds air_daily data\n",
    "establishment_df = establishment_df.merge(air_daily, on=['air_store_id', 'visit_date'], how='left')\n",
    "# Fills in missing air values with 0 (days that had no reservations)\n",
    "establishment_df.fillna(0, inplace=True)\n",
    "# Adds hpg and air relation\n",
    "establishment_df = establishment_df.merge(store_id_relation_df, on='air_store_id', how='left')\n",
    "# Adds hpg_daily data \n",
    "establishment_df = establishment_df.merge(hpg_daily, on=['hpg_store_id', 'visit_date'], how='left')\n",
    "# Fills in missing hpg values with 0 (days that had no reservations)\n",
    "establishment_df.loc[~establishment_df['hpg_store_id'].isnull(), :] = establishment_df.loc[~establishment_df['hpg_store_id'].isnull(), :].fillna(0)\n",
    "# Inputes in missing hpg values\n",
    "establishment_df = establishment_df.set_index('visit_date').combine_first(hpg_inputing).reset_index()\n",
    "# Adds the air store information ('air_genre_name', 'latitude', 'longitude')\n",
    "establishment_df = establishment_df.merge(air_store_info_df[['air_store_id', 'air_genre_name', 'latitude', 'longitude']], on='air_store_id')\n",
    "# Adds the hpg store information\n",
    "establishment_df = establishment_df.merge(hpg_store_info_df[['hpg_store_id', 'hpg_genre_name']], on='hpg_store_id', how='left')\n",
    "\n",
    "establishment_df.head()"
   ]
  },
  {
   "cell_type": "code",
   "execution_count": 89,
   "metadata": {},
   "outputs": [],
   "source": [
    "# Changes name to reuse old code\n",
    "restaurant_df = establishment_df.copy()\n",
    "\n",
    "restaurant_df['alcohol_served'] = np.NaN\n",
    "restaurant_df['food_served'] = np.NaN\n",
    "restaurant_df['themed_establishment'] = np.NaN\n",
    "restaurant_df['asian_establishment'] = np.NaN\n",
    "\n",
    "air_genres = list(restaurant_df['air_genre_name'].value_counts().index.values)\n",
    "for genre in air_genres:\n",
    "    # 'alcohol_served''\n",
    "    if (genre in ['Izakaya', 'Dining bar', 'Bar/Cocktail',  'Karaoke/Party']): \n",
    "        restaurant_df.loc[restaurant_df['air_genre_name'] == genre, 'alcohol_served'] = 1\n",
    "    else:\n",
    "        restaurant_df.loc[restaurant_df['air_genre_name'] == genre, 'alcohol_served'] = 0  \n",
    "    # 'food_served'\n",
    "    if (genre in ['Izakaya', 'Cafe/Sweets', 'Dining bar', 'Italian/French', 'Japanese food', 'Yakiniku/Korean food', \n",
    "                 'Western food', 'Creative cuisine', 'Okonomiyaki/Monja/Teppanyaki', 'International cuisine']):\n",
    "        restaurant_df.loc[restaurant_df['air_genre_name'] == genre, 'food_served'] = 1\n",
    "    else:\n",
    "        restaurant_df.loc[restaurant_df['air_genre_name'] == genre, 'food_served'] = 0\n",
    "    # 'themed_establishment'\n",
    "    if (genre in ['Karaoke/Party']):\n",
    "        restaurant_df.loc[restaurant_df['air_genre_name'] == genre, 'themed_establishment'] = 1\n",
    "    else:\n",
    "        restaurant_df.loc[restaurant_df['air_genre_name'] == genre, 'themed_establishment'] = 0  \n",
    "    # 'asian_establishment'\n",
    "    if (genre in ['Izakaya', 'Japanese food', 'Yakiniku/Korean food', 'Okonomiyaki/Monja/Teppanyaki', 'Asian', 'Karaoke/Party']): \n",
    "        restaurant_df.loc[restaurant_df['air_genre_name'] == genre, 'asian_establishment'] = 1\n",
    "    else:\n",
    "        restaurant_df.loc[restaurant_df['air_genre_name'] == genre, 'asian_establishment'] = 0\n",
    "\n",
    "hpg_genres = list(restaurant_df['hpg_genre_name'].value_counts().index.values)        \n",
    "for genre in hpg_genres:\n",
    "    # 'alcohol_served''\n",
    "    if (genre in ['Spain Bar/Italian Bar', 'Karaoke', 'Party', 'Bar/Cocktail', 'Amusement bar']): \n",
    "        restaurant_df.loc[restaurant_df['hpg_genre_name'] == genre, 'alcohol_served'] = 1\n",
    "    if (genre in ['Japanese style', 'International cuisine', 'Creation', 'Grilled meat', 'Italian', 'Seafood', \n",
    "                  'Japanese food in general', 'Chinese general', 'Shabu-shabu/Sukiyaki', 'Creative Japanese food',\n",
    "                  'Japanese cuisine/Kaiseki', 'Korean cuisine', 'Okonomiyaki/Monja/Teppanyaki', 'French', 'Steak/Hamburger/Curry',\n",
    "                  'Bistro', 'Cafe', 'Sushi', 'Pasta/Pizza', 'Thai/Vietnamese food', 'Western food', 'Cantonese food', 'Dim Sum/Dumplings',\n",
    "                  'Sichuan food', 'Sweets', 'Spain/Mediterranean cuisine', 'Udon/Soba', 'Shanghai food', 'Taiwanese/Hong Kong cuisine']):\n",
    "        restaurant_df.loc[restaurant_df['hpg_genre_name'] == genre, 'food_served'] = 1\n",
    "    # 'themed_establishment'\n",
    "    if (genre in ['Karaoke', 'Party', 'Amusement bar']):\n",
    "        restaurant_df.loc[restaurant_df['hpg_genre_name'] == genre, 'themed_establishment'] = 1\n",
    "    # 'asian_establishment'\n",
    "    if (genre in ['Japanese style', 'Grilled meat', 'Japanese food in general', 'Chinese general', 'Shabu-shabu/Sukiyaki',\n",
    "                  'Creative Japanese food', 'Japanese cuisine/Kaiseki', 'Korean cuisine', 'Okonomiyaki/Monja/Teppanyaki',\n",
    "                  'Steak/Hamburger/Curry', 'Party', 'Sushi', 'Thai/Vietnamese food', 'Amusement bar', 'Cantonese food',\n",
    "                  'Dim Sum/Dumplings', 'Sichuan food', 'Udon/Soba', 'Shanghai food', 'Taiwanese/Hong Kong cuisine']): \n",
    "        restaurant_df.loc[restaurant_df['hpg_genre_name'] == genre, 'asian_establishment'] = 1   "
   ]
  },
  {
   "cell_type": "code",
   "execution_count": 107,
   "metadata": {},
   "outputs": [],
   "source": [
    "# Indicator variable if establishment uses hpg system\n",
    "restaurant_df['hpg_system'] = 0\n",
    "restaurant_df.loc[~restaurant_df['hpg_store_id'].isnull(), 'hpg_system'] = 1\n",
    "\n",
    "# Creates sample_id and sets it as index\n",
    "restaurant_df['id'] = restaurant_df['air_store_id']+'_'+restaurant_df['visit_date'].astype(str)\n",
    "restaurant_df.set_index('id', inplace=True)\n",
    "# Drops columns not used in analysis\n",
    "restaurant_df.drop(['visit_date', 'air_store_id', 'hpg_store_id', 'air_genre_name', 'hpg_genre_name'], axis=1, inplace=True)\n",
    "\n",
    "# Removes prediction data \n",
    "prediction_df = restaurant_df.loc[restaurant_df['visitors'] == 0, :].copy()\n",
    "prediction_df.drop('visitors', axis=1, inplace=True)\n",
    "\n",
    "# Data to build model\n",
    "model_df = restaurant_df.loc[restaurant_df['visitors'] > 0, :].copy()"
   ]
  },
  {
   "cell_type": "markdown",
   "metadata": {},
   "source": [
    "# Model Building"
   ]
  },
  {
   "cell_type": "code",
   "execution_count": 126,
   "metadata": {},
   "outputs": [
    {
     "name": "stdout",
     "output_type": "stream",
     "text": [
      "Train shape: (201686, 17)\n",
      "Test shape: (50422, 17)\n"
     ]
    }
   ],
   "source": [
    "X = model_df.drop('visitors', axis=1).copy()\n",
    "y = model_df['visitors'].copy()\n",
    "\n",
    "X_train, X_test, y_train, y_test = train_test_split(X, y, test_size=0.2, random_state=221986)\n",
    "\n",
    "print('Train shape: {}'.format(X_train.shape))\n",
    "print('Test shape: {}'.format(X_test.shape))"
   ]
  },
  {
   "cell_type": "code",
   "execution_count": 148,
   "metadata": {},
   "outputs": [],
   "source": [
    "num_features = ['air_daily_avg_RVD', 'air_daily_visitors_count', 'air_daily_visitors_sum', 'hpg_daily_avg_RVD',\n",
    " 'hpg_daily_visitors_count', 'hpg_daily_visitors_sum', 'numeric_month', 'numeric_weekday', \n",
    " 'numeric_year', 'latitude', 'longitude']\n",
    "bin_features = ['holiday_flg', 'alcohol_served', 'food_served', 'themed_establishment', 'asian_establishment', 'hpg_system']\n",
    "\n",
    "X_train_num = X_train[num_features]\n",
    "X_test_num = X_test[num_features]\n",
    "\n",
    "scaler = StandardScaler()\n",
    "X_train_scaled = pd.DataFrame(scaler.fit_transform(X_train_num), columns=num_features, index=X_train.index).merge(X_train[bin_features], left_index=True, right_index=True)\n",
    "X_test_scaled = pd.DataFrame(scaler.transform(X_test_num), columns=num_features, index=X_test.index).merge(X_test[bin_features], left_index=True, right_index=True)"
   ]
  },
  {
   "cell_type": "code",
   "execution_count": 140,
   "metadata": {},
   "outputs": [
    {
     "name": "stdout",
     "output_type": "stream",
     "text": [
      "Train Set RMSLE: 0.6504\n",
      "Test Set RMSLE: 0.7072\n"
     ]
    }
   ],
   "source": [
    "# Uses np.lop1p()\n",
    "regr = DecisionTreeRegressor(random_state=221986, max_depth=15, max_features='auto', criterion='friedman_mse', splitter='best')\n",
    "regr.fit(X_train, np.log1p(y_train))\n",
    "\n",
    "print('Train Set RMSLE: {:.4f}'.format(rmsle(y_train, np.expm1((regr.predict(X_train))))))\n",
    "print('Test Set RMSLE: {:.4f}'.format(rmsle(y_test, np.expm1((regr.predict(X_test))))))"
   ]
  },
  {
   "cell_type": "code",
   "execution_count": 158,
   "metadata": {},
   "outputs": [
    {
     "name": "stdout",
     "output_type": "stream",
     "text": [
      "Train Set RMSLE: 0.6673\n",
      "Test Set RMSLE: 0.7078\n"
     ]
    }
   ],
   "source": [
    "# Uses np.lop1p() and StandardScaler features\n",
    "regr = DecisionTreeRegressor(random_state=221986, max_depth=14, max_features='auto', criterion='mse', splitter='best')\n",
    "regr.fit(X_train_scaled, np.log1p(y_train))\n",
    "\n",
    "print('Train Set RMSLE: {:.4f}'.format(rmsle(y_train, np.expm1((regr.predict(X_train_scaled))))))\n",
    "print('Test Set RMSLE: {:.4f}'.format(rmsle(y_test, np.expm1((regr.predict(X_test_scaled))))))"
   ]
  },
  {
   "cell_type": "code",
   "execution_count": 161,
   "metadata": {},
   "outputs": [
    {
     "name": "stdout",
     "output_type": "stream",
     "text": [
      "Train Set RMSLE: 0.6504\n",
      "Test Set RMSLE: 0.7077\n"
     ]
    }
   ],
   "source": [
    "# Uses np.lop1p()\n",
    "regr = DecisionTreeRegressor(random_state=221986, max_depth=15, max_features='auto', criterion='mse', splitter='best')\n",
    "regr.fit(X_train, np.log1p(y_train))\n",
    "\n",
    "print('Train Set RMSLE: {:.4f}'.format(rmsle(y_train, np.expm1((regr.predict(X_train))))))\n",
    "print('Test Set RMSLE: {:.4f}'.format(rmsle(y_test, np.expm1((regr.predict(X_test))))))"
   ]
  },
  {
   "cell_type": "code",
   "execution_count": 162,
   "metadata": {
    "scrolled": true
   },
   "outputs": [
    {
     "name": "stdout",
     "output_type": "stream",
     "text": [
      "Features Importance\n",
      "1. latitude (0.191330)\n",
      "2. longitude (0.178392)\n",
      "3. air_daily_visitors_sum (0.144509)\n",
      "4. numeric_weekday (0.115897)\n",
      "5. food_served (0.059517)\n",
      "6. alcohol_served (0.051292)\n",
      "7. hpg_daily_visitors_count (0.051239)\n",
      "8. asian_establishment (0.044605)\n",
      "9. hpg_daily_avg_RVD (0.038017)\n",
      "10. hpg_daily_visitors_sum (0.035510)\n",
      "11. numeric_month (0.032699)\n",
      "12. hpg_system (0.016216)\n",
      "13. air_daily_avg_RVD (0.013122)\n",
      "14. holiday_flg (0.011732)\n",
      "15. numeric_year (0.008245)\n",
      "16. air_daily_visitors_count (0.006807)\n",
      "17. themed_establishment (0.000872)\n"
     ]
    }
   ],
   "source": [
    "# Print the feature ranking\n",
    "importances = regr.feature_importances_\n",
    "indices = np.argsort(importances)[::-1]\n",
    "print('Features Importance')\n",
    "for f in range(X.shape[1]):\n",
    "    print(\"%d. %s (%f)\" % (f + 1, X_train.columns[indices[f]], importances[indices[f]]))"
   ]
  },
  {
   "cell_type": "code",
   "execution_count": 165,
   "metadata": {},
   "outputs": [
    {
     "data": {
      "text/plain": [
       "array([[<matplotlib.axes._subplots.AxesSubplot object at 0x0000015FB67BEC50>,\n",
       "        <matplotlib.axes._subplots.AxesSubplot object at 0x0000015FB67D6C18>,\n",
       "        <matplotlib.axes._subplots.AxesSubplot object at 0x0000015FB76F5BE0>,\n",
       "        <matplotlib.axes._subplots.AxesSubplot object at 0x0000015FB6AA7F60>,\n",
       "        <matplotlib.axes._subplots.AxesSubplot object at 0x0000015FB6AC5FD0>,\n",
       "        <matplotlib.axes._subplots.AxesSubplot object at 0x0000015FB6ACE048>],\n",
       "       [<matplotlib.axes._subplots.AxesSubplot object at 0x0000015FB6B219B0>,\n",
       "        <matplotlib.axes._subplots.AxesSubplot object at 0x0000015FB6B5F0F0>,\n",
       "        <matplotlib.axes._subplots.AxesSubplot object at 0x0000015FB6B6C0B8>,\n",
       "        <matplotlib.axes._subplots.AxesSubplot object at 0x0000015FB6BC24E0>,\n",
       "        <matplotlib.axes._subplots.AxesSubplot object at 0x0000015FB6BF2FD0>,\n",
       "        <matplotlib.axes._subplots.AxesSubplot object at 0x0000015FB6C356A0>],\n",
       "       [<matplotlib.axes._subplots.AxesSubplot object at 0x0000015FB78DBBE0>,\n",
       "        <matplotlib.axes._subplots.AxesSubplot object at 0x0000015FB790E9B0>,\n",
       "        <matplotlib.axes._subplots.AxesSubplot object at 0x0000015FC31E9160>,\n",
       "        <matplotlib.axes._subplots.AxesSubplot object at 0x0000015FC321F780>,\n",
       "        <matplotlib.axes._subplots.AxesSubplot object at 0x0000015FC324FE80>,\n",
       "        <matplotlib.axes._subplots.AxesSubplot object at 0x0000015FC327E1D0>],\n",
       "       [<matplotlib.axes._subplots.AxesSubplot object at 0x0000015FC32C3390>,\n",
       "        <matplotlib.axes._subplots.AxesSubplot object at 0x0000015FC32F4E80>,\n",
       "        <matplotlib.axes._subplots.AxesSubplot object at 0x0000015FC3335550>,\n",
       "        <matplotlib.axes._subplots.AxesSubplot object at 0x0000015FC336AB70>,\n",
       "        <matplotlib.axes._subplots.AxesSubplot object at 0x0000015FC339C780>,\n",
       "        <matplotlib.axes._subplots.AxesSubplot object at 0x0000015FC33CDF60>],\n",
       "       [<matplotlib.axes._subplots.AxesSubplot object at 0x0000015FC340D5C0>,\n",
       "        <matplotlib.axes._subplots.AxesSubplot object at 0x0000015FC3440CC0>,\n",
       "        <matplotlib.axes._subplots.AxesSubplot object at 0x0000015FC3461860>,\n",
       "        <matplotlib.axes._subplots.AxesSubplot object at 0x0000015FC34B2160>,\n",
       "        <matplotlib.axes._subplots.AxesSubplot object at 0x0000015FC34E2C50>,\n",
       "        <matplotlib.axes._subplots.AxesSubplot object at 0x0000015FC3524320>],\n",
       "       [<matplotlib.axes._subplots.AxesSubplot object at 0x0000015FC355B940>,\n",
       "        <matplotlib.axes._subplots.AxesSubplot object at 0x0000015FC358A550>,\n",
       "        <matplotlib.axes._subplots.AxesSubplot object at 0x0000015FC35BCD30>,\n",
       "        <matplotlib.axes._subplots.AxesSubplot object at 0x0000015FC35FE390>,\n",
       "        <matplotlib.axes._subplots.AxesSubplot object at 0x0000015FC4E4FA90>,\n",
       "        <matplotlib.axes._subplots.AxesSubplot object at 0x0000015FC4E6FCC0>]], dtype=object)"
      ]
     },
     "execution_count": 165,
     "metadata": {},
     "output_type": "execute_result"
    },
    {
     "data": {
      "image/png": "[encoded data removed]",
      "text/plain": [
       "<matplotlib.figure.Figure at 0x15fb67be780>"
      ]
     },
     "metadata": {},
     "output_type": "display_data"
    }
   ],
   "source": [
    "from pandas.plotting import scatter_matrix\n",
    "\n",
    "scatter_matrix(model_df[['air_daily_avg_RVD', 'air_daily_visitors_count', 'air_daily_visitors_sum', 'hpg_daily_avg_RVD',\n",
    " 'hpg_daily_visitors_count', 'hpg_daily_visitors_sum']], figsize=(20,12))"
   ]
  },
  {
   "cell_type": "code",
   "execution_count": null,
   "metadata": {},
   "outputs": [],
   "source": []
  }
 ],
 "metadata": {
  "kernelspec": {
   "display_name": "Python 3",
   "language": "python",
   "name": "python3"
  },
  "language_info": {
   "codemirror_mode": {
    "name": "ipython",
    "version": 3
   },
   "file_extension": ".py",
   "mimetype": "text/x-python",
   "name": "python",
   "nbconvert_exporter": "python",
   "pygments_lexer": "ipython3",
   "version": "3.6.3"
  }
 },
 "nbformat": 4,
 "nbformat_minor": 2
}
